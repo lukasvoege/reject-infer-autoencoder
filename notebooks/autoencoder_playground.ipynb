{
 "cells": [
  {
   "cell_type": "markdown",
   "metadata": {},
   "source": [
    "# Autoencoder test\n",
    "based on https://debuggercafe.com/implementing-deep-autoencoder-in-pytorch/"
   ]
  },
  {
   "cell_type": "markdown",
   "metadata": {},
   "source": [
    "## Load the libraries"
   ]
  },
  {
   "cell_type": "code",
   "execution_count": 1,
   "metadata": {},
   "outputs": [],
   "source": [
    "import pandas as pd\n",
    "import numpy as np\n",
    "import torch\n",
    "import torch.nn as nn\n",
    "import torch.optim as optim\n",
    "from sklearn.model_selection import train_test_split\n",
    "import torch.utils.data as data_utils\n",
    "import matplotlib.pyplot as plt"
   ]
  },
  {
   "cell_type": "markdown",
   "metadata": {},
   "source": [
    "## Load the same dataset as in playground"
   ]
  },
  {
   "cell_type": "code",
   "execution_count": 2,
   "metadata": {},
   "outputs": [
    {
     "name": "stdout",
     "output_type": "stream",
     "text": [
      "(150000, 68)\n"
     ]
    }
   ],
   "source": [
    "complete_data = pd.read_csv(f'../prepared_data/gmsc.csv', sep=',')\n",
    "complete_data['BAD'] = np.where(complete_data['BAD'] == 'BAD', 1, 0).astype(np.int64)\n",
    "complete_X = complete_data.iloc[:, complete_data.columns != 'BAD']\n",
    "complete_y = complete_data['BAD']\n",
    "print(complete_X.shape)"
   ]
  },
  {
   "cell_type": "code",
   "execution_count": 3,
   "metadata": {},
   "outputs": [],
   "source": [
    "## Make test and train set"
   ]
  },
  {
   "cell_type": "code",
   "execution_count": 4,
   "metadata": {},
   "outputs": [],
   "source": [
    "trainset, testset, train_y, test_y = train_test_split(complete_X, complete_y, test_size=0.1, stratify=complete_y, random_state=123)"
   ]
  },
  {
   "cell_type": "markdown",
   "metadata": {},
   "source": [
    "Pytorch usually expects a tensor (multidimensional matrix) we need to create one from our dataset"
   ]
  },
  {
   "cell_type": "code",
   "execution_count": 5,
   "metadata": {},
   "outputs": [],
   "source": [
    "train_data = data_utils.TensorDataset(torch.Tensor(trainset.values), torch.Tensor(train_y.values))"
   ]
  },
  {
   "cell_type": "markdown",
   "metadata": {},
   "source": [
    "## Data preparation\n",
    "\n",
    "set some training variables and initialize the data loader"
   ]
  },
  {
   "cell_type": "code",
   "execution_count": 6,
   "metadata": {},
   "outputs": [],
   "source": [
    "BATCH_SIZE = 1000\n",
    "NUM_EPOCHS = 50\n",
    "\n",
    "trainloader = data_utils.DataLoader(\n",
    "    train_data, \n",
    "    batch_size=BATCH_SIZE,\n",
    "    shuffle=True\n",
    ")"
   ]
  },
  {
   "cell_type": "markdown",
   "metadata": {},
   "source": [
    "## Build an autoencoder class\n",
    "The class expects the number of features to match the input/output size. Then it builds an tiny autoencoder with two layers.\n",
    "\n",
    "Idealy we would make this more custumizable to change more parameters to compare them with each other."
   ]
  },
  {
   "cell_type": "code",
   "execution_count": 7,
   "metadata": {},
   "outputs": [
    {
     "name": "stdout",
     "output_type": "stream",
     "text": [
      "autoencoder(\n",
      "  (enc1): Linear(in_features=68, out_features=5, bias=True)\n",
      "  (enc2): Linear(in_features=5, out_features=2, bias=True)\n",
      "  (dec2): Linear(in_features=2, out_features=5, bias=True)\n",
      "  (dec1): Linear(in_features=5, out_features=68, bias=True)\n",
      ")\n"
     ]
    }
   ],
   "source": [
    "class autoencoder(nn.Module):\n",
    "    def __init__(self, features):\n",
    "        super(autoencoder,self).__init__()\n",
    "\n",
    "        self.enc1 = nn.Linear(in_features = features, out_features=5)\n",
    "        self.enc2 = nn.Linear(in_features = 5, out_features=2)\n",
    "\n",
    "        self.dec2 = nn.Linear(in_features = 2, out_features = 5)\n",
    "        self.dec1 = nn.Linear(in_features = 5, out_features = features)\n",
    "\n",
    "    def forward(self, x):\n",
    "        x = nn.functional.relu(self.enc1(x))\n",
    "        x = nn.functional.relu(self.enc2(x))\n",
    "        x = nn.functional.relu(self.dec2(x))\n",
    "        x = nn.functional.relu(self.dec1(x))\n",
    "        return x\n",
    "\n",
    "net = autoencoder(trainset.shape[1])\n",
    "print(net)"
   ]
  },
  {
   "cell_type": "markdown",
   "metadata": {},
   "source": [
    "## Define the training on any autoencoder"
   ]
  },
  {
   "cell_type": "code",
   "execution_count": 8,
   "metadata": {},
   "outputs": [],
   "source": [
    "def train(net, trainloader, epochs):\n",
    "    criterion = nn.MSELoss()\n",
    "    optimizer = optim.Adam(net.parameters(),lr=1e-3)\n",
    "\n",
    "    train_loss = []\n",
    "    for epoch in range(epochs):\n",
    "        running_loss = 0.0\n",
    "        for data in trainloader:\n",
    "            features, _ = data\n",
    "            optimizer.zero_grad()\n",
    "            outputs = net(features)\n",
    "            loss = criterion(outputs, features)\n",
    "            loss.backward()\n",
    "            optimizer.step()\n",
    "            running_loss += loss.item()\n",
    "\n",
    "        loss = running_loss / len(trainloader)\n",
    "        train_loss.append(loss)\n",
    "        \n",
    "        print('Epoch {} of {}, Train Loss: {:.3f}'.format(epoch+1, NUM_EPOCHS, loss))\n",
    "\n",
    "    return outputs, train_loss"
   ]
  },
  {
   "cell_type": "markdown",
   "metadata": {},
   "source": [
    "## Load the autoencoder network"
   ]
  },
  {
   "cell_type": "code",
   "execution_count": 9,
   "metadata": {},
   "outputs": [
    {
     "name": "stdout",
     "output_type": "stream",
     "text": [
      "cpu\n"
     ]
    },
    {
     "data": {
      "text/plain": [
       "autoencoder(\n",
       "  (enc1): Linear(in_features=68, out_features=5, bias=True)\n",
       "  (enc2): Linear(in_features=5, out_features=2, bias=True)\n",
       "  (dec2): Linear(in_features=2, out_features=5, bias=True)\n",
       "  (dec1): Linear(in_features=5, out_features=68, bias=True)\n",
       ")"
      ]
     },
     "execution_count": 9,
     "metadata": {},
     "output_type": "execute_result"
    }
   ],
   "source": [
    "def get_device():\n",
    "    if torch.cuda.is_available():\n",
    "        device = 'cuda:0'\n",
    "    else:\n",
    "        device = 'cpu'\n",
    "    return device\n",
    "\n",
    "device = get_device()\n",
    "print(device)\n",
    "# load the neural network onto the device\n",
    "net.to(device)"
   ]
  },
  {
   "cell_type": "markdown",
   "metadata": {},
   "source": [
    "## Train \\o/"
   ]
  },
  {
   "cell_type": "code",
   "execution_count": 10,
   "metadata": {},
   "outputs": [
    {
     "name": "stdout",
     "output_type": "stream",
     "text": [
      "Epoch 1 of 50, Train Loss: 2970634.231\n",
      "Epoch 2 of 50, Train Loss: 2900303.589\n",
      "Epoch 3 of 50, Train Loss: 2797608.410\n",
      "Epoch 4 of 50, Train Loss: 2649546.505\n",
      "Epoch 5 of 50, Train Loss: 2343499.830\n",
      "Epoch 6 of 50, Train Loss: 1891224.641\n",
      "Epoch 7 of 50, Train Loss: 1393842.245\n",
      "Epoch 8 of 50, Train Loss: 920439.009\n",
      "Epoch 9 of 50, Train Loss: 577345.090\n",
      "Epoch 10 of 50, Train Loss: 353962.619\n",
      "Epoch 11 of 50, Train Loss: 260759.164\n",
      "Epoch 12 of 50, Train Loss: 235046.036\n",
      "Epoch 13 of 50, Train Loss: 230463.334\n",
      "Epoch 14 of 50, Train Loss: 229533.310\n",
      "Epoch 15 of 50, Train Loss: 229274.647\n",
      "Epoch 16 of 50, Train Loss: 229106.397\n",
      "Epoch 17 of 50, Train Loss: 228916.094\n",
      "Epoch 18 of 50, Train Loss: 228783.499\n",
      "Epoch 19 of 50, Train Loss: 228616.579\n",
      "Epoch 20 of 50, Train Loss: 228471.227\n",
      "Epoch 21 of 50, Train Loss: 228362.322\n",
      "Epoch 22 of 50, Train Loss: 228224.326\n",
      "Epoch 23 of 50, Train Loss: 228127.968\n",
      "Epoch 24 of 50, Train Loss: 228014.676\n",
      "Epoch 25 of 50, Train Loss: 227952.424\n",
      "Epoch 26 of 50, Train Loss: 227891.326\n",
      "Epoch 27 of 50, Train Loss: 227800.406\n",
      "Epoch 28 of 50, Train Loss: 227747.158\n",
      "Epoch 29 of 50, Train Loss: 227691.910\n",
      "Epoch 30 of 50, Train Loss: 227634.425\n",
      "Epoch 31 of 50, Train Loss: 227610.782\n",
      "Epoch 32 of 50, Train Loss: 227575.613\n",
      "Epoch 33 of 50, Train Loss: 227547.216\n",
      "Epoch 34 of 50, Train Loss: 227524.399\n",
      "Epoch 35 of 50, Train Loss: 227507.891\n",
      "Epoch 36 of 50, Train Loss: 227492.746\n",
      "Epoch 37 of 50, Train Loss: 227483.065\n",
      "Epoch 38 of 50, Train Loss: 227475.500\n",
      "Epoch 39 of 50, Train Loss: 227466.871\n",
      "Epoch 40 of 50, Train Loss: 227464.189\n",
      "Epoch 41 of 50, Train Loss: 227460.330\n",
      "Epoch 42 of 50, Train Loss: 227458.460\n",
      "Epoch 43 of 50, Train Loss: 227457.119\n",
      "Epoch 44 of 50, Train Loss: 227456.066\n",
      "Epoch 45 of 50, Train Loss: 227455.311\n",
      "Epoch 46 of 50, Train Loss: 227455.297\n",
      "Epoch 47 of 50, Train Loss: 227454.612\n",
      "Epoch 48 of 50, Train Loss: 227454.496\n",
      "Epoch 49 of 50, Train Loss: 227454.632\n",
      "Epoch 50 of 50, Train Loss: 227454.292\n"
     ]
    }
   ],
   "source": [
    "trained_data, train_loss = train(net, trainloader, NUM_EPOCHS)"
   ]
  },
  {
   "cell_type": "markdown",
   "metadata": {},
   "source": [
    "## How did it go?"
   ]
  },
  {
   "cell_type": "code",
   "execution_count": 11,
   "metadata": {},
   "outputs": [
    {
     "data": {
      "text/plain": [
       "<module 'matplotlib.pyplot' from 'C:\\\\Users\\\\haase.PAPMEIER\\\\AppData\\\\Local\\\\Packages\\\\PythonSoftwareFoundation.Python.3.9_qbz5n2kfra8p0\\\\LocalCache\\\\local-packages\\\\Python39\\\\site-packages\\\\matplotlib\\\\pyplot.py'>"
      ]
     },
     "execution_count": 11,
     "metadata": {},
     "output_type": "execute_result"
    },
    {
     "data": {
      "image/png": "[encoded data removed]",
      "text/plain": [
       "<Figure size 432x288 with 1 Axes>"
      ]
     },
     "metadata": {
      "needs_background": "light"
     },
     "output_type": "display_data"
    }
   ],
   "source": [
    "plt.figure()\n",
    "plt.plot(train_loss)\n",
    "plt.title('Train Loss')\n",
    "plt.xlabel('Epochs')\n",
    "plt.ylabel('Loss')\n",
    "plt"
   ]
  }
 ],
 "metadata": {
  "interpreter": {
   "hash": "27377a24656f16c7763d6e582fb7acd92211fc045094d5889878cd09fb47e40b"
  },
  "kernelspec": {
   "display_name": "Python 3.9.9 64-bit (windows store)",
   "language": "python",
   "name": "python3"
  },
  "language_info": {
   "codemirror_mode": {
    "name": "ipython",
    "version": 3
   },
   "file_extension": ".py",
   "mimetype": "text/x-python",
   "name": "python",
   "nbconvert_exporter": "python",
   "pygments_lexer": "ipython3",
   "version": "3.9.10"
  },
  "orig_nbformat": 4
 },
 "nbformat": 4,
 "nbformat_minor": 2
}
