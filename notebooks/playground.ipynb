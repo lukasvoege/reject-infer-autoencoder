{
 "cells": [
  {
   "cell_type": "code",
   "execution_count": 59,
   "metadata": {},
   "outputs": [],
   "source": [
    "import sys\n",
    "sys.path.append('../src')\n",
    "\n",
    "import importlib\n",
    "import dyn_accept_loop as dal\n",
    "import logreg_augmented as lra\n",
    "importlib.reload(dal)\n",
    "\n",
    "import matplotlib.pyplot as plt\n",
    "\n",
    "import lightgbm as lgbm\n",
    "from sklearn.tree import DecisionTreeClassifier\n",
    "from sklearn.linear_model import LogisticRegression\n",
    "\n",
    "import torch"
   ]
  },
  {
   "cell_type": "markdown",
   "metadata": {},
   "source": [
    "## Test importable Dynamic Acceptance Loop"
   ]
  },
  {
   "cell_type": "code",
   "execution_count": 47,
   "metadata": {},
   "outputs": [
    {
     "name": "stdout",
     "output_type": "stream",
     "text": [
      "Itteration: 0) Accepted: 1822 | Denied: 4253 - New train set size: (16822, 68)\n",
      "Itteration: 1) Accepted: 1822 | Denied: 4253 - New train set size: (18644, 68)\n",
      "Itteration: 2) Accepted: 1822 | Denied: 4253 - New train set size: (20466, 68)\n",
      "Itteration: 3) Accepted: 1822 | Denied: 4253 - New train set size: (22288, 68)\n",
      "Itteration: 4) Accepted: 1822 | Denied: 4253 - New train set size: (24110, 68)\n",
      "Itteration: 5) Accepted: 1822 | Denied: 4253 - New train set size: (25932, 68)\n",
      "Itteration: 6) Accepted: 1822 | Denied: 4253 - New train set size: (27754, 68)\n",
      "Itteration: 7) Accepted: 1822 | Denied: 4253 - New train set size: (29576, 68)\n",
      "Itteration: 8) Accepted: 1822 | Denied: 4253 - New train set size: (31398, 68)\n",
      "Itteration: 9) Accepted: 1822 | Denied: 4253 - New train set size: (33220, 68)\n",
      "Itteration: 10) Accepted: 1822 | Denied: 4253 - New train set size: (35042, 68)\n",
      "Itteration: 11) Accepted: 1822 | Denied: 4253 - New train set size: (36864, 68)\n",
      "Itteration: 12) Accepted: 1822 | Denied: 4253 - New train set size: (38686, 68)\n",
      "Itteration: 13) Accepted: 1822 | Denied: 4253 - New train set size: (40508, 68)\n",
      "Itteration: 14) Accepted: 1822 | Denied: 4253 - New train set size: (42330, 68)\n",
      "Itteration: 15) Accepted: 1822 | Denied: 4253 - New train set size: (44152, 68)\n",
      "Itteration: 16) Accepted: 1822 | Denied: 4253 - New train set size: (45974, 68)\n",
      "Itteration: 17) Accepted: 1822 | Denied: 4253 - New train set size: (47796, 68)\n",
      "Itteration: 18) Accepted: 1822 | Denied: 4253 - New train set size: (49618, 68)\n",
      "Itteration: 19) Accepted: 1822 | Denied: 4253 - New train set size: (51440, 68)\n"
     ]
    },
    {
     "data": {
      "image/png": "[encoded data removed]",
      "text/plain": [
       "<Figure size 432x288 with 1 Axes>"
      ]
     },
     "metadata": {
      "needs_background": "light"
     },
     "output_type": "display_data"
    }
   ],
   "source": [
    "n_years = 20\n",
    "\n",
    "model = lgbm.LGBMClassifier() #DecisionTreeClassifier(min_samples_leaf=40) #lgbm.LGBMClassifier() #LogisticRegression(max_iter=400)\n",
    "\n",
    "sim = dal.Simulate_acceptance_loop(\"gmsc.csv\", model, 0.1, 0.1, n_years, enc_features=False)\n",
    "results_generator = sim.run()\n",
    "\n",
    "metrics = None\n",
    "for iteration in results_generator:\n",
    "    print(f'Itteration: {iteration[0]}) Accepted: {iteration[1].count(True)} | Denied: {iteration[1].count(False)} - New train set size: {iteration[2]}')\n",
    "    metrics = iteration[3]\n",
    "    \n",
    "x = range(1, n_years + 1)\n",
    "plt.plot(x, metrics[\"model\"][\"holdout\"]['roc_auc'], label = 'roc_auc-model')\n",
    "plt.plot(x, metrics[\"oracle\"][\"holdout\"]['roc_auc'], label = 'roc_auc-oracle')\n",
    "#plt.plot(x, results[\"holdout\"]['precision'], label = 'precision')\n",
    "#plt.plot(x, results[\"holdout\"]['f1'], label = 'f1')\n",
    "#plt.plot(x, results[\"holdout\"]['accuracy'], label = 'accuracy')\n",
    "plt.legend()\n",
    "plt.ylim([0.5, 1.0])\n",
    "plt.show()"
   ]
  },
  {
   "cell_type": "markdown",
   "metadata": {},
   "source": [
    "## Test importable Autoencoder"
   ]
  },
  {
   "cell_type": "code",
   "execution_count": 48,
   "metadata": {},
   "outputs": [
    {
     "data": {
      "text/plain": [
       "<module 'autoencoder' from 'c:\\\\Projects\\\\Information-Systems-Seminar\\\\reject-infer-autoencoder\\\\notebooks\\\\../src\\\\autoencoder.py'>"
      ]
     },
     "execution_count": 48,
     "metadata": {},
     "output_type": "execute_result"
    }
   ],
   "source": [
    "import autoencoder as aenc\n",
    "import importlib\n",
    "importlib.reload(aenc)"
   ]
  },
  {
   "cell_type": "code",
   "execution_count": 61,
   "metadata": {},
   "outputs": [
    {
     "name": "stdout",
     "output_type": "stream",
     "text": [
      "Autoencoder(\n",
      "  (enc): ModuleList(\n",
      "    (0): Linear(in_features=68, out_features=55, bias=True)\n",
      "    (1): Linear(in_features=55, out_features=40, bias=True)\n",
      "  )\n",
      "  (dec): ModuleList(\n",
      "    (0): Linear(in_features=40, out_features=55, bias=True)\n",
      "    (1): Linear(in_features=55, out_features=68, bias=True)\n",
      "  )\n",
      ")\n",
      "Epoch 1 of 20, Train Loss: 0.755\n",
      "Epoch 2 of 20, Train Loss: 0.591\n",
      "Epoch 3 of 20, Train Loss: 0.572\n",
      "Epoch 4 of 20, Train Loss: 0.568\n",
      "Epoch 5 of 20, Train Loss: 0.565\n",
      "Epoch 6 of 20, Train Loss: 0.564\n",
      "Epoch 7 of 20, Train Loss: 0.563\n",
      "Epoch 8 of 20, Train Loss: 0.563\n",
      "Epoch 9 of 20, Train Loss: 0.562\n",
      "Epoch 10 of 20, Train Loss: 0.561\n",
      "Epoch 11 of 20, Train Loss: 0.561\n",
      "Epoch 12 of 20, Train Loss: 0.561\n",
      "Epoch 13 of 20, Train Loss: 0.560\n",
      "Epoch 14 of 20, Train Loss: 0.560\n",
      "Epoch 15 of 20, Train Loss: 0.560\n",
      "Epoch 16 of 20, Train Loss: 0.559\n",
      "Epoch 17 of 20, Train Loss: 0.559\n",
      "Epoch 18 of 20, Train Loss: 0.559\n",
      "Epoch 19 of 20, Train Loss: 0.559\n",
      "Epoch 20 of 20, Train Loss: 0.559\n"
     ]
    },
    {
     "data": {
      "image/png": "[encoded data removed]",
      "text/plain": [
       "<Figure size 432x288 with 1 Axes>"
      ]
     },
     "metadata": {
      "needs_background": "light"
     },
     "output_type": "display_data"
    }
   ],
   "source": [
    "BATCH_SIZE = 1000\n",
    "EPOCHS = 20\n",
    "\n",
    "dataset = aenc.CreditscoringDataset(\"gmsc.csv\")      # load and prepare Dataset to Tensor\n",
    "data_loader = aenc.DataLoader(                       # create Dataloader for batching\n",
    "    dataset, \n",
    "    batch_size=BATCH_SIZE,\n",
    "    shuffle=True\n",
    ")\n",
    "\n",
    "shape = [dataset.x.shape[1], 55, 40, 55, dataset.x.shape[1]]  # define shape of Autoencoder\n",
    "net = aenc.Autoencoder(shape)\n",
    "print(net)\n",
    "net.to(\"cpu\")\n",
    "\n",
    "train_loss = aenc.train(net, data_loader, EPOCHS)               \n",
    "\n",
    "plt.figure()\n",
    "plt.plot(train_loss)\n",
    "plt.title('Train Loss')\n",
    "plt.xlabel('Epochs')\n",
    "plt.ylabel('Loss')\n",
    "plt.show()"
   ]
  },
  {
   "cell_type": "code",
   "execution_count": 23,
   "metadata": {},
   "outputs": [
    {
     "name": "stdout",
     "output_type": "stream",
     "text": [
      "tensor([[0.5331, 1.2034, 0.4091, 0.5958, 0.4521, 0.0815, 1.1144, 0.5267, 0.3226,\n",
      "         1.0890, 1.3357, 0.0000, 0.5864, 1.6515, 0.8185, 1.4820, 0.8401, 0.0000,\n",
      "         1.9318, 0.7730],\n",
      "        [0.2238, 1.3025, 0.5040, 1.4982, 0.3833, 0.0000, 1.6878, 1.0483, 1.0860,\n",
      "         1.2475, 1.5237, 0.5341, 1.0013, 1.4102, 1.3380, 1.6233, 1.3297, 0.0000,\n",
      "         1.6822, 1.1371],\n",
      "        [1.5907, 1.9225, 1.1669, 1.5267, 0.9853, 0.6198, 0.6553, 1.0212, 1.5926,\n",
      "         1.7267, 2.3923, 0.8081, 0.9168, 1.8998, 0.9668, 1.1141, 0.8389, 0.8152,\n",
      "         1.8990, 0.3530],\n",
      "        [0.9352, 1.8761, 1.1248, 1.2468, 0.3903, 0.5225, 1.1769, 1.2551, 1.2557,\n",
      "         1.5612, 2.4387, 1.1488, 0.9080, 0.9372, 1.2107, 0.7984, 0.3952, 0.6240,\n",
      "         1.6214, 1.1818],\n",
      "        [1.4018, 1.6206, 1.2932, 1.3885, 0.3759, 1.4199, 1.0626, 0.9025, 0.4013,\n",
      "         1.1553, 2.1911, 0.1558, 1.0536, 1.3317, 0.4294, 0.5037, 1.2748, 0.1306,\n",
      "         1.4236, 0.9085],\n",
      "        [0.5639, 1.0265, 0.2864, 0.0622, 0.6123, 0.6585, 0.4323, 0.3966, 0.5008,\n",
      "         0.8615, 1.0288, 0.0388, 0.2212, 1.2426, 0.2819, 0.8070, 0.5684, 0.0974,\n",
      "         1.4639, 0.4882],\n",
      "        [1.5990, 1.8271, 1.1651, 1.1842, 0.7448, 1.2342, 1.4594, 0.6030, 0.6136,\n",
      "         1.1135, 1.9617, 0.0000, 1.6032, 1.8490, 0.9367, 0.9680, 0.3824, 0.8978,\n",
      "         1.6274, 0.0000],\n",
      "        [1.5466, 2.3057, 0.7645, 1.7330, 0.2105, 0.8723, 0.9475, 1.2453, 1.8045,\n",
      "         1.5845, 2.5147, 0.4335, 1.3877, 1.6855, 1.1415, 0.7472, 0.9925, 1.1235,\n",
      "         1.9528, 0.7960],\n",
      "        [0.8934, 1.4179, 0.8184, 0.3115, 0.7125, 1.0163, 0.5253, 0.3304, 0.4531,\n",
      "         0.7389, 1.3940, 0.3110, 0.2722, 1.1931, 0.4858, 0.6704, 0.5583, 0.3773,\n",
      "         1.2779, 0.1105],\n",
      "        [0.8991, 1.1302, 0.4397, 1.6475, 0.7519, 0.7784, 1.4490, 1.1155, 0.8922,\n",
      "         0.6612, 1.2693, 0.6625, 0.8971, 1.2081, 1.3846, 1.0773, 1.4862, 0.0000,\n",
      "         1.2752, 0.9218]])\n"
     ]
    }
   ],
   "source": [
    "# Use trained Autoencoder\n",
    "with torch.no_grad():\n",
    "    print(net.encode(torch.rand(10, 68)))"
   ]
  },
  {
   "cell_type": "code",
   "execution_count": 62,
   "metadata": {},
   "outputs": [
    {
     "name": "stdout",
     "output_type": "stream",
     "text": [
      "Itteration: 0) Accepted: 1822 | Denied: 4253 - New train set size: (16822, 40)\n",
      "Itteration: 1) Accepted: 1822 | Denied: 4253 - New train set size: (18644, 40)\n",
      "Itteration: 2) Accepted: 1822 | Denied: 4253 - New train set size: (20466, 40)\n",
      "Itteration: 3) Accepted: 1822 | Denied: 4253 - New train set size: (22288, 40)\n",
      "Itteration: 4) Accepted: 1822 | Denied: 4253 - New train set size: (24110, 40)\n",
      "Itteration: 5) Accepted: 1822 | Denied: 4253 - New train set size: (25932, 40)\n",
      "Itteration: 6) Accepted: 1822 | Denied: 4253 - New train set size: (27754, 40)\n",
      "Itteration: 7) Accepted: 1822 | Denied: 4253 - New train set size: (29576, 40)\n",
      "Itteration: 8) Accepted: 1822 | Denied: 4253 - New train set size: (31398, 40)\n",
      "Itteration: 9) Accepted: 1822 | Denied: 4253 - New train set size: (33220, 40)\n",
      "Itteration: 10) Accepted: 1822 | Denied: 4253 - New train set size: (35042, 40)\n",
      "Itteration: 11) Accepted: 1822 | Denied: 4253 - New train set size: (36864, 40)\n",
      "Itteration: 12) Accepted: 1822 | Denied: 4253 - New train set size: (38686, 40)\n",
      "Itteration: 13) Accepted: 1822 | Denied: 4253 - New train set size: (40508, 40)\n",
      "Itteration: 14) Accepted: 1822 | Denied: 4253 - New train set size: (42330, 40)\n",
      "Itteration: 15) Accepted: 1822 | Denied: 4253 - New train set size: (44152, 40)\n",
      "Itteration: 16) Accepted: 1822 | Denied: 4253 - New train set size: (45974, 40)\n",
      "Itteration: 17) Accepted: 1822 | Denied: 4253 - New train set size: (47796, 40)\n",
      "Itteration: 18) Accepted: 1822 | Denied: 4253 - New train set size: (49618, 40)\n",
      "Itteration: 19) Accepted: 1822 | Denied: 4253 - New train set size: (51440, 40)\n"
     ]
    },
    {
     "data": {
      "image/png": "[encoded data removed]",
      "text/plain": [
       "<Figure size 432x288 with 1 Axes>"
      ]
     },
     "metadata": {
      "needs_background": "light"
     },
     "output_type": "display_data"
    }
   ],
   "source": [
    "n_years = 20\n",
    "\n",
    "model = lgbm.LGBMClassifier() #DecisionTreeClassifier(min_samples_leaf=40) #lgbm.LGBMClassifier() #LogisticRegression(max_iter=400)\n",
    "\n",
    "sim = dal.Simulate_acceptance_loop(\"gmsc.csv\", model, 0.1, 0.1, n_years, enc_features=True, encoder=net)\n",
    "results_generator = sim.run()\n",
    "\n",
    "metrics_encoded = None\n",
    "for iteration in results_generator:\n",
    "    print(f'Itteration: {iteration[0]}) Accepted: {iteration[1].count(True)} | Denied: {iteration[1].count(False)} - New train set size: {iteration[2]}')\n",
    "    metrics_encoded = iteration[3]\n",
    "\n",
    "x = range(1, n_years + 1)\n",
    "plt.plot(x, metrics[\"model\"][\"holdout\"]['roc_auc'], label = 'roc_auc-model')\n",
    "plt.plot(x, metrics[\"oracle\"][\"holdout\"]['roc_auc'], label = 'roc_auc-oracle')\n",
    "plt.plot(x, metrics_encoded[\"model\"][\"holdout\"]['roc_auc'], label = 'ENC(roc_auc-model)')\n",
    "plt.plot(x, metrics_encoded[\"oracle\"][\"holdout\"]['roc_auc'], label = 'ENC(roc_auc-oracle)')\n",
    "#plt.plot(x, results[\"holdout\"]['precision'], label = 'precision')\n",
    "#plt.plot(x, results[\"holdout\"]['f1'], label = 'f1')\n",
    "#plt.plot(x, results[\"holdout\"]['accuracy'], label = 'accuracy')\n",
    "plt.legend()\n",
    "plt.ylim([0.5, 1.0])\n",
    "plt.show()"
   ]
  }
 ],
 "metadata": {
  "interpreter": {
   "hash": "ba78132cbc4cb21d1adddebf0b46368c183af7c9ca0d563bbae5210b7ec22c6c"
  },
  "kernelspec": {
   "display_name": "Python 3.8.10 64-bit ('.venv': venv)",
   "language": "python",
   "name": "python3"
  },
  "language_info": {
   "codemirror_mode": {
    "name": "ipython",
    "version": 3
   },
   "file_extension": ".py",
   "mimetype": "text/x-python",
   "name": "python",
   "nbconvert_exporter": "python",
   "pygments_lexer": "ipython3",
   "version": "3.8.10"
  },
  "orig_nbformat": 4
 },
 "nbformat": 4,
 "nbformat_minor": 2
}
