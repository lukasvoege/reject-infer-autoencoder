{
 "cells": [
  {
   "cell_type": "code",
   "execution_count": 1,
   "metadata": {},
   "outputs": [],
   "source": [
    "import sys\n",
    "sys.path.append('../src')\n",
    "\n",
    "import importlib\n",
    "import dyn_accept_loop as dal\n",
    "importlib.reload(dal)\n",
    "import reject_inference as rinf\n",
    "importlib.reload(rinf)\n",
    "import helper as h\n",
    "importlib.reload(h)\n",
    "\n",
    "import matplotlib.pyplot as plt\n",
    "\n",
    "import lightgbm as lgbm\n",
    "from sklearn.tree import DecisionTreeClassifier\n",
    "from sklearn.linear_model import LogisticRegression\n",
    "\n",
    "import lightgbm as lgbm\n",
    "\n",
    "import torch\n",
    "import torch.nn as nn\n",
    "\n",
    "\n",
    "import torch.distributions as dis"
   ]
  },
  {
   "cell_type": "code",
   "execution_count": 24,
   "metadata": {},
   "outputs": [
    {
     "data": {
      "text/plain": [
       "tensor([[0.2462, 0.1617, 0.5125, 0.2656, 0.6664],\n",
       "        [0.9270, 0.5566, 0.2857, 0.9562, 0.7360],\n",
       "        [0.9545, 0.9671, 0.3937, 0.6642, 0.9860],\n",
       "        [0.4783, 0.4509, 0.2638, 0.8603, 0.5531],\n",
       "        [0.6781, 0.2075, 0.0584, 0.1657, 0.8136],\n",
       "        [0.4519, 0.9194, 0.6135, 0.8899, 0.6590],\n",
       "        [0.6344, 0.4785, 0.0996, 0.4528, 0.9925],\n",
       "        [0.7454, 0.5482, 0.6057, 0.8583, 0.7932],\n",
       "        [0.0923, 0.5948, 0.9500, 0.6748, 0.6340],\n",
       "        [0.1628, 0.2803, 0.7660, 0.8544, 0.6249]])"
      ]
     },
     "execution_count": 24,
     "metadata": {},
     "output_type": "execute_result"
    }
   ],
   "source": [
    "fff = torch.rand(10, 5)\n",
    "fff"
   ]
  },
  {
   "cell_type": "code",
   "execution_count": 29,
   "metadata": {},
   "outputs": [
    {
     "data": {
      "text/plain": [
       "tensor([[0.2462, 0.9270, 0.9545, 0.4783, 0.6781, 0.4519, 0.6344, 0.7454, 0.0923,\n",
       "         0.1628],\n",
       "        [0.1617, 0.5566, 0.9671, 0.4509, 0.2075, 0.9194, 0.4785, 0.5482, 0.5948,\n",
       "         0.2803],\n",
       "        [0.5125, 0.2857, 0.3937, 0.2638, 0.0584, 0.6135, 0.0996, 0.6057, 0.9500,\n",
       "         0.7660],\n",
       "        [0.2656, 0.9562, 0.6642, 0.8603, 0.1657, 0.8899, 0.4528, 0.8583, 0.6748,\n",
       "         0.8544],\n",
       "        [0.6664, 0.7360, 0.9860, 0.5531, 0.8136, 0.6590, 0.9925, 0.7932, 0.6340,\n",
       "         0.6249]])"
      ]
     },
     "execution_count": 29,
     "metadata": {},
     "output_type": "execute_result"
    }
   ],
   "source": [
    "fff.transpose(0, 1)"
   ]
  },
  {
   "cell_type": "code",
   "execution_count": 24,
   "metadata": {},
   "outputs": [
    {
     "data": {
      "text/plain": [
       "tensor([[1.0000],\n",
       "        [0.9976],\n",
       "        [0.9385],\n",
       "        [1.0000],\n",
       "        [1.0000],\n",
       "        [1.0000],\n",
       "        [0.8249],\n",
       "        [0.9880],\n",
       "        [1.0000],\n",
       "        [0.9374]])"
      ]
     },
     "execution_count": 24,
     "metadata": {},
     "output_type": "execute_result"
    }
   ],
   "source": [
    "nn.Tanh()(torch.rand(10, 1) * 10)"
   ]
  },
  {
   "cell_type": "markdown",
   "metadata": {},
   "source": [
    "## Test importable Dynamic Acceptance Loop"
   ]
  },
  {
   "cell_type": "code",
   "execution_count": 20,
   "metadata": {},
   "outputs": [
    {
     "name": "stdout",
     "output_type": "stream",
     "text": [
      "Itteration: 0) Accepted: 1822 | Denied: 4253 - New train set size: (16822, 68)\n",
      "Itteration: 1) Accepted: 1822 | Denied: 4253 - New train set size: (18644, 68)\n",
      "Itteration: 2) Accepted: 1822 | Denied: 4253 - New train set size: (20466, 68)\n",
      "Itteration: 3) Accepted: 1822 | Denied: 4253 - New train set size: (22288, 68)\n",
      "Itteration: 4) Accepted: 1822 | Denied: 4253 - New train set size: (24110, 68)\n",
      "Itteration: 5) Accepted: 1822 | Denied: 4253 - New train set size: (25932, 68)\n",
      "Itteration: 6) Accepted: 1822 | Denied: 4253 - New train set size: (27754, 68)\n",
      "Itteration: 7) Accepted: 1822 | Denied: 4253 - New train set size: (29576, 68)\n",
      "Itteration: 8) Accepted: 1822 | Denied: 4253 - New train set size: (31398, 68)\n",
      "Itteration: 9) Accepted: 1822 | Denied: 4253 - New train set size: (33220, 68)\n",
      "Itteration: 10) Accepted: 1822 | Denied: 4253 - New train set size: (35042, 68)\n",
      "Itteration: 11) Accepted: 1822 | Denied: 4253 - New train set size: (36864, 68)\n",
      "Itteration: 12) Accepted: 1822 | Denied: 4253 - New train set size: (38686, 68)\n",
      "Itteration: 13) Accepted: 1822 | Denied: 4253 - New train set size: (40508, 68)\n",
      "Itteration: 14) Accepted: 1822 | Denied: 4253 - New train set size: (42330, 68)\n",
      "Itteration: 15) Accepted: 1822 | Denied: 4253 - New train set size: (44152, 68)\n",
      "Itteration: 16) Accepted: 1822 | Denied: 4253 - New train set size: (45974, 68)\n",
      "Itteration: 17) Accepted: 1822 | Denied: 4253 - New train set size: (47796, 68)\n",
      "Itteration: 18) Accepted: 1822 | Denied: 4253 - New train set size: (49618, 68)\n",
      "Itteration: 19) Accepted: 1822 | Denied: 4253 - New train set size: (51440, 68)\n"
     ]
    },
    {
     "data": {
      "image/png": "[encoded data removed]",
      "text/plain": [
       "<Figure size 432x288 with 1 Axes>"
      ]
     },
     "metadata": {
      "needs_background": "light"
     },
     "output_type": "display_data"
    },
    {
     "name": "stdout",
     "output_type": "stream",
     "text": [
      "Sampling Bias: 0.02836\n"
     ]
    }
   ],
   "source": [
    "n_years = 20\n",
    "\n",
    "model = lgbm.LGBMClassifier() # DecisionTreeClassifier(min_samples_leaf=40) LogisticRegression(max_iter=400)\n",
    "\n",
    "sim = dal.Simulate_acceptance_loop(\"gmsc.csv\", model, 0.1, 0.1, n_years, enc_features=False, rej_inf=None)#rinf.EMsemisupervised)\n",
    "results_generator = sim.run()\n",
    "\n",
    "metrics = None\n",
    "for iteration in results_generator:\n",
    "    print(f'Itteration: {iteration[0]}) Accepted: {iteration[1].count(True)} | Denied: {iteration[1].count(False)} - New train set size: {iteration[2]}')\n",
    "    metrics = iteration[3]\n",
    "\n",
    "last_n_years = 5\n",
    "bias = h.measure_bias(metrics[\"oracle\"][\"holdout\"]['roc_auc'], metrics[\"model\"][\"holdout\"]['roc_auc'], last_n_years)\n",
    "    \n",
    "x = range(1, n_years + 1)\n",
    "plt.plot(x, metrics[\"model\"][\"holdout\"]['roc_auc'], label = 'roc_auc-model')\n",
    "plt.plot(x, metrics[\"oracle\"][\"holdout\"]['roc_auc'], label = 'roc_auc-oracle')\n",
    "#plt.plot(x, results[\"holdout\"]['precision'], label = 'precision')\n",
    "#plt.plot(x, results[\"holdout\"]['f1'], label = 'f1')\n",
    "#plt.plot(x, results[\"holdout\"]['accuracy'], label = 'accuracy')\n",
    "plt.text(0.75, 0.52, f'Avg. performance lost in last {last_n_years} iterations: {round(bias, 5)}')\n",
    "plt.legend()\n",
    "plt.ylim([0.5, 1.0])\n",
    "plt.show()\n",
    "\n",
    "\n",
    "print(f'Sampling Bias: {round(bias, 5)}')"
   ]
  },
  {
   "cell_type": "code",
   "execution_count": 21,
   "metadata": {},
   "outputs": [
    {
     "name": "stdout",
     "output_type": "stream",
     "text": [
      "0.028361741507556347\n"
     ]
    }
   ],
   "source": [
    "print(h.measure_bias(metrics[\"oracle\"][\"holdout\"]['roc_auc'], metrics[\"model\"][\"holdout\"]['roc_auc'], last_n_years))"
   ]
  },
  {
   "cell_type": "markdown",
   "metadata": {},
   "source": [
    "## Test importable Autoencoder"
   ]
  },
  {
   "cell_type": "code",
   "execution_count": 38,
   "metadata": {},
   "outputs": [
    {
     "data": {
      "text/plain": [
       "<module 'autoencoder' from 'c:\\\\Projects\\\\Information-Systems-Seminar\\\\reject-infer-autoencoder\\\\notebooks\\\\../src\\\\autoencoder.py'>"
      ]
     },
     "execution_count": 38,
     "metadata": {},
     "output_type": "execute_result"
    }
   ],
   "source": [
    "import autoencoder as aenc\n",
    "import importlib\n",
    "importlib.reload(aenc)"
   ]
  },
  {
   "cell_type": "code",
   "execution_count": 39,
   "metadata": {},
   "outputs": [
    {
     "name": "stdout",
     "output_type": "stream",
     "text": [
      "Autoencoder(\n",
      "  (enc): ModuleList(\n",
      "    (0): Linear(in_features=68, out_features=35, bias=True)\n",
      "    (1): Linear(in_features=35, out_features=10, bias=True)\n",
      "  )\n",
      "  (dec): ModuleList(\n",
      "    (0): Linear(in_features=10, out_features=35, bias=True)\n",
      "    (1): Linear(in_features=35, out_features=68, bias=True)\n",
      "  )\n",
      ")\n",
      "Epoch 1 of 50, Train Loss: -52570.109\n",
      "Epoch 2 of 50, Train Loss: 309076736.541\n",
      "Epoch 3 of 50, Train Loss: 710.646\n",
      "Epoch 4 of 50, Train Loss: -439.107\n",
      "Epoch 5 of 50, Train Loss: -602.537\n",
      "Epoch 6 of 50, Train Loss: 794.129\n",
      "Epoch 7 of 50, Train Loss: 90.243\n",
      "Epoch 8 of 50, Train Loss: -120.305\n",
      "Epoch 9 of 50, Train Loss: 276.708\n",
      "Epoch 10 of 50, Train Loss: 346.437\n",
      "Epoch 11 of 50, Train Loss: -745.920\n",
      "Epoch 12 of 50, Train Loss: -314.034\n",
      "Epoch 13 of 50, Train Loss: 175.762\n",
      "Epoch 14 of 50, Train Loss: 608.847\n",
      "Epoch 15 of 50, Train Loss: -742.935\n",
      "Epoch 16 of 50, Train Loss: 60.599\n",
      "Epoch 17 of 50, Train Loss: 425.903\n",
      "Epoch 18 of 50, Train Loss: 2158.187\n",
      "Epoch 19 of 50, Train Loss: 1247.638\n",
      "Epoch 20 of 50, Train Loss: -212.064\n",
      "Epoch 21 of 50, Train Loss: 541.577\n",
      "Epoch 22 of 50, Train Loss: -173.100\n",
      "Epoch 23 of 50, Train Loss: 46.011\n",
      "Epoch 24 of 50, Train Loss: 335.475\n",
      "Epoch 25 of 50, Train Loss: 125.566\n",
      "Epoch 26 of 50, Train Loss: 619.430\n",
      "Epoch 27 of 50, Train Loss: 325.071\n",
      "Epoch 28 of 50, Train Loss: 49.872\n",
      "Epoch 29 of 50, Train Loss: -409.061\n",
      "Epoch 30 of 50, Train Loss: -282.862\n",
      "Epoch 31 of 50, Train Loss: 1241.288\n",
      "Epoch 32 of 50, Train Loss: 1108.252\n",
      "Epoch 33 of 50, Train Loss: -33.387\n",
      "Epoch 34 of 50, Train Loss: 108.271\n",
      "Epoch 35 of 50, Train Loss: 1652.988\n",
      "Epoch 36 of 50, Train Loss: 340.020\n",
      "Epoch 37 of 50, Train Loss: 77.620\n",
      "Epoch 38 of 50, Train Loss: -356.186\n",
      "Epoch 39 of 50, Train Loss: 442.828\n",
      "Epoch 40 of 50, Train Loss: 873.725\n",
      "Epoch 41 of 50, Train Loss: 26.640\n",
      "Epoch 42 of 50, Train Loss: 1102.831\n",
      "Epoch 43 of 50, Train Loss: -52.135\n",
      "Epoch 44 of 50, Train Loss: -355.489\n",
      "Epoch 45 of 50, Train Loss: -423.100\n",
      "Epoch 46 of 50, Train Loss: 865.408\n",
      "Epoch 47 of 50, Train Loss: 448.948\n",
      "Epoch 48 of 50, Train Loss: 626.523\n",
      "Epoch 49 of 50, Train Loss: 149.439\n",
      "Epoch 50 of 50, Train Loss: 1185.908\n"
     ]
    },
    {
     "data": {
      "image/png": "[encoded data removed]",
      "text/plain": [
       "<Figure size 432x288 with 1 Axes>"
      ]
     },
     "metadata": {
      "needs_background": "light"
     },
     "output_type": "display_data"
    }
   ],
   "source": [
    "BATCH_SIZE = 200\n",
    "EPOCHS = 50\n",
    "LR = 1e-3\n",
    "\n",
    "dataset = aenc.CreditscoringDataset(\"gmsc.csv\")      # load and prepare Dataset to Tensor\n",
    "data_loader = aenc.DataLoader(                       # create Dataloader for batching\n",
    "    dataset, \n",
    "    batch_size=BATCH_SIZE,\n",
    "    shuffle=True,\n",
    "    drop_last=True\n",
    ")\n",
    "\n",
    "shape = [dataset.x.shape[1], 35, 10, 35, dataset.x.shape[1]]  # define shape of Autoencoder\n",
    "net = aenc.Autoencoder(shape)\n",
    "print(net)\n",
    "net.to(\"cpu\")\n",
    "\n",
    "train_loss = aenc.train(net, data_loader, EPOCHS, LR)               \n",
    "\n",
    "plt.figure()\n",
    "plt.plot(train_loss)\n",
    "plt.title('Train Loss')\n",
    "plt.xlabel('Epochs')\n",
    "plt.ylabel('Loss')\n",
    "plt.show()"
   ]
  },
  {
   "cell_type": "code",
   "execution_count": 40,
   "metadata": {},
   "outputs": [
    {
     "name": "stdout",
     "output_type": "stream",
     "text": [
      "Itteration: 0) Accepted: 1822 | Denied: 4253 - New train set size: (16822, 10)\n",
      "Itteration: 1) Accepted: 1822 | Denied: 4253 - New train set size: (18644, 10)\n",
      "Itteration: 2) Accepted: 1821 | Denied: 4254 - New train set size: (20465, 10)\n",
      "Itteration: 3) Accepted: 1822 | Denied: 4253 - New train set size: (22287, 10)\n",
      "Itteration: 4) Accepted: 1822 | Denied: 4253 - New train set size: (24109, 10)\n",
      "Itteration: 5) Accepted: 1822 | Denied: 4253 - New train set size: (25931, 10)\n",
      "Itteration: 6) Accepted: 1822 | Denied: 4253 - New train set size: (27753, 10)\n",
      "Itteration: 7) Accepted: 1822 | Denied: 4253 - New train set size: (29575, 10)\n",
      "Itteration: 8) Accepted: 1822 | Denied: 4253 - New train set size: (31397, 10)\n",
      "Itteration: 9) Accepted: 1822 | Denied: 4253 - New train set size: (33219, 10)\n",
      "Itteration: 10) Accepted: 1822 | Denied: 4253 - New train set size: (35041, 10)\n",
      "Itteration: 11) Accepted: 1822 | Denied: 4253 - New train set size: (36863, 10)\n",
      "Itteration: 12) Accepted: 1822 | Denied: 4253 - New train set size: (38685, 10)\n",
      "Itteration: 13) Accepted: 1822 | Denied: 4253 - New train set size: (40507, 10)\n",
      "Itteration: 14) Accepted: 1822 | Denied: 4253 - New train set size: (42329, 10)\n",
      "Itteration: 15) Accepted: 1822 | Denied: 4253 - New train set size: (44151, 10)\n",
      "Itteration: 16) Accepted: 1822 | Denied: 4253 - New train set size: (45973, 10)\n",
      "Itteration: 17) Accepted: 1822 | Denied: 4253 - New train set size: (47795, 10)\n",
      "Itteration: 18) Accepted: 1822 | Denied: 4253 - New train set size: (49617, 10)\n",
      "Itteration: 19) Accepted: 1822 | Denied: 4253 - New train set size: (51439, 10)\n"
     ]
    },
    {
     "data": {
      "image/png": "[encoded data removed]",
      "text/plain": [
       "<Figure size 432x288 with 1 Axes>"
      ]
     },
     "metadata": {
      "needs_background": "light"
     },
     "output_type": "display_data"
    }
   ],
   "source": [
    "n_years = 20\n",
    "\n",
    "sim = dal.Simulate_acceptance_loop(\"gmsc.csv\", model, 0.1, 0.1, n_years, enc_features=True, encoder=net)#, rej_inf=rinf.EMsemisupervised)\n",
    "results_generator = sim.run()\n",
    "\n",
    "metrics2 = None\n",
    "for iteration in results_generator:\n",
    "    print(f'Itteration: {iteration[0]}) Accepted: {iteration[1].count(True)} | Denied: {iteration[1].count(False)} - New train set size: {iteration[2]}')\n",
    "    metrics2 = iteration[3]\n",
    "\n",
    "last_n_years = 5\n",
    "bias2 = h.measure_bias(metrics2[\"oracle\"][\"holdout\"]['roc_auc'], metrics2[\"model\"][\"holdout\"]['roc_auc'], last_n_years)\n",
    "    \n",
    "x = range(1, n_years + 1)\n",
    "plt.plot(x, metrics[\"model\"][\"holdout\"]['roc_auc'], label = 'roc_auc-model')\n",
    "plt.plot(x, metrics[\"oracle\"][\"holdout\"]['roc_auc'], label = 'roc_auc-oracle')\n",
    "plt.plot(x, metrics2[\"model\"][\"holdout\"]['roc_auc'], label = 'ENC(roc_auc-model)')\n",
    "plt.plot(x, metrics2[\"oracle\"][\"holdout\"]['roc_auc'], label = 'ENC(roc_auc-oracle)')\n",
    "plt.text(0.75, 0.97, f'Avg. performance lost in last {last_n_years} iterations: {round(bias, 5)}')\n",
    "plt.text(0.75, 0.94, f'With Autoencoder: {round(bias2, 5)}')\n",
    "plt.legend()\n",
    "plt.ylim([0.5, 1.0])\n",
    "plt.show()"
   ]
  }
 ],
 "metadata": {
  "interpreter": {
   "hash": "ba78132cbc4cb21d1adddebf0b46368c183af7c9ca0d563bbae5210b7ec22c6c"
  },
  "kernelspec": {
   "display_name": "Python 3.8.10 64-bit ('.venv': venv)",
   "language": "python",
   "name": "python3"
  },
  "language_info": {
   "codemirror_mode": {
    "name": "ipython",
    "version": 3
   },
   "file_extension": ".py",
   "mimetype": "text/x-python",
   "name": "python",
   "nbconvert_exporter": "python",
   "pygments_lexer": "ipython3",
   "version": "3.8.10"
  },
  "orig_nbformat": 4
 },
 "nbformat": 4,
 "nbformat_minor": 2
}
