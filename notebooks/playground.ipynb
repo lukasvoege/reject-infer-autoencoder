{
 "cells": [
  {
   "cell_type": "code",
   "execution_count": 5,
   "metadata": {},
   "outputs": [],
   "source": [
    "import sys\n",
    "sys.path.append('../src')\n",
    "\n",
    "import importlib\n",
    "import dyn_accept_loop as dal\n",
    "importlib.reload(dal)\n",
    "import reject_inference as rinf\n",
    "importlib.reload(rinf)\n",
    "\n",
    "import matplotlib.pyplot as plt\n",
    "\n",
    "import lightgbm as lgbm\n",
    "from sklearn.tree import DecisionTreeClassifier\n",
    "from sklearn.linear_model import LogisticRegression\n",
    "\n",
    "import lightgbm as lgbm\n",
    "\n",
    "import torch"
   ]
  },
  {
   "cell_type": "markdown",
   "metadata": {},
   "source": [
    "## Test importable Dynamic Acceptance Loop"
   ]
  },
  {
   "cell_type": "code",
   "execution_count": 6,
   "metadata": {},
   "outputs": [
    {
     "name": "stdout",
     "output_type": "stream",
     "text": [
      "Itteration: 0) Accepted: 1822 | Denied: 4253 - New train set size: (16822, 68)\n",
      "Itteration: 1) Accepted: 1822 | Denied: 4253 - New train set size: (18644, 68)\n",
      "Itteration: 2) Accepted: 1822 | Denied: 4253 - New train set size: (20466, 68)\n",
      "Itteration: 3) Accepted: 1822 | Denied: 4253 - New train set size: (22288, 68)\n",
      "Itteration: 4) Accepted: 1822 | Denied: 4253 - New train set size: (24110, 68)\n",
      "Itteration: 5) Accepted: 1822 | Denied: 4253 - New train set size: (25932, 68)\n",
      "Itteration: 6) Accepted: 1822 | Denied: 4253 - New train set size: (27754, 68)\n",
      "Itteration: 7) Accepted: 1822 | Denied: 4253 - New train set size: (29576, 68)\n",
      "Itteration: 8) Accepted: 1822 | Denied: 4253 - New train set size: (31398, 68)\n",
      "Itteration: 9) Accepted: 1822 | Denied: 4253 - New train set size: (33220, 68)\n",
      "Itteration: 10) Accepted: 1822 | Denied: 4253 - New train set size: (35042, 68)\n",
      "Itteration: 11) Accepted: 1822 | Denied: 4253 - New train set size: (36864, 68)\n",
      "Itteration: 12) Accepted: 1822 | Denied: 4253 - New train set size: (38686, 68)\n",
      "Itteration: 13) Accepted: 1822 | Denied: 4253 - New train set size: (40508, 68)\n",
      "Itteration: 14) Accepted: 1822 | Denied: 4253 - New train set size: (42330, 68)\n",
      "Itteration: 15) Accepted: 1822 | Denied: 4253 - New train set size: (44152, 68)\n",
      "Itteration: 16) Accepted: 1822 | Denied: 4253 - New train set size: (45974, 68)\n",
      "Itteration: 17) Accepted: 1822 | Denied: 4253 - New train set size: (47796, 68)\n",
      "Itteration: 18) Accepted: 1822 | Denied: 4253 - New train set size: (49618, 68)\n",
      "Itteration: 19) Accepted: 1822 | Denied: 4253 - New train set size: (51440, 68)\n"
     ]
    },
    {
     "data": {
      "image/png": "[encoded data removed]",
      "text/plain": [
       "<Figure size 432x288 with 1 Axes>"
      ]
     },
     "metadata": {
      "needs_background": "light"
     },
     "output_type": "display_data"
    }
   ],
   "source": [
    "n_years = 20\n",
    "\n",
    "model = lgbm.LGBMClassifier() # DecisionTreeClassifier(min_samples_leaf=40) LogisticRegression(max_iter=400)\n",
    "\n",
    "sim = dal.Simulate_acceptance_loop(\"gmsc.csv\", model, 0.1, 0.1, n_years, enc_features=False)#, rej_inf=rinf.EMsemisupervised)\n",
    "results_generator = sim.run()\n",
    "\n",
    "metrics = None\n",
    "for iteration in results_generator:\n",
    "    print(f'Itteration: {iteration[0]}) Accepted: {iteration[1].count(True)} | Denied: {iteration[1].count(False)} - New train set size: {iteration[2]}')\n",
    "    metrics = iteration[3]\n",
    "    \n",
    "x = range(1, n_years + 1)\n",
    "plt.plot(x, metrics[\"model\"][\"holdout\"]['roc_auc'], label = 'roc_auc-model')\n",
    "plt.plot(x, metrics[\"oracle\"][\"holdout\"]['roc_auc'], label = 'roc_auc-oracle')\n",
    "#plt.plot(x, results[\"holdout\"]['precision'], label = 'precision')\n",
    "#plt.plot(x, results[\"holdout\"]['f1'], label = 'f1')\n",
    "#plt.plot(x, results[\"holdout\"]['accuracy'], label = 'accuracy')\n",
    "plt.legend()\n",
    "plt.ylim([0.5, 1.0])\n",
    "plt.show()"
   ]
  },
  {
   "cell_type": "markdown",
   "metadata": {},
   "source": [
    "## Test importable Autoencoder"
   ]
  },
  {
   "cell_type": "code",
   "execution_count": 7,
   "metadata": {},
   "outputs": [
    {
     "data": {
      "text/plain": [
       "<module 'autoencoder' from 'c:\\\\Projects\\\\Information-Systems-Seminar\\\\reject-infer-autoencoder\\\\notebooks\\\\../src\\\\autoencoder.py'>"
      ]
     },
     "execution_count": 7,
     "metadata": {},
     "output_type": "execute_result"
    }
   ],
   "source": [
    "import autoencoder as aenc\n",
    "import importlib\n",
    "importlib.reload(aenc)"
   ]
  },
  {
   "cell_type": "code",
   "execution_count": 8,
   "metadata": {},
   "outputs": [
    {
     "name": "stdout",
     "output_type": "stream",
     "text": [
      "Autoencoder(\n",
      "  (enc): ModuleList(\n",
      "    (0): Linear(in_features=68, out_features=35, bias=True)\n",
      "    (1): Linear(in_features=35, out_features=2, bias=True)\n",
      "  )\n",
      "  (dec): ModuleList(\n",
      "    (0): Linear(in_features=2, out_features=35, bias=True)\n",
      "    (1): Linear(in_features=35, out_features=68, bias=True)\n",
      "  )\n",
      ")\n",
      "Epoch 1 of 20, Train Loss: 0.938\n",
      "Epoch 2 of 20, Train Loss: 0.852\n",
      "Epoch 3 of 20, Train Loss: 0.826\n",
      "Epoch 4 of 20, Train Loss: 0.815\n",
      "Epoch 5 of 20, Train Loss: 0.801\n",
      "Epoch 6 of 20, Train Loss: 0.790\n",
      "Epoch 7 of 20, Train Loss: 0.782\n",
      "Epoch 8 of 20, Train Loss: 0.776\n",
      "Epoch 9 of 20, Train Loss: 0.771\n",
      "Epoch 10 of 20, Train Loss: 0.767\n",
      "Epoch 11 of 20, Train Loss: 0.764\n",
      "Epoch 12 of 20, Train Loss: 0.761\n",
      "Epoch 13 of 20, Train Loss: 0.759\n",
      "Epoch 14 of 20, Train Loss: 0.757\n",
      "Epoch 15 of 20, Train Loss: 0.755\n",
      "Epoch 16 of 20, Train Loss: 0.752\n",
      "Epoch 17 of 20, Train Loss: 0.749\n",
      "Epoch 18 of 20, Train Loss: 0.748\n",
      "Epoch 19 of 20, Train Loss: 0.747\n",
      "Epoch 20 of 20, Train Loss: 0.745\n"
     ]
    },
    {
     "data": {
      "image/png": "[encoded data removed]",
      "text/plain": [
       "<Figure size 432x288 with 1 Axes>"
      ]
     },
     "metadata": {
      "needs_background": "light"
     },
     "output_type": "display_data"
    }
   ],
   "source": [
    "BATCH_SIZE = 1000\n",
    "EPOCHS = 20\n",
    "\n",
    "dataset = aenc.CreditscoringDataset(\"gmsc.csv\")      # load and prepare Dataset to Tensor\n",
    "data_loader = aenc.DataLoader(                       # create Dataloader for batching\n",
    "    dataset, \n",
    "    batch_size=BATCH_SIZE,\n",
    "    shuffle=True\n",
    ")\n",
    "\n",
    "shape = [dataset.x.shape[1], 35, 2, 35, dataset.x.shape[1]]  # define shape of Autoencoder\n",
    "net = aenc.Autoencoder(shape)\n",
    "print(net)\n",
    "net.to(\"cpu\")\n",
    "\n",
    "train_loss = aenc.train(net, data_loader, EPOCHS)               \n",
    "\n",
    "plt.figure()\n",
    "plt.plot(train_loss)\n",
    "plt.title('Train Loss')\n",
    "plt.xlabel('Epochs')\n",
    "plt.ylabel('Loss')\n",
    "plt.show()"
   ]
  },
  {
   "cell_type": "code",
   "execution_count": 10,
   "metadata": {},
   "outputs": [
    {
     "name": "stdout",
     "output_type": "stream",
     "text": [
      "Itteration: 0) Accepted: 1809 | Denied: 4266 - New train set size: (16809, 2)\n",
      "Itteration: 1) Accepted: 1820 | Denied: 4255 - New train set size: (18629, 2)\n",
      "Itteration: 2) Accepted: 1820 | Denied: 4255 - New train set size: (20449, 2)\n",
      "Itteration: 3) Accepted: 1821 | Denied: 4254 - New train set size: (22270, 2)\n",
      "Itteration: 4) Accepted: 1795 | Denied: 4280 - New train set size: (24065, 2)\n",
      "Itteration: 5) Accepted: 1822 | Denied: 4253 - New train set size: (25887, 2)\n",
      "Itteration: 6) Accepted: 1822 | Denied: 4253 - New train set size: (27709, 2)\n",
      "Itteration: 7) Accepted: 1822 | Denied: 4253 - New train set size: (29531, 2)\n",
      "Itteration: 8) Accepted: 1810 | Denied: 4265 - New train set size: (31341, 2)\n",
      "Itteration: 9) Accepted: 1822 | Denied: 4253 - New train set size: (33163, 2)\n",
      "Itteration: 10) Accepted: 1822 | Denied: 4253 - New train set size: (34985, 2)\n",
      "Itteration: 11) Accepted: 1811 | Denied: 4264 - New train set size: (36796, 2)\n",
      "Itteration: 12) Accepted: 1820 | Denied: 4255 - New train set size: (38616, 2)\n",
      "Itteration: 13) Accepted: 1822 | Denied: 4253 - New train set size: (40438, 2)\n",
      "Itteration: 14) Accepted: 1807 | Denied: 4268 - New train set size: (42245, 2)\n",
      "Itteration: 15) Accepted: 1818 | Denied: 4257 - New train set size: (44063, 2)\n",
      "Itteration: 16) Accepted: 1822 | Denied: 4253 - New train set size: (45885, 2)\n",
      "Itteration: 17) Accepted: 1788 | Denied: 4287 - New train set size: (47673, 2)\n",
      "Itteration: 18) Accepted: 1822 | Denied: 4253 - New train set size: (49495, 2)\n",
      "Itteration: 19) Accepted: 1822 | Denied: 4253 - New train set size: (51317, 2)\n"
     ]
    },
    {
     "data": {
      "image/png": "[encoded data removed]",
      "text/plain": [
       "<Figure size 432x288 with 1 Axes>"
      ]
     },
     "metadata": {
      "needs_background": "light"
     },
     "output_type": "display_data"
    }
   ],
   "source": [
    "n_years = 20\n",
    "\n",
    "sim = dal.Simulate_acceptance_loop(\"gmsc.csv\", model, 0.1, 0.1, n_years, enc_features=True, encoder=net)#, rej_inf=rinf.EMsemisupervised)\n",
    "results_generator = sim.run()\n",
    "\n",
    "metrics2 = None\n",
    "for iteration in results_generator:\n",
    "    print(f'Itteration: {iteration[0]}) Accepted: {iteration[1].count(True)} | Denied: {iteration[1].count(False)} - New train set size: {iteration[2]}')\n",
    "    metrics2 = iteration[3]\n",
    "    \n",
    "x = range(1, n_years + 1)\n",
    "plt.plot(x, metrics[\"model\"][\"holdout\"]['roc_auc'], label = 'roc_auc-model')\n",
    "plt.plot(x, metrics[\"oracle\"][\"holdout\"]['roc_auc'], label = 'roc_auc-oracle')\n",
    "plt.plot(x, metrics2[\"model\"][\"holdout\"]['roc_auc'], label = 'ENC(roc_auc-model)')\n",
    "plt.plot(x, metrics2[\"oracle\"][\"holdout\"]['roc_auc'], label = 'ENC(roc_auc-oracle)')\n",
    "plt.legend()\n",
    "plt.ylim([0.5, 1.0])\n",
    "plt.show()"
   ]
  }
 ],
 "metadata": {
  "interpreter": {
   "hash": "ba78132cbc4cb21d1adddebf0b46368c183af7c9ca0d563bbae5210b7ec22c6c"
  },
  "kernelspec": {
   "display_name": "Python 3.8.10 64-bit ('.venv': venv)",
   "language": "python",
   "name": "python3"
  },
  "language_info": {
   "codemirror_mode": {
    "name": "ipython",
    "version": 3
   },
   "file_extension": ".py",
   "mimetype": "text/x-python",
   "name": "python",
   "nbconvert_exporter": "python",
   "pygments_lexer": "ipython3",
   "version": "3.8.10"
  },
  "orig_nbformat": 4
 },
 "nbformat": 4,
 "nbformat_minor": 2
}
