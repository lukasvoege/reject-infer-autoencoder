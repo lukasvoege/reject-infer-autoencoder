{
 "cells": [
  {
   "cell_type": "code",
   "execution_count": 125,
   "metadata": {},
   "outputs": [],
   "source": [
    "import sys\n",
    "sys.path.append('../src')\n",
    "\n",
    "import importlib\n",
    "import dyn_accept_loop as dal\n",
    "importlib.reload(dal)\n",
    "import reject_inference as rinf\n",
    "importlib.reload(rinf)\n",
    "import helper as h\n",
    "importlib.reload(h)\n",
    "\n",
    "import matplotlib.pyplot as plt\n",
    "\n",
    "import lightgbm as lgbm\n",
    "from sklearn.tree import DecisionTreeClassifier\n",
    "from sklearn.linear_model import LogisticRegression\n",
    "\n",
    "import lightgbm as lgbm\n",
    "\n",
    "import torch\n",
    "import torch.nn as nn\n",
    "\n",
    "\n",
    "import torch.distributions as dis"
   ]
  },
  {
   "cell_type": "code",
   "execution_count": 101,
   "metadata": {},
   "outputs": [],
   "source": [
    "test = torch.rand(10, 5)\n",
    "test2 = torch.rand(10, 5)"
   ]
  },
  {
   "cell_type": "code",
   "execution_count": 102,
   "metadata": {},
   "outputs": [],
   "source": [
    "MN_dist_good = dis.multivariate_normal.MultivariateNormal(torch.mean(test, dim=0), torch.cov(torch.transpose(test, 0, 1)))\n",
    "MN_dist_bad = dis.multivariate_normal.MultivariateNormal(torch.mean(test2, dim=0), torch.cov(torch.transpose(test2, 0, 1)))"
   ]
  },
  {
   "cell_type": "code",
   "execution_count": 105,
   "metadata": {},
   "outputs": [
    {
     "data": {
      "text/plain": [
       "tensor(0.1651)"
      ]
     },
     "execution_count": 105,
     "metadata": {},
     "output_type": "execute_result"
    }
   ],
   "source": [
    "criterion2 = nn.KLDivLoss(log_target=True, reduction=\"batchmean\")\n",
    "samp = MN_dist_good.sample((10,))\n",
    "criterion2(MN_dist_good.log_prob(samp), MN_dist_bad.log_prob(samp))"
   ]
  },
  {
   "cell_type": "code",
   "execution_count": 114,
   "metadata": {},
   "outputs": [
    {
     "data": {
      "text/plain": [
       "{'loc': IndependentConstraint(Real(), 1),\n",
       " 'covariance_matrix': PositiveDefinite(),\n",
       " 'precision_matrix': PositiveDefinite(),\n",
       " 'scale_tril': LowerCholesky()}"
      ]
     },
     "execution_count": 114,
     "metadata": {},
     "output_type": "execute_result"
    }
   ],
   "source": [
    "MN_dist_good.arg_constraints = {'loc': }"
   ]
  },
  {
   "cell_type": "code",
   "execution_count": 67,
   "metadata": {},
   "outputs": [
    {
     "data": {
      "text/plain": [
       "tensor([-1.5825, -2.0276,  1.7213, -0.4773,  1.1750, -0.3968,  1.0419, -1.9026,\n",
       "         0.4224,  0.7143])"
      ]
     },
     "execution_count": 67,
     "metadata": {},
     "output_type": "execute_result"
    }
   ],
   "source": [
    "MN_dist_good.log_prob(MN_dist_good.sample((10,)))"
   ]
  },
  {
   "cell_type": "code",
   "execution_count": 35,
   "metadata": {},
   "outputs": [
    {
     "data": {
      "text/plain": [
       "tensor([[ 0.0771,  0.0145, -0.0174,  0.0100, -0.0453,  0.0500,  0.0058, -0.0249,\n",
       "          0.0128],\n",
       "        [ 0.0145,  0.0830,  0.0215, -0.0059, -0.0298,  0.0096, -0.0415, -0.0226,\n",
       "          0.0813],\n",
       "        [-0.0174,  0.0215,  0.1262,  0.0699, -0.0488,  0.0635, -0.0352, -0.0826,\n",
       "          0.0165],\n",
       "        [ 0.0100, -0.0059,  0.0699,  0.1156, -0.0504,  0.0879, -0.0330, -0.0627,\n",
       "         -0.0229],\n",
       "        [-0.0453, -0.0298, -0.0488, -0.0504,  0.0765, -0.0669,  0.0448,  0.0387,\n",
       "         -0.0210],\n",
       "        [ 0.0500,  0.0096,  0.0635,  0.0879, -0.0669,  0.1131, -0.0036, -0.0777,\n",
       "          0.0115],\n",
       "        [ 0.0058, -0.0415, -0.0352, -0.0330,  0.0448, -0.0036,  0.0990,  0.0269,\n",
       "         -0.0192],\n",
       "        [-0.0249, -0.0226, -0.0826, -0.0627,  0.0387, -0.0777,  0.0269,  0.1330,\n",
       "         -0.0201],\n",
       "        [ 0.0128,  0.0813,  0.0165, -0.0229, -0.0210,  0.0115, -0.0192, -0.0201,\n",
       "          0.0939]])"
      ]
     },
     "execution_count": 35,
     "metadata": {},
     "output_type": "execute_result"
    }
   ],
   "source": [
    "torch.cov(torch.transpose(test, 0, 1))"
   ]
  },
  {
   "cell_type": "markdown",
   "metadata": {},
   "source": [
    "## Test importable Dynamic Acceptance Loop"
   ]
  },
  {
   "cell_type": "code",
   "execution_count": 126,
   "metadata": {},
   "outputs": [
    {
     "name": "stdout",
     "output_type": "stream",
     "text": [
      "Itteration: 0) Accepted: 1822 | Denied: 4253 - New train set size: (16822, 68)\n",
      "Itteration: 1) Accepted: 1822 | Denied: 4253 - New train set size: (18644, 68)\n",
      "Itteration: 2) Accepted: 1822 | Denied: 4253 - New train set size: (20466, 68)\n",
      "Itteration: 3) Accepted: 1822 | Denied: 4253 - New train set size: (22288, 68)\n",
      "Itteration: 4) Accepted: 1822 | Denied: 4253 - New train set size: (24110, 68)\n",
      "Itteration: 5) Accepted: 1822 | Denied: 4253 - New train set size: (25932, 68)\n",
      "Itteration: 6) Accepted: 1822 | Denied: 4253 - New train set size: (27754, 68)\n",
      "Itteration: 7) Accepted: 1822 | Denied: 4253 - New train set size: (29576, 68)\n",
      "Itteration: 8) Accepted: 1822 | Denied: 4253 - New train set size: (31398, 68)\n",
      "Itteration: 9) Accepted: 1822 | Denied: 4253 - New train set size: (33220, 68)\n",
      "Itteration: 10) Accepted: 1822 | Denied: 4253 - New train set size: (35042, 68)\n",
      "Itteration: 11) Accepted: 1822 | Denied: 4253 - New train set size: (36864, 68)\n",
      "Itteration: 12) Accepted: 1822 | Denied: 4253 - New train set size: (38686, 68)\n",
      "Itteration: 13) Accepted: 1822 | Denied: 4253 - New train set size: (40508, 68)\n",
      "Itteration: 14) Accepted: 1822 | Denied: 4253 - New train set size: (42330, 68)\n",
      "Itteration: 15) Accepted: 1822 | Denied: 4253 - New train set size: (44152, 68)\n",
      "Itteration: 16) Accepted: 1822 | Denied: 4253 - New train set size: (45974, 68)\n",
      "Itteration: 17) Accepted: 1822 | Denied: 4253 - New train set size: (47796, 68)\n",
      "Itteration: 18) Accepted: 1822 | Denied: 4253 - New train set size: (49618, 68)\n",
      "Itteration: 19) Accepted: 1822 | Denied: 4253 - New train set size: (51440, 68)\n"
     ]
    },
    {
     "data": {
      "image/png": "[encoded data removed]",
      "text/plain": [
       "<Figure size 432x288 with 1 Axes>"
      ]
     },
     "metadata": {
      "needs_background": "light"
     },
     "output_type": "display_data"
    },
    {
     "name": "stdout",
     "output_type": "stream",
     "text": [
      "Sampling Bias: 0.03679\n"
     ]
    }
   ],
   "source": [
    "n_years = 20\n",
    "\n",
    "model = lgbm.LGBMClassifier() # DecisionTreeClassifier(min_samples_leaf=40) LogisticRegression(max_iter=400)\n",
    "\n",
    "sim = dal.Simulate_acceptance_loop(\"gmsc.csv\", model, 0.1, 0.1, n_years, enc_features=False, rej_inf=None)#rinf.EMsemisupervised)\n",
    "results_generator = sim.run()\n",
    "\n",
    "metrics = None\n",
    "for iteration in results_generator:\n",
    "    print(f'Itteration: {iteration[0]}) Accepted: {iteration[1].count(True)} | Denied: {iteration[1].count(False)} - New train set size: {iteration[2]}')\n",
    "    metrics = iteration[3]\n",
    "\n",
    "last_n_years = 5\n",
    "bias = h.measure_bias(metrics[\"oracle\"][\"holdout\"]['roc_auc'], metrics[\"model\"][\"holdout\"]['roc_auc'], last_n_years)\n",
    "    \n",
    "x = range(1, n_years + 1)\n",
    "plt.plot(x, metrics[\"model\"][\"holdout\"]['roc_auc'], label = 'roc_auc-model')\n",
    "plt.plot(x, metrics[\"oracle\"][\"holdout\"]['roc_auc'], label = 'roc_auc-oracle')\n",
    "#plt.plot(x, results[\"holdout\"]['precision'], label = 'precision')\n",
    "#plt.plot(x, results[\"holdout\"]['f1'], label = 'f1')\n",
    "#plt.plot(x, results[\"holdout\"]['accuracy'], label = 'accuracy')\n",
    "plt.text(0.75, 0.52, f'Avg. performance lost in last {last_n_years} iterations: {round(bias, 5)}')\n",
    "plt.legend()\n",
    "plt.ylim([0.5, 1.0])\n",
    "plt.show()\n",
    "\n",
    "\n",
    "print(f'Sampling Bias: {round(bias, 5)}')"
   ]
  },
  {
   "cell_type": "code",
   "execution_count": 127,
   "metadata": {},
   "outputs": [
    {
     "name": "stdout",
     "output_type": "stream",
     "text": [
      "0.036786960517788916\n"
     ]
    }
   ],
   "source": [
    "print(h.measure_bias(metrics[\"oracle\"][\"holdout\"]['roc_auc'], metrics[\"model\"][\"holdout\"]['roc_auc'], last_n_years))"
   ]
  },
  {
   "cell_type": "markdown",
   "metadata": {},
   "source": [
    "## Test importable Autoencoder"
   ]
  },
  {
   "cell_type": "code",
   "execution_count": 153,
   "metadata": {},
   "outputs": [
    {
     "data": {
      "text/plain": [
       "<module 'autoencoder' from 'c:\\\\Projects\\\\Information-Systems-Seminar\\\\reject-infer-autoencoder\\\\notebooks\\\\../src\\\\autoencoder.py'>"
      ]
     },
     "execution_count": 153,
     "metadata": {},
     "output_type": "execute_result"
    }
   ],
   "source": [
    "import autoencoder as aenc\n",
    "import importlib\n",
    "importlib.reload(aenc)"
   ]
  },
  {
   "cell_type": "code",
   "execution_count": 154,
   "metadata": {},
   "outputs": [
    {
     "name": "stdout",
     "output_type": "stream",
     "text": [
      "Autoencoder(\n",
      "  (enc): ModuleList(\n",
      "    (0): Linear(in_features=68, out_features=35, bias=True)\n",
      "    (1): Linear(in_features=35, out_features=20, bias=True)\n",
      "  )\n",
      "  (dec): ModuleList(\n",
      "    (0): Linear(in_features=20, out_features=35, bias=True)\n",
      "    (1): Linear(in_features=35, out_features=68, bias=True)\n",
      "  )\n",
      ")\n",
      "Epoch 1 of 40, Train Loss: 322110327159212160.000\n",
      "Epoch 2 of 40, Train Loss: 441501354866535.188\n",
      "Epoch 3 of 40, Train Loss: 390905341869101.875\n",
      "Epoch 4 of 40, Train Loss: 319790912838335.062\n",
      "Epoch 5 of 40, Train Loss: 435755005092940.438\n",
      "Epoch 6 of 40, Train Loss: 361303593318491.688\n",
      "Epoch 7 of 40, Train Loss: 328006464360020.062\n",
      "Epoch 8 of 40, Train Loss: 438709091855100.188\n",
      "Epoch 9 of 40, Train Loss: 327354301683436.875\n",
      "Epoch 10 of 40, Train Loss: 297774880117286.188\n",
      "Epoch 11 of 40, Train Loss: 250435153377616.250\n",
      "Epoch 12 of 40, Train Loss: 247481953564030.094\n",
      "Epoch 13 of 40, Train Loss: 270078153940869.719\n",
      "Epoch 14 of 40, Train Loss: 225252344437928.125\n",
      "Epoch 15 of 40, Train Loss: 232952198316765.625\n",
      "Epoch 16 of 40, Train Loss: 204985584007504.250\n",
      "Epoch 17 of 40, Train Loss: 223291603290020.312\n",
      "Epoch 18 of 40, Train Loss: 186181419618365.125\n",
      "Epoch 19 of 40, Train Loss: 214611472442199.875\n",
      "Epoch 20 of 40, Train Loss: 209514115292572.656\n",
      "Epoch 21 of 40, Train Loss: 175581737188397.844\n"
     ]
    },
    {
     "ename": "KeyboardInterrupt",
     "evalue": "",
     "output_type": "error",
     "traceback": [
      "\u001b[1;31m---------------------------------------------------------------------------\u001b[0m",
      "\u001b[1;31mKeyboardInterrupt\u001b[0m                         Traceback (most recent call last)",
      "\u001b[1;32m~\\AppData\\Local\\Temp/ipykernel_79584/134207690.py\u001b[0m in \u001b[0;36m<module>\u001b[1;34m\u001b[0m\n\u001b[0;32m     14\u001b[0m \u001b[0mnet\u001b[0m\u001b[1;33m.\u001b[0m\u001b[0mto\u001b[0m\u001b[1;33m(\u001b[0m\u001b[1;34m\"cpu\"\u001b[0m\u001b[1;33m)\u001b[0m\u001b[1;33m\u001b[0m\u001b[1;33m\u001b[0m\u001b[0m\n\u001b[0;32m     15\u001b[0m \u001b[1;33m\u001b[0m\u001b[0m\n\u001b[1;32m---> 16\u001b[1;33m \u001b[0mtrain_loss\u001b[0m \u001b[1;33m=\u001b[0m \u001b[0maenc\u001b[0m\u001b[1;33m.\u001b[0m\u001b[0mtrain\u001b[0m\u001b[1;33m(\u001b[0m\u001b[0mnet\u001b[0m\u001b[1;33m,\u001b[0m \u001b[0mdata_loader\u001b[0m\u001b[1;33m,\u001b[0m \u001b[0mEPOCHS\u001b[0m\u001b[1;33m)\u001b[0m\u001b[1;33m\u001b[0m\u001b[1;33m\u001b[0m\u001b[0m\n\u001b[0m\u001b[0;32m     17\u001b[0m \u001b[1;33m\u001b[0m\u001b[0m\n\u001b[0;32m     18\u001b[0m \u001b[0mplt\u001b[0m\u001b[1;33m.\u001b[0m\u001b[0mfigure\u001b[0m\u001b[1;33m(\u001b[0m\u001b[1;33m)\u001b[0m\u001b[1;33m\u001b[0m\u001b[1;33m\u001b[0m\u001b[0m\n",
      "\u001b[1;32mc:\\Projects\\Information-Systems-Seminar\\reject-infer-autoencoder\\notebooks\\../src\\autoencoder.py\u001b[0m in \u001b[0;36mtrain\u001b[1;34m(net, trainloader, epochs)\u001b[0m\n\u001b[0;32m     77\u001b[0m             \u001b[0mgood\u001b[0m \u001b[1;33m=\u001b[0m \u001b[1;33m[\u001b[0m\u001b[1;32mTrue\u001b[0m \u001b[1;32mif\u001b[0m \u001b[0mx\u001b[0m \u001b[1;33m==\u001b[0m \u001b[1;36m0\u001b[0m \u001b[1;32melse\u001b[0m \u001b[1;32mFalse\u001b[0m \u001b[1;32mfor\u001b[0m \u001b[0mx\u001b[0m \u001b[1;32min\u001b[0m \u001b[0mdata_y\u001b[0m\u001b[1;33m]\u001b[0m\u001b[1;33m\u001b[0m\u001b[1;33m\u001b[0m\u001b[0m\n\u001b[0;32m     78\u001b[0m             \u001b[0menc_good\u001b[0m \u001b[1;33m=\u001b[0m \u001b[0mencoded\u001b[0m\u001b[1;33m[\u001b[0m\u001b[0mgood\u001b[0m\u001b[1;33m]\u001b[0m\u001b[1;33m\u001b[0m\u001b[1;33m\u001b[0m\u001b[0m\n\u001b[1;32m---> 79\u001b[1;33m             \u001b[0menc_bad\u001b[0m \u001b[1;33m=\u001b[0m \u001b[0mencoded\u001b[0m\u001b[1;33m[\u001b[0m\u001b[1;33m[\u001b[0m\u001b[1;32mnot\u001b[0m \u001b[0mvalue\u001b[0m \u001b[1;32mfor\u001b[0m \u001b[0mvalue\u001b[0m \u001b[1;32min\u001b[0m \u001b[0mgood\u001b[0m\u001b[1;33m]\u001b[0m\u001b[1;33m]\u001b[0m\u001b[1;33m\u001b[0m\u001b[1;33m\u001b[0m\u001b[0m\n\u001b[0m\u001b[0;32m     80\u001b[0m             \u001b[1;31m#print(f'Enc_good shape: {enc_good.shape} Enc_bad shape: {enc_bad.shape}')\u001b[0m\u001b[1;33m\u001b[0m\u001b[1;33m\u001b[0m\u001b[1;33m\u001b[0m\u001b[0m\n\u001b[0;32m     81\u001b[0m \u001b[1;33m\u001b[0m\u001b[0m\n",
      "\u001b[1;31mKeyboardInterrupt\u001b[0m: "
     ]
    }
   ],
   "source": [
    "BATCH_SIZE = 300\n",
    "EPOCHS = 40\n",
    "\n",
    "dataset = aenc.CreditscoringDataset(\"gmsc.csv\")      # load and prepare Dataset to Tensor\n",
    "data_loader = aenc.DataLoader(                       # create Dataloader for batching\n",
    "    dataset, \n",
    "    batch_size=BATCH_SIZE,\n",
    "    shuffle=True\n",
    ")\n",
    "\n",
    "shape = [dataset.x.shape[1], 35, 20, 35, dataset.x.shape[1]]  # define shape of Autoencoder\n",
    "net = aenc.Autoencoder(shape)\n",
    "print(net)\n",
    "net.to(\"cpu\")\n",
    "\n",
    "train_loss = aenc.train(net, data_loader, EPOCHS)               \n",
    "\n",
    "plt.figure()\n",
    "plt.plot(train_loss)\n",
    "plt.title('Train Loss')\n",
    "plt.xlabel('Epochs')\n",
    "plt.ylabel('Loss')\n",
    "plt.show()"
   ]
  },
  {
   "cell_type": "code",
   "execution_count": 145,
   "metadata": {},
   "outputs": [
    {
     "name": "stdout",
     "output_type": "stream",
     "text": [
      "Itteration: 0) Accepted: 671 | Denied: 5404 - New train set size: (15671, 2)\n"
     ]
    },
    {
     "name": "stderr",
     "output_type": "stream",
     "text": [
      "c:\\Projects\\Information-Systems-Seminar\\.venv\\lib\\site-packages\\sklearn\\metrics\\_classification.py:1308: UndefinedMetricWarning: Precision is ill-defined and being set to 0.0 due to no predicted samples. Use `zero_division` parameter to control this behavior.\n",
      "  _warn_prf(average, modifier, msg_start, len(result))\n"
     ]
    },
    {
     "name": "stdout",
     "output_type": "stream",
     "text": [
      "Itteration: 1) Accepted: 631 | Denied: 5444 - New train set size: (16302, 2)\n"
     ]
    },
    {
     "name": "stderr",
     "output_type": "stream",
     "text": [
      "c:\\Projects\\Information-Systems-Seminar\\.venv\\lib\\site-packages\\sklearn\\metrics\\_classification.py:1308: UndefinedMetricWarning: Precision is ill-defined and being set to 0.0 due to no predicted samples. Use `zero_division` parameter to control this behavior.\n",
      "  _warn_prf(average, modifier, msg_start, len(result))\n",
      "c:\\Projects\\Information-Systems-Seminar\\.venv\\lib\\site-packages\\sklearn\\metrics\\_classification.py:1308: UndefinedMetricWarning: Precision is ill-defined and being set to 0.0 due to no predicted samples. Use `zero_division` parameter to control this behavior.\n",
      "  _warn_prf(average, modifier, msg_start, len(result))\n"
     ]
    },
    {
     "name": "stdout",
     "output_type": "stream",
     "text": [
      "Itteration: 2) Accepted: 647 | Denied: 5428 - New train set size: (16949, 2)\n"
     ]
    },
    {
     "name": "stderr",
     "output_type": "stream",
     "text": [
      "c:\\Projects\\Information-Systems-Seminar\\.venv\\lib\\site-packages\\sklearn\\metrics\\_classification.py:1308: UndefinedMetricWarning: Precision is ill-defined and being set to 0.0 due to no predicted samples. Use `zero_division` parameter to control this behavior.\n",
      "  _warn_prf(average, modifier, msg_start, len(result))\n",
      "c:\\Projects\\Information-Systems-Seminar\\.venv\\lib\\site-packages\\sklearn\\metrics\\_classification.py:1308: UndefinedMetricWarning: Precision is ill-defined and being set to 0.0 due to no predicted samples. Use `zero_division` parameter to control this behavior.\n",
      "  _warn_prf(average, modifier, msg_start, len(result))\n"
     ]
    },
    {
     "name": "stdout",
     "output_type": "stream",
     "text": [
      "Itteration: 3) Accepted: 663 | Denied: 5412 - New train set size: (17612, 2)\n"
     ]
    },
    {
     "name": "stderr",
     "output_type": "stream",
     "text": [
      "c:\\Projects\\Information-Systems-Seminar\\.venv\\lib\\site-packages\\sklearn\\metrics\\_classification.py:1308: UndefinedMetricWarning: Precision is ill-defined and being set to 0.0 due to no predicted samples. Use `zero_division` parameter to control this behavior.\n",
      "  _warn_prf(average, modifier, msg_start, len(result))\n",
      "c:\\Projects\\Information-Systems-Seminar\\.venv\\lib\\site-packages\\sklearn\\metrics\\_classification.py:1308: UndefinedMetricWarning: Precision is ill-defined and being set to 0.0 due to no predicted samples. Use `zero_division` parameter to control this behavior.\n",
      "  _warn_prf(average, modifier, msg_start, len(result))\n"
     ]
    },
    {
     "name": "stdout",
     "output_type": "stream",
     "text": [
      "Itteration: 4) Accepted: 604 | Denied: 5471 - New train set size: (18216, 2)\n"
     ]
    },
    {
     "name": "stderr",
     "output_type": "stream",
     "text": [
      "c:\\Projects\\Information-Systems-Seminar\\.venv\\lib\\site-packages\\sklearn\\metrics\\_classification.py:1308: UndefinedMetricWarning: Precision is ill-defined and being set to 0.0 due to no predicted samples. Use `zero_division` parameter to control this behavior.\n",
      "  _warn_prf(average, modifier, msg_start, len(result))\n",
      "c:\\Projects\\Information-Systems-Seminar\\.venv\\lib\\site-packages\\sklearn\\metrics\\_classification.py:1308: UndefinedMetricWarning: Precision is ill-defined and being set to 0.0 due to no predicted samples. Use `zero_division` parameter to control this behavior.\n",
      "  _warn_prf(average, modifier, msg_start, len(result))\n",
      "c:\\Projects\\Information-Systems-Seminar\\.venv\\lib\\site-packages\\sklearn\\metrics\\_classification.py:1308: UndefinedMetricWarning: Precision is ill-defined and being set to 0.0 due to no predicted samples. Use `zero_division` parameter to control this behavior.\n",
      "  _warn_prf(average, modifier, msg_start, len(result))\n"
     ]
    },
    {
     "name": "stdout",
     "output_type": "stream",
     "text": [
      "Itteration: 5) Accepted: 637 | Denied: 5438 - New train set size: (18853, 2)\n",
      "Itteration: 6) Accepted: 643 | Denied: 5432 - New train set size: (19496, 2)\n"
     ]
    },
    {
     "name": "stderr",
     "output_type": "stream",
     "text": [
      "c:\\Projects\\Information-Systems-Seminar\\.venv\\lib\\site-packages\\sklearn\\metrics\\_classification.py:1308: UndefinedMetricWarning: Precision is ill-defined and being set to 0.0 due to no predicted samples. Use `zero_division` parameter to control this behavior.\n",
      "  _warn_prf(average, modifier, msg_start, len(result))\n",
      "c:\\Projects\\Information-Systems-Seminar\\.venv\\lib\\site-packages\\sklearn\\metrics\\_classification.py:1308: UndefinedMetricWarning: Precision is ill-defined and being set to 0.0 due to no predicted samples. Use `zero_division` parameter to control this behavior.\n",
      "  _warn_prf(average, modifier, msg_start, len(result))\n"
     ]
    },
    {
     "name": "stdout",
     "output_type": "stream",
     "text": [
      "Itteration: 7) Accepted: 633 | Denied: 5442 - New train set size: (20129, 2)\n",
      "Itteration: 8) Accepted: 653 | Denied: 5422 - New train set size: (20782, 2)\n",
      "Itteration: 9) Accepted: 667 | Denied: 5408 - New train set size: (21449, 2)\n",
      "Itteration: 10) Accepted: 612 | Denied: 5463 - New train set size: (22061, 2)\n",
      "Itteration: 11) Accepted: 589 | Denied: 5486 - New train set size: (22650, 2)\n",
      "Itteration: 12) Accepted: 599 | Denied: 5476 - New train set size: (23249, 2)\n",
      "Itteration: 13) Accepted: 545 | Denied: 5530 - New train set size: (23794, 2)\n"
     ]
    },
    {
     "name": "stderr",
     "output_type": "stream",
     "text": [
      "c:\\Projects\\Information-Systems-Seminar\\.venv\\lib\\site-packages\\sklearn\\metrics\\_classification.py:1308: UndefinedMetricWarning: Precision is ill-defined and being set to 0.0 due to no predicted samples. Use `zero_division` parameter to control this behavior.\n",
      "  _warn_prf(average, modifier, msg_start, len(result))\n",
      "c:\\Projects\\Information-Systems-Seminar\\.venv\\lib\\site-packages\\sklearn\\metrics\\_classification.py:1308: UndefinedMetricWarning: Precision is ill-defined and being set to 0.0 due to no predicted samples. Use `zero_division` parameter to control this behavior.\n",
      "  _warn_prf(average, modifier, msg_start, len(result))\n"
     ]
    },
    {
     "name": "stdout",
     "output_type": "stream",
     "text": [
      "Itteration: 14) Accepted: 646 | Denied: 5429 - New train set size: (24440, 2)\n"
     ]
    },
    {
     "name": "stderr",
     "output_type": "stream",
     "text": [
      "c:\\Projects\\Information-Systems-Seminar\\.venv\\lib\\site-packages\\sklearn\\metrics\\_classification.py:1308: UndefinedMetricWarning: Precision is ill-defined and being set to 0.0 due to no predicted samples. Use `zero_division` parameter to control this behavior.\n",
      "  _warn_prf(average, modifier, msg_start, len(result))\n"
     ]
    },
    {
     "name": "stdout",
     "output_type": "stream",
     "text": [
      "Itteration: 15) Accepted: 621 | Denied: 5454 - New train set size: (25061, 2)\n",
      "Itteration: 16) Accepted: 627 | Denied: 5448 - New train set size: (25688, 2)\n"
     ]
    },
    {
     "name": "stderr",
     "output_type": "stream",
     "text": [
      "c:\\Projects\\Information-Systems-Seminar\\.venv\\lib\\site-packages\\sklearn\\metrics\\_classification.py:1308: UndefinedMetricWarning: Precision is ill-defined and being set to 0.0 due to no predicted samples. Use `zero_division` parameter to control this behavior.\n",
      "  _warn_prf(average, modifier, msg_start, len(result))\n"
     ]
    },
    {
     "name": "stdout",
     "output_type": "stream",
     "text": [
      "Itteration: 17) Accepted: 625 | Denied: 5450 - New train set size: (26313, 2)\n"
     ]
    },
    {
     "name": "stderr",
     "output_type": "stream",
     "text": [
      "c:\\Projects\\Information-Systems-Seminar\\.venv\\lib\\site-packages\\sklearn\\metrics\\_classification.py:1308: UndefinedMetricWarning: Precision is ill-defined and being set to 0.0 due to no predicted samples. Use `zero_division` parameter to control this behavior.\n",
      "  _warn_prf(average, modifier, msg_start, len(result))\n"
     ]
    },
    {
     "name": "stdout",
     "output_type": "stream",
     "text": [
      "Itteration: 18) Accepted: 605 | Denied: 5470 - New train set size: (26918, 2)\n"
     ]
    },
    {
     "name": "stderr",
     "output_type": "stream",
     "text": [
      "c:\\Projects\\Information-Systems-Seminar\\.venv\\lib\\site-packages\\sklearn\\metrics\\_classification.py:1308: UndefinedMetricWarning: Precision is ill-defined and being set to 0.0 due to no predicted samples. Use `zero_division` parameter to control this behavior.\n",
      "  _warn_prf(average, modifier, msg_start, len(result))\n",
      "c:\\Projects\\Information-Systems-Seminar\\.venv\\lib\\site-packages\\sklearn\\metrics\\_classification.py:1308: UndefinedMetricWarning: Precision is ill-defined and being set to 0.0 due to no predicted samples. Use `zero_division` parameter to control this behavior.\n",
      "  _warn_prf(average, modifier, msg_start, len(result))\n"
     ]
    },
    {
     "name": "stdout",
     "output_type": "stream",
     "text": [
      "Itteration: 19) Accepted: 606 | Denied: 5469 - New train set size: (27524, 2)\n"
     ]
    },
    {
     "data": {
      "image/png": "[encoded data removed]",
      "text/plain": [
       "<Figure size 432x288 with 1 Axes>"
      ]
     },
     "metadata": {
      "needs_background": "light"
     },
     "output_type": "display_data"
    }
   ],
   "source": [
    "n_years = 20\n",
    "\n",
    "sim = dal.Simulate_acceptance_loop(\"gmsc.csv\", model, 0.1, 0.1, n_years, enc_features=True, encoder=net)#, rej_inf=rinf.EMsemisupervised)\n",
    "results_generator = sim.run()\n",
    "\n",
    "metrics2 = None\n",
    "for iteration in results_generator:\n",
    "    print(f'Itteration: {iteration[0]}) Accepted: {iteration[1].count(True)} | Denied: {iteration[1].count(False)} - New train set size: {iteration[2]}')\n",
    "    metrics2 = iteration[3]\n",
    "\n",
    "last_n_years = 5\n",
    "bias2 = h.measure_bias(metrics2[\"oracle\"][\"holdout\"]['roc_auc'], metrics2[\"model\"][\"holdout\"]['roc_auc'], last_n_years)\n",
    "    \n",
    "x = range(1, n_years + 1)\n",
    "plt.plot(x, metrics[\"model\"][\"holdout\"]['roc_auc'], label = 'roc_auc-model')\n",
    "plt.plot(x, metrics[\"oracle\"][\"holdout\"]['roc_auc'], label = 'roc_auc-oracle')\n",
    "plt.plot(x, metrics2[\"model\"][\"holdout\"]['roc_auc'], label = 'ENC(roc_auc-model)')\n",
    "plt.plot(x, metrics2[\"oracle\"][\"holdout\"]['roc_auc'], label = 'ENC(roc_auc-oracle)')\n",
    "plt.text(0.75, 0.97, f'Avg. performance lost in last {last_n_years} iterations: {round(bias, 5)}')\n",
    "plt.text(0.75, 0.94, f'With Autoencoder: {round(bias2, 5)}')\n",
    "plt.legend()\n",
    "plt.ylim([0.5, 1.0])\n",
    "plt.show()"
   ]
  }
 ],
 "metadata": {
  "interpreter": {
   "hash": "ba78132cbc4cb21d1adddebf0b46368c183af7c9ca0d563bbae5210b7ec22c6c"
  },
  "kernelspec": {
   "display_name": "Python 3.8.10 64-bit ('.venv': venv)",
   "language": "python",
   "name": "python3"
  },
  "language_info": {
   "codemirror_mode": {
    "name": "ipython",
    "version": 3
   },
   "file_extension": ".py",
   "mimetype": "text/x-python",
   "name": "python",
   "nbconvert_exporter": "python",
   "pygments_lexer": "ipython3",
   "version": "3.8.10"
  },
  "orig_nbformat": 4
 },
 "nbformat": 4,
 "nbformat_minor": 2
}
