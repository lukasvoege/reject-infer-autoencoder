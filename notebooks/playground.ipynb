{
 "cells": [
  {
   "cell_type": "code",
   "execution_count": 1,
   "metadata": {},
   "outputs": [],
   "source": [
    "import sys\n",
    "sys.path.append('../src')\n",
    "\n",
    "import importlib\n",
    "import dyn_accept_loop as dal\n",
    "importlib.reload(dal)\n",
    "import reject_inference as rinf\n",
    "importlib.reload(rinf)\n",
    "\n",
    "import matplotlib.pyplot as plt\n",
    "\n",
    "import lightgbm as lgbm\n",
    "from sklearn.tree import DecisionTreeClassifier\n",
    "from sklearn.linear_model import LogisticRegression\n",
    "\n",
    "import torch"
   ]
  },
  {
   "cell_type": "markdown",
   "metadata": {},
   "source": [
    "## Test importable Dynamic Acceptance Loop"
   ]
  },
  {
   "cell_type": "code",
   "execution_count": 2,
   "metadata": {},
   "outputs": [
    {
     "name": "stderr",
     "output_type": "stream",
     "text": [
      "C:\\Users\\haase.PAPMEIER\\AppData\\Local\\Packages\\PythonSoftwareFoundation.Python.3.9_qbz5n2kfra8p0\\LocalCache\\local-packages\\Python39\\site-packages\\pandas\\core\\arraylike.py:364: RuntimeWarning: divide by zero encountered in log\n",
      "  result = getattr(ufunc, method)(*inputs, **kwargs)\n"
     ]
    },
    {
     "name": "stdout",
     "output_type": "stream",
     "text": [
      "Itteration: 0) Accepted: 729 | Denied: 1701 - New train set size: (6729, 115)\n",
      "Itteration: 1) Accepted: 729 | Denied: 1701 - New train set size: (7458, 115)\n",
      "Itteration: 2) Accepted: 729 | Denied: 1701 - New train set size: (8187, 115)\n",
      "Itteration: 3) Accepted: 729 | Denied: 1701 - New train set size: (8916, 115)\n",
      "Itteration: 4) Accepted: 729 | Denied: 1701 - New train set size: (9645, 115)\n",
      "Itteration: 5) Accepted: 729 | Denied: 1701 - New train set size: (10374, 115)\n",
      "Itteration: 6) Accepted: 729 | Denied: 1701 - New train set size: (11103, 115)\n",
      "Itteration: 7) Accepted: 729 | Denied: 1701 - New train set size: (11832, 115)\n",
      "Itteration: 8) Accepted: 729 | Denied: 1701 - New train set size: (12561, 115)\n",
      "Itteration: 9) Accepted: 729 | Denied: 1701 - New train set size: (13290, 115)\n",
      "Itteration: 10) Accepted: 729 | Denied: 1701 - New train set size: (14019, 115)\n",
      "Itteration: 11) Accepted: 729 | Denied: 1701 - New train set size: (14748, 115)\n",
      "Itteration: 12) Accepted: 729 | Denied: 1701 - New train set size: (15477, 115)\n",
      "Itteration: 13) Accepted: 729 | Denied: 1701 - New train set size: (16206, 115)\n",
      "Itteration: 14) Accepted: 729 | Denied: 1701 - New train set size: (16935, 115)\n",
      "Itteration: 15) Accepted: 729 | Denied: 1701 - New train set size: (17664, 115)\n",
      "Itteration: 16) Accepted: 729 | Denied: 1701 - New train set size: (18393, 115)\n",
      "Itteration: 17) Accepted: 729 | Denied: 1701 - New train set size: (19122, 115)\n",
      "Itteration: 18) Accepted: 729 | Denied: 1701 - New train set size: (19851, 115)\n",
      "Itteration: 19) Accepted: 729 | Denied: 1701 - New train set size: (20580, 115)\n"
     ]
    },
    {
     "data": {
      "image/png": "[encoded data removed]",
      "text/plain": [
       "<Figure size 432x288 with 1 Axes>"
      ]
     },
     "metadata": {
      "needs_background": "light"
     },
     "output_type": "display_data"
    }
   ],
   "source": [
    "n_years = 20\n",
    "\n",
    "sim = dal.Simulate_acceptance_loop(\"paipaidai.csv\", LogisticRegression(max_iter=400), 0.1, 0.1, n_years, enc_features=False, rej_inf=rinf.EMsemisupervised)\n",
    "results_generator = sim.run()\n",
    "\n",
    "metrics = None\n",
    "for iteration in results_generator:\n",
    "    print(f'Itteration: {iteration[0]}) Accepted: {iteration[1].count(True)} | Denied: {iteration[1].count(False)} - New train set size: {iteration[2]}')\n",
    "    metrics = iteration[3]\n",
    "    \n",
    "x = range(1, n_years + 1)\n",
    "plt.plot(x, metrics[\"model\"][\"holdout\"]['roc_auc'], label = 'roc_auc-model')\n",
    "plt.plot(x, metrics[\"oracle\"][\"holdout\"]['roc_auc'], label = 'roc_auc-oracle')\n",
    "#plt.plot(x, results[\"holdout\"]['precision'], label = 'precision')\n",
    "#plt.plot(x, results[\"holdout\"]['f1'], label = 'f1')\n",
    "#plt.plot(x, results[\"holdout\"]['accuracy'], label = 'accuracy')\n",
    "plt.legend()\n",
    "plt.ylim([0.5, 1.0])\n",
    "plt.show()"
   ]
  },
  {
   "cell_type": "markdown",
   "metadata": {},
   "source": [
    "## Test importable Autoencoder"
   ]
  },
  {
   "cell_type": "code",
   "execution_count": 3,
   "metadata": {},
   "outputs": [
    {
     "data": {
      "text/plain": [
       "<module 'autoencoder' from 'c:\\\\Projects\\\\Information-Systems-Seminar\\\\reject-infer-autoencoder\\\\notebooks\\\\../src\\\\autoencoder.py'>"
      ]
     },
     "execution_count": 3,
     "metadata": {},
     "output_type": "execute_result"
    }
   ],
   "source": [
    "import autoencoder as aenc\n",
    "import importlib\n",
    "importlib.reload(aenc)"
   ]
  },
  {
   "cell_type": "code",
   "execution_count": 4,
   "metadata": {},
   "outputs": [
    {
     "name": "stdout",
     "output_type": "stream",
     "text": [
      "Autoencoder(\n",
      "  (enc): ModuleList(\n",
      "    (0): Linear(in_features=68, out_features=35, bias=True)\n",
      "    (1): Linear(in_features=35, out_features=2, bias=True)\n",
      "  )\n",
      "  (dec): ModuleList(\n",
      "    (0): Linear(in_features=2, out_features=35, bias=True)\n",
      "    (1): Linear(in_features=35, out_features=68, bias=True)\n",
      "  )\n",
      ")\n",
      "Epoch 1 of 20, Train Loss: 0.913\n",
      "Epoch 2 of 20, Train Loss: 0.837\n",
      "Epoch 3 of 20, Train Loss: 0.822\n",
      "Epoch 4 of 20, Train Loss: 0.809\n",
      "Epoch 5 of 20, Train Loss: 0.801\n",
      "Epoch 6 of 20, Train Loss: 0.795\n",
      "Epoch 7 of 20, Train Loss: 0.790\n",
      "Epoch 8 of 20, Train Loss: 0.786\n",
      "Epoch 9 of 20, Train Loss: 0.783\n",
      "Epoch 10 of 20, Train Loss: 0.780\n",
      "Epoch 11 of 20, Train Loss: 0.779\n",
      "Epoch 12 of 20, Train Loss: 0.777\n",
      "Epoch 13 of 20, Train Loss: 0.775\n",
      "Epoch 14 of 20, Train Loss: 0.774\n",
      "Epoch 15 of 20, Train Loss: 0.772\n",
      "Epoch 16 of 20, Train Loss: 0.771\n",
      "Epoch 17 of 20, Train Loss: 0.769\n",
      "Epoch 18 of 20, Train Loss: 0.766\n",
      "Epoch 19 of 20, Train Loss: 0.765\n",
      "Epoch 20 of 20, Train Loss: 0.764\n"
     ]
    },
    {
     "data": {
      "image/png": "[encoded data removed]",
      "text/plain": [
       "<Figure size 432x288 with 1 Axes>"
      ]
     },
     "metadata": {
      "needs_background": "light"
     },
     "output_type": "display_data"
    }
   ],
   "source": [
    "BATCH_SIZE = 1000\n",
    "EPOCHS = 50\n",
    "\n",
    "dataset = aenc.CreditscoringDataset(\"gmsc.csv\")      # load and prepare Dataset to Tensor\n",
    "data_loader = aenc.DataLoader(                       # create Dataloader for batching\n",
    "    dataset, \n",
    "    batch_size=BATCH_SIZE,\n",
    "    shuffle=True\n",
    ")\n",
    "\n",
    "shape = [dataset.x.shape[1], 35, 2, 35, dataset.x.shape[1]]  # define shape of Autoencoder\n",
    "net = aenc.Autoencoder(shape)\n",
    "print(net)\n",
    "net.to(\"cpu\")\n",
    "\n",
    "train_loss = aenc.train(net, data_loader, EPOCHS)               \n",
    "\n",
    "plt.figure()\n",
    "plt.plot(train_loss)\n",
    "plt.title('Train Loss')\n",
    "plt.xlabel('Epochs')\n",
    "plt.ylabel('Loss')\n",
    "plt.show()"
   ]
  },
  {
   "cell_type": "code",
   "execution_count": 5,
   "metadata": {},
   "outputs": [
    {
     "name": "stdout",
     "output_type": "stream",
     "text": [
      "tensor([[1.9855, 3.4918],\n",
      "        [2.6322, 4.3805],\n",
      "        [1.6987, 2.5035],\n",
      "        [2.9201, 3.8055],\n",
      "        [2.7041, 4.6834],\n",
      "        [2.6671, 3.8857],\n",
      "        [2.0525, 2.9384],\n",
      "        [1.2457, 1.8258],\n",
      "        [2.6590, 3.9460],\n",
      "        [2.1117, 4.1212]])\n"
     ]
    }
   ],
   "source": [
    "# Use trained Autoencoder\n",
    "with torch.no_grad():\n",
    "    print(net.encode(torch.rand(10, 68)))"
   ]
  },
  {
   "cell_type": "code",
   "execution_count": 6,
   "metadata": {},
   "outputs": [
    {
     "name": "stdout",
     "output_type": "stream",
     "text": [
      "Itteration: 0) Accepted: 1815 | Denied: 4260 - New train set size: (16815, 2)\n",
      "Itteration: 1) Accepted: 1796 | Denied: 4279 - New train set size: (18611, 2)\n",
      "Itteration: 2) Accepted: 1809 | Denied: 4266 - New train set size: (20420, 2)\n",
      "Itteration: 3) Accepted: 1821 | Denied: 4254 - New train set size: (22241, 2)\n",
      "Itteration: 4) Accepted: 1820 | Denied: 4255 - New train set size: (24061, 2)\n",
      "Itteration: 5) Accepted: 1819 | Denied: 4256 - New train set size: (25880, 2)\n",
      "Itteration: 6) Accepted: 1822 | Denied: 4253 - New train set size: (27702, 2)\n",
      "Itteration: 7) Accepted: 1822 | Denied: 4253 - New train set size: (29524, 2)\n",
      "Itteration: 8) Accepted: 1811 | Denied: 4264 - New train set size: (31335, 2)\n",
      "Itteration: 9) Accepted: 1822 | Denied: 4253 - New train set size: (33157, 2)\n",
      "Itteration: 10) Accepted: 1822 | Denied: 4253 - New train set size: (34979, 2)\n",
      "Itteration: 11) Accepted: 1821 | Denied: 4254 - New train set size: (36800, 2)\n",
      "Itteration: 12) Accepted: 1822 | Denied: 4253 - New train set size: (38622, 2)\n",
      "Itteration: 13) Accepted: 1821 | Denied: 4254 - New train set size: (40443, 2)\n",
      "Itteration: 14) Accepted: 1822 | Denied: 4253 - New train set size: (42265, 2)\n",
      "Itteration: 15) Accepted: 1822 | Denied: 4253 - New train set size: (44087, 2)\n",
      "Itteration: 16) Accepted: 1822 | Denied: 4253 - New train set size: (45909, 2)\n",
      "Itteration: 17) Accepted: 1821 | Denied: 4254 - New train set size: (47730, 2)\n",
      "Itteration: 18) Accepted: 1821 | Denied: 4254 - New train set size: (49551, 2)\n",
      "Itteration: 19) Accepted: 1811 | Denied: 4264 - New train set size: (51362, 2)\n"
     ]
    },
    {
     "data": {
      "image/png": "[encoded data removed]",
      "text/plain": [
       "tensor([[0.9674, 3.7783, 5.3701],\n",
       "        [1.9904, 3.5464, 6.0015],\n",
       "        [1.5392, 2.8056, 5.2905],\n",
       "        [1.8904, 4.2886, 5.2502],\n",
       "        [2.1164, 4.0511, 5.2508],\n",
       "        [1.8384, 3.4651, 5.4691],\n",
       "        [1.7843, 2.5202, 4.3880],\n",
       "        [1.9714, 2.9180, 6.0598],\n",
       "        [1.7692, 3.3761, 6.2480],\n",
       "        [1.4039, 3.6559, 6.0434]], grad_fn=<ReluBackward0>)"
      ]
     },
     "execution_count": 44,
     "metadata": {},
     "output_type": "execute_result"
    }
   ],
   "source": [
    "# Use trained Autoencoder\n",
    "net.encode(torch.rand(10, 68))"
   ]
  }
 ],
 "metadata": {
  "interpreter": {
   "hash": "ba78132cbc4cb21d1adddebf0b46368c183af7c9ca0d563bbae5210b7ec22c6c"
  },
  "kernelspec": {
   "display_name": "Python 3.8.10 64-bit ('.venv': venv)",
   "language": "python",
   "name": "python3"
  },
  "language_info": {
   "codemirror_mode": {
    "name": "ipython",
    "version": 3
   },
   "file_extension": ".py",
   "mimetype": "text/x-python",
   "name": "python",
   "nbconvert_exporter": "python",
   "pygments_lexer": "ipython3",
   "version": "3.9.9"
  },
  "orig_nbformat": 4
 },
 "nbformat": 4,
 "nbformat_minor": 2
}
