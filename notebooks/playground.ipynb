{
 "cells": [
  {
   "cell_type": "code",
   "execution_count": 1,
   "metadata": {},
   "outputs": [],
   "source": [
    "import sys\n",
    "sys.path.append('../src')\n",
    "\n",
    "import importlib\n",
    "import dyn_accept_loop as dal\n",
    "importlib.reload(dal)\n",
    "\n",
    "import matplotlib.pyplot as plt\n",
    "\n",
    "import lightgbm as lgbm\n",
    "from sklearn.tree import DecisionTreeClassifier"
   ]
  },
  {
   "cell_type": "code",
   "execution_count": 7,
   "metadata": {},
   "outputs": [
    {
     "name": "stdout",
     "output_type": "stream",
     "text": [
      "Itteration: 0) Accepted: 1822 | Denied: 4253 - New train set size: (16822, 68)\n",
      "Itteration: 0) Accepted: 1822 | Denied: 4253 - New train set size: (16822, 68)\n",
      "Itteration: 1) Accepted: 1822 | Denied: 4253 - New train set size: (18644, 68)\n",
      "Itteration: 1) Accepted: 1822 | Denied: 4253 - New train set size: (18644, 68)\n",
      "Itteration: 2) Accepted: 1822 | Denied: 4253 - New train set size: (20466, 68)\n",
      "Itteration: 2) Accepted: 1822 | Denied: 4253 - New train set size: (20466, 68)\n",
      "Itteration: 3) Accepted: 1822 | Denied: 4253 - New train set size: (22288, 68)\n",
      "Itteration: 3) Accepted: 1822 | Denied: 4253 - New train set size: (22288, 68)\n",
      "Itteration: 4) Accepted: 1822 | Denied: 4253 - New train set size: (24110, 68)\n",
      "Itteration: 4) Accepted: 1822 | Denied: 4253 - New train set size: (24110, 68)\n",
      "Itteration: 5) Accepted: 1822 | Denied: 4253 - New train set size: (25932, 68)\n",
      "Itteration: 5) Accepted: 1822 | Denied: 4253 - New train set size: (25932, 68)\n",
      "Itteration: 6) Accepted: 1822 | Denied: 4253 - New train set size: (27754, 68)\n",
      "Itteration: 6) Accepted: 1822 | Denied: 4253 - New train set size: (27754, 68)\n",
      "Itteration: 7) Accepted: 1822 | Denied: 4253 - New train set size: (29576, 68)\n",
      "Itteration: 7) Accepted: 1822 | Denied: 4253 - New train set size: (29576, 68)\n",
      "Itteration: 8) Accepted: 1822 | Denied: 4253 - New train set size: (31398, 68)\n",
      "Itteration: 8) Accepted: 1822 | Denied: 4253 - New train set size: (31398, 68)\n",
      "Itteration: 9) Accepted: 1822 | Denied: 4253 - New train set size: (33220, 68)\n",
      "Itteration: 9) Accepted: 1822 | Denied: 4253 - New train set size: (33220, 68)\n",
      "Itteration: 10) Accepted: 1822 | Denied: 4253 - New train set size: (35042, 68)\n",
      "Itteration: 10) Accepted: 1822 | Denied: 4253 - New train set size: (35042, 68)\n",
      "Itteration: 11) Accepted: 1822 | Denied: 4253 - New train set size: (36864, 68)\n",
      "Itteration: 11) Accepted: 1822 | Denied: 4253 - New train set size: (36864, 68)\n",
      "Itteration: 12) Accepted: 1822 | Denied: 4253 - New train set size: (38686, 68)\n",
      "Itteration: 12) Accepted: 1822 | Denied: 4253 - New train set size: (38686, 68)\n",
      "Itteration: 13) Accepted: 1820 | Denied: 4255 - New train set size: (40506, 68)\n",
      "Itteration: 13) Accepted: 1820 | Denied: 4255 - New train set size: (40506, 68)\n",
      "Itteration: 14) Accepted: 1822 | Denied: 4253 - New train set size: (42328, 68)\n",
      "Itteration: 14) Accepted: 1822 | Denied: 4253 - New train set size: (42328, 68)\n",
      "Itteration: 15) Accepted: 1822 | Denied: 4253 - New train set size: (44150, 68)\n",
      "Itteration: 15) Accepted: 1822 | Denied: 4253 - New train set size: (44150, 68)\n",
      "Itteration: 16) Accepted: 1822 | Denied: 4253 - New train set size: (45972, 68)\n",
      "Itteration: 16) Accepted: 1822 | Denied: 4253 - New train set size: (45972, 68)\n",
      "Itteration: 17) Accepted: 1822 | Denied: 4253 - New train set size: (47794, 68)\n",
      "Itteration: 17) Accepted: 1822 | Denied: 4253 - New train set size: (47794, 68)\n",
      "Itteration: 18) Accepted: 1822 | Denied: 4253 - New train set size: (49616, 68)\n",
      "Itteration: 18) Accepted: 1822 | Denied: 4253 - New train set size: (49616, 68)\n",
      "Itteration: 19) Accepted: 1822 | Denied: 4253 - New train set size: (51438, 68)\n",
      "Itteration: 19) Accepted: 1822 | Denied: 4253 - New train set size: (51438, 68)\n"
     ]
    },
    {
     "data": {
      "image/png": "[encoded data removed]",
      "text/plain": [
       "<Figure size 432x288 with 1 Axes>"
      ]
     },
     "metadata": {
      "needs_background": "light"
     },
     "output_type": "display_data"
    }
   ],
   "source": [
    "n_years = 20\n",
    "\n",
    "sim = dal.Simulate_acceptance_loop(\"gmsc.csv\", lgbm.LGBMClassifier(), 0.1, 0.1, n_years)\n",
    "results_generator = sim.run()\n",
    "\n",
    "metrics = None\n",
    "for iteration in results_generator:\n",
    "    print(f'Itteration: {iteration[0]}) Accepted: {iteration[1].count(True)} | Denied: {iteration[1].count(False)} - New train set size: {iteration[2]}')\n",
    "    metrics = iteration[3]\n",
    "    \n",
    "x = range(1, n_years + 1)\n",
    "plt.plot(x, metrics[\"model\"][\"holdout\"]['roc_auc'], label = 'roc_auc-model')\n",
    "plt.plot(x, metrics[\"oracle\"][\"holdout\"]['roc_auc'], label = 'roc_auc-oracle')\n",
    "#plt.plot(x, results[\"holdout\"]['precision'], label = 'precision')\n",
    "#plt.plot(x, results[\"holdout\"]['f1'], label = 'f1')\n",
    "#plt.plot(x, results[\"holdout\"]['accuracy'], label = 'accuracy')\n",
    "plt.legend()\n",
    "plt.ylim([0.5, 1.0])\n",
    "plt.show()"
   ]
  }
 ],
 "metadata": {
  "interpreter": {
   "hash": "ba78132cbc4cb21d1adddebf0b46368c183af7c9ca0d563bbae5210b7ec22c6c"
  },
  "kernelspec": {
   "display_name": "Python 3.8.10 64-bit ('.venv': venv)",
   "language": "python",
   "name": "python3"
  },
  "language_info": {
   "codemirror_mode": {
    "name": "ipython",
    "version": 3
   },
   "file_extension": ".py",
   "mimetype": "text/x-python",
   "name": "python",
   "nbconvert_exporter": "python",
   "pygments_lexer": "ipython3",
   "version": "3.8.10"
  },
  "orig_nbformat": 4
 },
 "nbformat": 4,
 "nbformat_minor": 2
}
