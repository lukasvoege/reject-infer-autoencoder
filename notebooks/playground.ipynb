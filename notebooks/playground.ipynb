{
 "cells": [
  {
   "cell_type": "code",
   "execution_count": 13,
   "metadata": {},
   "outputs": [],
   "source": [
    "import sys\n",
    "sys.path.append('../src')\n",
    "\n",
    "import importlib\n",
    "import dyn_accept_loop as dal\n",
    "import logreg_augmented as lra\n",
    "importlib.reload(dal)\n",
    "\n",
    "import matplotlib.pyplot as plt\n",
    "\n",
    "import lightgbm as lgbm\n",
    "from sklearn.tree import DecisionTreeClassifier\n",
    "from sklearn.linear_model import LogisticRegression\n",
    "\n",
    "import torch"
   ]
  },
  {
   "cell_type": "markdown",
   "metadata": {},
   "source": [
    "## Test importable Dynamic Acceptance Loop"
   ]
  },
  {
   "cell_type": "code",
   "execution_count": 17,
   "metadata": {},
   "outputs": [
    {
     "name": "stderr",
     "output_type": "stream",
     "text": [
      "c:\\Projects\\Information-Systems-Seminar\\.venv\\lib\\site-packages\\pandas\\core\\arraylike.py:364: RuntimeWarning: divide by zero encountered in log\n",
      "  result = getattr(ufunc, method)(*inputs, **kwargs)\n"
     ]
    },
    {
     "name": "stdout",
     "output_type": "stream",
     "text": [
      "Itteration: 0) Accepted: 729 | Denied: 1701 - New train set size: (6729, 115)\n",
      "Itteration: 1) Accepted: 729 | Denied: 1701 - New train set size: (7458, 115)\n",
      "Itteration: 2) Accepted: 729 | Denied: 1701 - New train set size: (8187, 115)\n",
      "Itteration: 3) Accepted: 729 | Denied: 1701 - New train set size: (8916, 115)\n",
      "Itteration: 4) Accepted: 729 | Denied: 1701 - New train set size: (9645, 115)\n",
      "Itteration: 5) Accepted: 729 | Denied: 1701 - New train set size: (10374, 115)\n",
      "Itteration: 6) Accepted: 729 | Denied: 1701 - New train set size: (11103, 115)\n",
      "Itteration: 7) Accepted: 729 | Denied: 1701 - New train set size: (11832, 115)\n",
      "Itteration: 8) Accepted: 729 | Denied: 1701 - New train set size: (12561, 115)\n",
      "Itteration: 9) Accepted: 729 | Denied: 1701 - New train set size: (13290, 115)\n",
      "Itteration: 10) Accepted: 729 | Denied: 1701 - New train set size: (14019, 115)\n",
      "Itteration: 11) Accepted: 729 | Denied: 1701 - New train set size: (14748, 115)\n",
      "Itteration: 12) Accepted: 729 | Denied: 1701 - New train set size: (15477, 115)\n",
      "Itteration: 13) Accepted: 729 | Denied: 1701 - New train set size: (16206, 115)\n",
      "Itteration: 14) Accepted: 729 | Denied: 1701 - New train set size: (16935, 115)\n",
      "Itteration: 15) Accepted: 729 | Denied: 1701 - New train set size: (17664, 115)\n",
      "Itteration: 16) Accepted: 729 | Denied: 1701 - New train set size: (18393, 115)\n",
      "Itteration: 17) Accepted: 729 | Denied: 1701 - New train set size: (19122, 115)\n",
      "Itteration: 18) Accepted: 729 | Denied: 1701 - New train set size: (19851, 115)\n",
      "Itteration: 19) Accepted: 729 | Denied: 1701 - New train set size: (20580, 115)\n"
     ]
    },
    {
     "data": {
      "image/png": "[encoded data removed]",
      "text/plain": [
       "<Figure size 432x288 with 1 Axes>"
      ]
     },
     "metadata": {
      "needs_background": "light"
     },
     "output_type": "display_data"
    }
   ],
   "source": [
    "n_years = 20\n",
    "\n",
    "sim = dal.Simulate_acceptance_loop(\"paipaidai.csv\", lgbm.LGBMClassifier(), 0.1, 0.1, n_years, norm_features=False)\n",
    "results_generator = sim.run()\n",
    "\n",
    "metrics = None\n",
    "for iteration in results_generator:\n",
    "    print(f'Itteration: {iteration[0]}) Accepted: {iteration[1].count(True)} | Denied: {iteration[1].count(False)} - New train set size: {iteration[2]}')\n",
    "    metrics = iteration[3]\n",
    "    \n",
    "x = range(1, n_years + 1)\n",
    "plt.plot(x, metrics[\"model\"][\"holdout\"]['roc_auc'], label = 'roc_auc-model')\n",
    "plt.plot(x, metrics[\"oracle\"][\"holdout\"]['roc_auc'], label = 'roc_auc-oracle')\n",
    "#plt.plot(x, results[\"holdout\"]['precision'], label = 'precision')\n",
    "#plt.plot(x, results[\"holdout\"]['f1'], label = 'f1')\n",
    "#plt.plot(x, results[\"holdout\"]['accuracy'], label = 'accuracy')\n",
    "plt.legend()\n",
    "plt.ylim([0.5, 1.0])\n",
    "plt.show()"
   ]
  },
  {
   "cell_type": "markdown",
   "metadata": {},
   "source": [
    "## Test importable Autoencoder"
   ]
  },
  {
   "cell_type": "code",
   "execution_count": 21,
   "metadata": {},
   "outputs": [
    {
     "data": {
      "text/plain": [
       "<module 'autoencoder' from 'c:\\\\Projects\\\\Information-Systems-Seminar\\\\reject-infer-autoencoder\\\\notebooks\\\\../src\\\\autoencoder.py'>"
      ]
     },
     "execution_count": 21,
     "metadata": {},
     "output_type": "execute_result"
    }
   ],
   "source": [
    "import autoencoder as aenc\n",
    "import importlib\n",
    "importlib.reload(aenc)"
   ]
  },
  {
   "cell_type": "code",
   "execution_count": 24,
   "metadata": {},
   "outputs": [
    {
     "name": "stdout",
     "output_type": "stream",
     "text": [
      "Autoencoder(\n",
      "  (enc): ModuleList()\n",
      "  (dec): ModuleList(\n",
      "    (0): Linear(in_features=12, out_features=55, bias=True)\n",
      "    (1): Linear(in_features=55, out_features=40, bias=True)\n",
      "    (2): Linear(in_features=40, out_features=55, bias=True)\n",
      "    (3): Linear(in_features=55, out_features=12, bias=True)\n",
      "  )\n",
      ")\n",
      "Epoch 1 of 50, Train Loss: 0.994\n",
      "Epoch 2 of 50, Train Loss: 0.975\n",
      "Epoch 3 of 50, Train Loss: 0.950\n",
      "Epoch 4 of 50, Train Loss: 0.916\n",
      "Epoch 5 of 50, Train Loss: 0.874\n",
      "Epoch 6 of 50, Train Loss: 0.826\n",
      "Epoch 7 of 50, Train Loss: 0.774\n",
      "Epoch 8 of 50, Train Loss: 0.721\n",
      "Epoch 9 of 50, Train Loss: 0.670\n",
      "Epoch 10 of 50, Train Loss: 0.622\n",
      "Epoch 11 of 50, Train Loss: 0.580\n",
      "Epoch 12 of 50, Train Loss: 0.542\n",
      "Epoch 13 of 50, Train Loss: 0.508\n",
      "Epoch 14 of 50, Train Loss: 0.478\n",
      "Epoch 15 of 50, Train Loss: 0.452\n",
      "Epoch 16 of 50, Train Loss: 0.429\n",
      "Epoch 17 of 50, Train Loss: 0.410\n",
      "Epoch 18 of 50, Train Loss: 0.397\n",
      "Epoch 19 of 50, Train Loss: 0.388\n",
      "Epoch 20 of 50, Train Loss: 0.383\n",
      "Epoch 21 of 50, Train Loss: 0.380\n",
      "Epoch 22 of 50, Train Loss: 0.378\n",
      "Epoch 23 of 50, Train Loss: 0.376\n",
      "Epoch 24 of 50, Train Loss: 0.375\n",
      "Epoch 25 of 50, Train Loss: 0.373\n",
      "Epoch 26 of 50, Train Loss: 0.372\n",
      "Epoch 27 of 50, Train Loss: 0.371\n",
      "Epoch 28 of 50, Train Loss: 0.371\n",
      "Epoch 29 of 50, Train Loss: 0.370\n",
      "Epoch 30 of 50, Train Loss: 0.369\n",
      "Epoch 31 of 50, Train Loss: 0.369\n",
      "Epoch 32 of 50, Train Loss: 0.368\n",
      "Epoch 33 of 50, Train Loss: 0.367\n",
      "Epoch 34 of 50, Train Loss: 0.367\n",
      "Epoch 35 of 50, Train Loss: 0.366\n",
      "Epoch 36 of 50, Train Loss: 0.366\n",
      "Epoch 37 of 50, Train Loss: 0.365\n",
      "Epoch 38 of 50, Train Loss: 0.364\n",
      "Epoch 39 of 50, Train Loss: 0.364\n",
      "Epoch 40 of 50, Train Loss: 0.363\n",
      "Epoch 41 of 50, Train Loss: 0.363\n",
      "Epoch 42 of 50, Train Loss: 0.362\n",
      "Epoch 43 of 50, Train Loss: 0.362\n",
      "Epoch 44 of 50, Train Loss: 0.361\n",
      "Epoch 45 of 50, Train Loss: 0.361\n",
      "Epoch 46 of 50, Train Loss: 0.361\n",
      "Epoch 47 of 50, Train Loss: 0.360\n",
      "Epoch 48 of 50, Train Loss: 0.360\n",
      "Epoch 49 of 50, Train Loss: 0.360\n",
      "Epoch 50 of 50, Train Loss: 0.360\n"
     ]
    },
    {
     "data": {
      "image/png": "[encoded data removed]",
      "text/plain": [
       "<Figure size 432x288 with 1 Axes>"
      ]
     },
     "metadata": {
      "needs_background": "light"
     },
     "output_type": "display_data"
    }
   ],
   "source": [
    "BATCH_SIZE = 1000\n",
    "EPOCHS = 50\n",
    "\n",
    "dataset = aenc.CreditscoringDataset(\"hmeq.csv\")      # load and prepare Dataset to Tensor\n",
    "data_loader = aenc.DataLoader(                       # create Dataloader for batching\n",
    "    dataset, \n",
    "    batch_size=BATCH_SIZE,\n",
    "    shuffle=True\n",
    ")\n",
    "\n",
    "shape = [dataset.x.shape[1], 55, 40, 55, dataset.x.shape[1]]  # define shape of Autoencoder\n",
    "net = aenc.Autoencoder(shape)\n",
    "print(net)\n",
    "net.to(\"cpu\")\n",
    "\n",
    "train_loss = aenc.train(net, data_loader, EPOCHS)               \n",
    "\n",
    "plt.figure()\n",
    "plt.plot(train_loss)\n",
    "plt.title('Train Loss')\n",
    "plt.xlabel('Epochs')\n",
    "plt.ylabel('Loss')\n",
    "plt.show()"
   ]
  },
  {
   "cell_type": "code",
   "execution_count": 23,
   "metadata": {},
   "outputs": [
    {
     "data": {
      "text/plain": [
       "tensor([[0.4882, 0.3118, 0.1544, 0.5775, 0.5333, 0.3124, 0.9680, 0.4250, 0.9740,\n",
       "         0.7062, 0.4290, 0.2169, 0.7859, 0.6176, 0.6191, 0.5997, 0.2627, 0.9281,\n",
       "         0.9204, 0.3620, 0.6429, 0.5139, 0.6015, 0.2412, 0.7099, 0.3018, 0.7999,\n",
       "         0.6174, 0.5979, 0.3035, 0.4598, 0.7445, 0.8499, 0.5695, 0.4661, 0.6120,\n",
       "         0.2057, 0.3934, 0.9198, 0.2736, 0.2643, 0.9676, 0.7221, 0.5592, 0.1422,\n",
       "         0.3361, 0.1098, 0.2355, 0.9175, 0.5058, 0.5015, 0.2549, 0.7718, 0.2265,\n",
       "         0.3123, 0.5195, 0.2967, 0.8522, 0.6031, 0.8539, 0.3090, 0.2139, 0.6305,\n",
       "         0.8847, 0.9434, 0.1014, 0.9968, 0.6705],\n",
       "        [0.8016, 0.8011, 0.1334, 0.1982, 0.1649, 0.0359, 0.8305, 0.3533, 0.5710,\n",
       "         0.8175, 0.9375, 0.4992, 0.6767, 0.6809, 0.3134, 0.4757, 0.4808, 0.0150,\n",
       "         0.4448, 0.0413, 0.6741, 0.0096, 0.0813, 0.4036, 0.5991, 0.6224, 0.7426,\n",
       "         0.3996, 0.7831, 0.5141, 0.1985, 0.0224, 0.5914, 0.5893, 0.2241, 0.9452,\n",
       "         0.5654, 0.8874, 0.8465, 0.4637, 0.8603, 0.7320, 0.2229, 0.8594, 0.1154,\n",
       "         0.9116, 0.7167, 0.2541, 0.4289, 0.2291, 0.6554, 0.3014, 0.0432, 0.5843,\n",
       "         0.8868, 0.2513, 0.7247, 0.1783, 0.2349, 0.7170, 0.2976, 0.7749, 0.8194,\n",
       "         0.4903, 0.7624, 0.3641, 0.5797, 0.7313],\n",
       "        [0.8584, 0.1620, 0.8178, 0.7143, 0.3240, 0.2214, 0.3484, 0.7893, 0.7548,\n",
       "         0.7047, 0.4579, 0.2843, 0.2685, 0.3199, 0.9902, 0.6576, 0.7885, 0.7150,\n",
       "         0.6943, 0.4003, 0.7461, 0.2334, 0.0253, 0.9249, 0.8043, 0.5194, 0.8643,\n",
       "         0.9144, 0.3180, 0.2553, 0.2117, 0.7812, 0.4181, 0.5889, 0.8697, 0.7256,\n",
       "         0.4692, 0.5837, 0.4519, 0.5185, 0.2314, 0.7533, 0.1482, 0.2879, 0.7535,\n",
       "         0.0342, 0.4138, 0.7929, 0.9932, 0.4084, 0.7158, 0.7430, 0.0317, 0.7908,\n",
       "         0.3517, 0.6389, 0.6790, 0.4712, 0.3856, 0.4149, 0.1584, 0.0281, 0.1817,\n",
       "         0.1262, 0.5989, 0.9722, 0.5573, 0.8756],\n",
       "        [0.1091, 0.6280, 0.6098, 0.1561, 0.2885, 0.3566, 0.9588, 0.0262, 0.1402,\n",
       "         0.5768, 0.1074, 0.8016, 0.7047, 0.5397, 0.6278, 0.3328, 0.1115, 0.0276,\n",
       "         0.7573, 0.9924, 0.7022, 0.9794, 0.4867, 0.8083, 0.2451, 0.7757, 0.3843,\n",
       "         0.9048, 0.3734, 0.5099, 0.6441, 0.9511, 0.4997, 0.7570, 0.4435, 0.1172,\n",
       "         0.4502, 0.9162, 0.3901, 0.1097, 0.7543, 0.3706, 0.8539, 0.1328, 0.3234,\n",
       "         0.4677, 0.3586, 0.5193, 0.0902, 0.0400, 0.1512, 0.1245, 0.8326, 0.1509,\n",
       "         0.9164, 0.5625, 0.8638, 0.7614, 0.1598, 0.4703, 0.4283, 0.6107, 0.9766,\n",
       "         0.0887, 0.7814, 0.8048, 0.8420, 0.4096],\n",
       "        [0.9019, 0.7182, 0.7429, 0.4996, 0.0898, 0.7657, 0.6349, 0.3462, 0.8996,\n",
       "         0.0742, 0.0438, 0.3862, 0.0245, 0.5042, 0.3035, 0.7126, 0.4183, 0.8967,\n",
       "         0.5982, 0.6102, 0.9341, 0.5481, 0.3756, 0.3314, 0.4242, 0.2609, 0.5209,\n",
       "         0.2265, 0.6355, 0.1366, 0.2172, 0.3170, 0.9280, 0.4899, 0.5567, 0.5288,\n",
       "         0.5351, 0.3819, 0.7890, 0.4562, 0.3532, 0.5628, 0.2908, 0.6233, 0.4475,\n",
       "         0.6819, 0.4216, 0.7401, 0.0129, 0.9361, 0.6918, 0.1299, 0.4958, 0.4437,\n",
       "         0.3792, 0.0532, 0.4718, 0.0425, 0.0406, 0.2283, 0.8731, 0.8845, 0.5762,\n",
       "         0.7180, 0.9648, 0.9748, 0.2163, 0.4843],\n",
       "        [0.8390, 0.4985, 0.3134, 0.2466, 0.1116, 0.0723, 0.0775, 0.6637, 0.5665,\n",
       "         0.6259, 0.2537, 0.4147, 0.4129, 0.3837, 0.9843, 0.8058, 0.0670, 0.3878,\n",
       "         0.9716, 0.7662, 0.3857, 0.7011, 0.0324, 0.0334, 0.7597, 0.7456, 0.2666,\n",
       "         0.7054, 0.1377, 0.5798, 0.9124, 0.6416, 0.4631, 0.1915, 0.6285, 0.4210,\n",
       "         0.3979, 0.3874, 0.4522, 0.0580, 0.5473, 0.9781, 0.4997, 0.3681, 0.2294,\n",
       "         0.9836, 0.9006, 0.5403, 0.3228, 0.7951, 0.6613, 0.1183, 0.4925, 0.8026,\n",
       "         0.0085, 0.5069, 0.4569, 0.3628, 0.4550, 0.6869, 0.4016, 0.5976, 0.1528,\n",
       "         0.6105, 0.2051, 0.4163, 0.6429, 0.3636],\n",
       "        [0.6856, 0.1222, 0.8956, 0.0312, 0.5330, 0.0057, 0.4420, 0.6520, 0.3506,\n",
       "         0.7377, 0.0016, 0.8995, 0.0568, 0.4120, 0.9004, 0.8600, 0.7664, 0.7784,\n",
       "         0.2427, 0.7366, 0.6527, 0.3798, 0.1093, 0.2097, 0.9140, 0.3679, 0.8811,\n",
       "         0.7988, 0.4298, 0.5713, 0.4577, 0.0326, 0.9905, 0.7404, 0.4640, 0.8776,\n",
       "         0.7269, 0.7112, 0.1913, 0.7343, 0.1929, 0.7454, 0.9385, 0.0888, 0.6952,\n",
       "         0.8474, 0.4484, 0.9922, 0.9640, 0.9899, 0.9828, 0.0956, 0.2624, 0.7429,\n",
       "         0.2112, 0.9069, 0.7183, 0.3226, 0.0170, 0.2391, 0.5607, 0.1438, 0.6915,\n",
       "         0.6610, 0.4930, 0.0956, 0.4464, 0.0391],\n",
       "        [0.1366, 0.8198, 0.2855, 0.1007, 0.0947, 0.8649, 0.0435, 0.5854, 0.7887,\n",
       "         0.9922, 0.2853, 0.0487, 0.6089, 0.4211, 0.6271, 0.1867, 0.7265, 0.4334,\n",
       "         0.5447, 0.4573, 0.1968, 0.4361, 0.2925, 0.7024, 0.2007, 0.5020, 0.7674,\n",
       "         0.0426, 0.5621, 0.6732, 0.9029, 0.7236, 0.7684, 0.4042, 0.1161, 0.9242,\n",
       "         0.9369, 0.9723, 0.3001, 0.5016, 0.1104, 0.3861, 0.3173, 0.2515, 0.9851,\n",
       "         0.2997, 0.0592, 0.7259, 0.9795, 0.5441, 0.4242, 0.3577, 0.3521, 0.1645,\n",
       "         0.9684, 0.1470, 0.5077, 0.4320, 0.8900, 0.5032, 0.3193, 0.2953, 0.4481,\n",
       "         0.8461, 0.4208, 0.7561, 0.6892, 0.5511],\n",
       "        [0.2423, 0.6510, 0.3029, 0.1233, 0.7316, 0.4434, 0.0758, 0.8981, 0.9840,\n",
       "         0.7601, 0.5744, 0.0996, 0.4681, 0.7178, 0.9957, 0.2181, 0.2649, 0.9242,\n",
       "         0.7061, 0.7900, 0.0488, 0.8726, 0.8041, 0.4149, 0.4191, 0.6947, 0.7775,\n",
       "         0.6601, 0.4170, 0.9901, 0.9349, 0.7999, 0.9508, 0.7854, 0.1844, 0.7054,\n",
       "         0.6591, 0.9394, 0.6226, 0.9369, 0.4807, 0.7597, 0.3688, 0.9944, 0.9262,\n",
       "         0.5710, 0.0608, 0.0241, 0.3326, 0.3846, 0.5839, 0.7258, 0.4412, 0.3399,\n",
       "         0.6489, 0.5740, 0.1428, 0.8508, 0.4852, 0.9276, 0.8354, 0.2119, 0.2252,\n",
       "         0.1766, 0.9801, 0.8829, 0.1981, 0.4725],\n",
       "        [0.3805, 0.2900, 0.1553, 0.9452, 0.7255, 0.9474, 0.5966, 0.7857, 0.2893,\n",
       "         0.3804, 0.7982, 0.8954, 0.8476, 0.4503, 0.3185, 0.8341, 0.8951, 0.5719,\n",
       "         0.6845, 0.3973, 0.2849, 0.0809, 0.3351, 0.9615, 0.6314, 0.4426, 0.6427,\n",
       "         0.1384, 0.6914, 0.2651, 0.7807, 0.2706, 0.3092, 0.2868, 0.4656, 0.1240,\n",
       "         0.0817, 0.3504, 0.0685, 0.0245, 0.4609, 0.2951, 0.3469, 0.0539, 0.1017,\n",
       "         0.8350, 0.4589, 0.3639, 0.7725, 0.1974, 0.9711, 0.0679, 0.9599, 0.4730,\n",
       "         0.1993, 0.1778, 0.6001, 0.5525, 0.0015, 0.4520, 0.1828, 0.7203, 0.8639,\n",
       "         0.9867, 0.2541, 0.4156, 0.9390, 0.9999]])"
      ]
     },
     "execution_count": 23,
     "metadata": {},
     "output_type": "execute_result"
    }
   ],
   "source": [
    "# Use trained Autoencoder\n",
    "net.encode(torch.rand(10, 68))"
   ]
  }
 ],
 "metadata": {
  "interpreter": {
   "hash": "ba78132cbc4cb21d1adddebf0b46368c183af7c9ca0d563bbae5210b7ec22c6c"
  },
  "kernelspec": {
   "display_name": "Python 3.8.10 64-bit ('.venv': venv)",
   "language": "python",
   "name": "python3"
  },
  "language_info": {
   "codemirror_mode": {
    "name": "ipython",
    "version": 3
   },
   "file_extension": ".py",
   "mimetype": "text/x-python",
   "name": "python",
   "nbconvert_exporter": "python",
   "pygments_lexer": "ipython3",
   "version": "3.8.10"
  },
  "orig_nbformat": 4
 },
 "nbformat": 4,
 "nbformat_minor": 2
}
