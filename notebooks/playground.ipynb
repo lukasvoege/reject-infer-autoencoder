{
 "cells": [
  {
   "cell_type": "code",
   "execution_count": 21,
   "metadata": {},
   "outputs": [],
   "source": [
    "import sys\n",
    "sys.path.append('../src')\n",
    "\n",
    "import importlib\n",
    "import dyn_accept_loop as dal\n",
    "import logreg_augmented as lra\n",
    "importlib.reload(dal)\n",
    "\n",
    "import matplotlib.pyplot as plt\n",
    "\n",
    "import lightgbm as lgbm\n",
    "from sklearn.tree import DecisionTreeClassifier\n",
    "from sklearn.linear_model import LogisticRegression\n",
    "\n",
    "import torch"
   ]
  },
  {
   "cell_type": "markdown",
   "metadata": {},
   "source": [
    "## Test importable Dynamic Acceptance Loop"
   ]
  },
  {
   "cell_type": "code",
   "execution_count": 24,
   "metadata": {},
   "outputs": [
    {
     "name": "stdout",
     "output_type": "stream",
     "text": [
      "Itteration: 0) Accepted: 3281 | Denied: 2794 - New train set size: (18281, 68)\n",
      "Itteration: 1) Accepted: 3122 | Denied: 2953 - New train set size: (21403, 68)\n",
      "Itteration: 2) Accepted: 3321 | Denied: 2754 - New train set size: (24724, 68)\n",
      "Itteration: 3) Accepted: 3162 | Denied: 2913 - New train set size: (27886, 68)\n",
      "Itteration: 4) Accepted: 3386 | Denied: 2689 - New train set size: (31272, 68)\n",
      "Itteration: 5) Accepted: 3436 | Denied: 2639 - New train set size: (34708, 68)\n",
      "Itteration: 6) Accepted: 3369 | Denied: 2706 - New train set size: (38077, 68)\n",
      "Itteration: 7) Accepted: 3596 | Denied: 2479 - New train set size: (41673, 68)\n",
      "Itteration: 8) Accepted: 3336 | Denied: 2739 - New train set size: (45009, 68)\n",
      "Itteration: 9) Accepted: 3226 | Denied: 2849 - New train set size: (48235, 68)\n",
      "Itteration: 10) Accepted: 3293 | Denied: 2782 - New train set size: (51528, 68)\n",
      "Itteration: 11) Accepted: 2989 | Denied: 3086 - New train set size: (54517, 68)\n",
      "Itteration: 12) Accepted: 3307 | Denied: 2768 - New train set size: (57824, 68)\n",
      "Itteration: 13) Accepted: 3348 | Denied: 2727 - New train set size: (61172, 68)\n"
     ]
    },
    {
     "name": "stderr",
     "output_type": "stream",
     "text": [
      "c:\\Projects\\Information-Systems-Seminar\\.venv\\lib\\site-packages\\sklearn\\metrics\\_classification.py:1308: UndefinedMetricWarning: Precision is ill-defined and being set to 0.0 due to no predicted samples. Use `zero_division` parameter to control this behavior.\n",
      "  _warn_prf(average, modifier, msg_start, len(result))\n"
     ]
    },
    {
     "name": "stdout",
     "output_type": "stream",
     "text": [
      "Itteration: 14) Accepted: 3331 | Denied: 2744 - New train set size: (64503, 68)\n"
     ]
    },
    {
     "name": "stderr",
     "output_type": "stream",
     "text": [
      "c:\\Projects\\Information-Systems-Seminar\\.venv\\lib\\site-packages\\sklearn\\metrics\\_classification.py:1308: UndefinedMetricWarning: Precision is ill-defined and being set to 0.0 due to no predicted samples. Use `zero_division` parameter to control this behavior.\n",
      "  _warn_prf(average, modifier, msg_start, len(result))\n"
     ]
    },
    {
     "name": "stdout",
     "output_type": "stream",
     "text": [
      "Itteration: 15) Accepted: 3316 | Denied: 2759 - New train set size: (67819, 68)\n",
      "Itteration: 16) Accepted: 3613 | Denied: 2462 - New train set size: (71432, 68)\n",
      "Itteration: 17) Accepted: 3133 | Denied: 2942 - New train set size: (74565, 68)\n",
      "Itteration: 18) Accepted: 3313 | Denied: 2762 - New train set size: (77878, 68)\n",
      "Itteration: 19) Accepted: 3511 | Denied: 2564 - New train set size: (81389, 68)\n"
     ]
    },
    {
     "data": {
      "image/png": "[encoded data removed]",
      "text/plain": [
       "<Figure size 432x288 with 1 Axes>"
      ]
     },
     "metadata": {
      "needs_background": "light"
     },
     "output_type": "display_data"
    }
   ],
   "source": [
    "n_years = 20\n",
    "\n",
    "model = DecisionTreeClassifier(min_samples_leaf=40) #lgbm.LGBMClassifier() #LogisticRegression(max_iter=400)\n",
    "\n",
    "sim = dal.Simulate_acceptance_loop(\"gmsc.csv\", model, 0.1, 0.1, n_years, norm_features=True)\n",
    "results_generator = sim.run()\n",
    "\n",
    "metrics = None\n",
    "for iteration in results_generator:\n",
    "    print(f'Itteration: {iteration[0]}) Accepted: {iteration[1].count(True)} | Denied: {iteration[1].count(False)} - New train set size: {iteration[2]}')\n",
    "    metrics = iteration[3]\n",
    "    \n",
    "x = range(1, n_years + 1)\n",
    "plt.plot(x, metrics[\"model\"][\"holdout\"]['roc_auc'], label = 'roc_auc-model')\n",
    "plt.plot(x, metrics[\"oracle\"][\"holdout\"]['roc_auc'], label = 'roc_auc-oracle')\n",
    "#plt.plot(x, results[\"holdout\"]['precision'], label = 'precision')\n",
    "#plt.plot(x, results[\"holdout\"]['f1'], label = 'f1')\n",
    "#plt.plot(x, results[\"holdout\"]['accuracy'], label = 'accuracy')\n",
    "plt.legend()\n",
    "plt.ylim([0.5, 1.0])\n",
    "plt.show()"
   ]
  },
  {
   "cell_type": "markdown",
   "metadata": {},
   "source": [
    "## Test importable Autoencoder"
   ]
  },
  {
   "cell_type": "code",
   "execution_count": 3,
   "metadata": {},
   "outputs": [
    {
     "data": {
      "text/plain": [
       "<module 'autoencoder' from 'c:\\\\Projects\\\\Information-Systems-Seminar\\\\reject-infer-autoencoder\\\\notebooks\\\\../src\\\\autoencoder.py'>"
      ]
     },
     "execution_count": 3,
     "metadata": {},
     "output_type": "execute_result"
    }
   ],
   "source": [
    "import autoencoder as aenc\n",
    "import importlib\n",
    "importlib.reload(aenc)"
   ]
  },
  {
   "cell_type": "code",
   "execution_count": 4,
   "metadata": {},
   "outputs": [
    {
     "name": "stdout",
     "output_type": "stream",
     "text": [
      "Autoencoder(\n",
      "  (enc): ModuleList(\n",
      "    (0): Linear(in_features=68, out_features=55, bias=True)\n",
      "    (1): Linear(in_features=55, out_features=40, bias=True)\n",
      "  )\n",
      "  (dec): ModuleList(\n",
      "    (0): Linear(in_features=40, out_features=55, bias=True)\n",
      "    (1): Linear(in_features=55, out_features=68, bias=True)\n",
      "  )\n",
      ")\n",
      "Epoch 1 of 50, Train Loss: 0.750\n",
      "Epoch 2 of 50, Train Loss: 0.551\n",
      "Epoch 3 of 50, Train Loss: 0.516\n",
      "Epoch 4 of 50, Train Loss: 0.503\n",
      "Epoch 5 of 50, Train Loss: 0.498\n",
      "Epoch 6 of 50, Train Loss: 0.496\n",
      "Epoch 7 of 50, Train Loss: 0.495\n",
      "Epoch 8 of 50, Train Loss: 0.494\n",
      "Epoch 9 of 50, Train Loss: 0.493\n",
      "Epoch 10 of 50, Train Loss: 0.491\n",
      "Epoch 11 of 50, Train Loss: 0.491\n",
      "Epoch 12 of 50, Train Loss: 0.490\n",
      "Epoch 13 of 50, Train Loss: 0.490\n",
      "Epoch 14 of 50, Train Loss: 0.489\n",
      "Epoch 15 of 50, Train Loss: 0.489\n",
      "Epoch 16 of 50, Train Loss: 0.489\n",
      "Epoch 17 of 50, Train Loss: 0.488\n",
      "Epoch 18 of 50, Train Loss: 0.488\n",
      "Epoch 19 of 50, Train Loss: 0.488\n",
      "Epoch 20 of 50, Train Loss: 0.488\n",
      "Epoch 21 of 50, Train Loss: 0.488\n",
      "Epoch 22 of 50, Train Loss: 0.488\n",
      "Epoch 23 of 50, Train Loss: 0.488\n",
      "Epoch 24 of 50, Train Loss: 0.487\n",
      "Epoch 25 of 50, Train Loss: 0.487\n",
      "Epoch 26 of 50, Train Loss: 0.487\n",
      "Epoch 27 of 50, Train Loss: 0.487\n",
      "Epoch 28 of 50, Train Loss: 0.487\n",
      "Epoch 29 of 50, Train Loss: 0.487\n",
      "Epoch 30 of 50, Train Loss: 0.487\n",
      "Epoch 31 of 50, Train Loss: 0.487\n",
      "Epoch 32 of 50, Train Loss: 0.487\n",
      "Epoch 33 of 50, Train Loss: 0.487\n",
      "Epoch 34 of 50, Train Loss: 0.487\n",
      "Epoch 35 of 50, Train Loss: 0.487\n",
      "Epoch 36 of 50, Train Loss: 0.487\n",
      "Epoch 37 of 50, Train Loss: 0.487\n",
      "Epoch 38 of 50, Train Loss: 0.487\n",
      "Epoch 39 of 50, Train Loss: 0.487\n",
      "Epoch 40 of 50, Train Loss: 0.487\n",
      "Epoch 41 of 50, Train Loss: 0.487\n",
      "Epoch 42 of 50, Train Loss: 0.487\n",
      "Epoch 43 of 50, Train Loss: 0.487\n",
      "Epoch 44 of 50, Train Loss: 0.487\n",
      "Epoch 45 of 50, Train Loss: 0.487\n",
      "Epoch 46 of 50, Train Loss: 0.487\n",
      "Epoch 47 of 50, Train Loss: 0.486\n",
      "Epoch 48 of 50, Train Loss: 0.486\n",
      "Epoch 49 of 50, Train Loss: 0.486\n",
      "Epoch 50 of 50, Train Loss: 0.487\n"
     ]
    },
    {
     "data": {
      "image/png": "[encoded data removed]",
      "text/plain": [
       "<Figure size 432x288 with 1 Axes>"
      ]
     },
     "metadata": {
      "needs_background": "light"
     },
     "output_type": "display_data"
    }
   ],
   "source": [
    "BATCH_SIZE = 1000\n",
    "EPOCHS = 50\n",
    "\n",
    "dataset = aenc.CreditscoringDataset(\"gmsc.csv\")      # load and prepare Dataset to Tensor\n",
    "data_loader = aenc.DataLoader(                       # create Dataloader for batching\n",
    "    dataset, \n",
    "    batch_size=BATCH_SIZE,\n",
    "    shuffle=True\n",
    ")\n",
    "\n",
    "shape = [dataset.x.shape[1], 55, 40, 55, dataset.x.shape[1]]  # define shape of Autoencoder\n",
    "net = aenc.Autoencoder(shape)\n",
    "print(net)\n",
    "net.to(\"cpu\")\n",
    "\n",
    "train_loss = aenc.train(net, data_loader, EPOCHS)               \n",
    "\n",
    "plt.figure()\n",
    "plt.plot(train_loss)\n",
    "plt.title('Train Loss')\n",
    "plt.xlabel('Epochs')\n",
    "plt.ylabel('Loss')\n",
    "plt.show()"
   ]
  },
  {
   "cell_type": "code",
   "execution_count": 5,
   "metadata": {},
   "outputs": [
    {
     "data": {
      "text/plain": [
       "tensor([[1.6062e+00, 4.0604e-01, 9.1000e-01, 5.7796e-01, 1.0906e+00, 1.3883e-01,\n",
       "         9.5549e-01, 1.3537e+00, 4.7863e-01, 1.6145e+00, 1.1377e-01, 6.3467e-01,\n",
       "         0.0000e+00, 2.7476e-01, 1.0936e+00, 1.8979e+00, 7.7384e-01, 6.6722e-01,\n",
       "         1.6689e+00, 1.3562e+00, 1.4664e+00, 5.7945e-01, 7.9301e-01, 2.1931e+00,\n",
       "         0.0000e+00, 0.0000e+00, 2.3575e-01, 0.0000e+00, 8.6294e-01, 7.0914e-01,\n",
       "         9.1143e-01, 2.2663e+00, 2.1649e-01, 8.6285e-01, 0.0000e+00, 6.0868e-01,\n",
       "         6.0203e-01, 1.3706e+00, 1.0976e+00, 0.0000e+00],\n",
       "        [2.3080e+00, 1.1507e+00, 1.0966e+00, 4.2163e-01, 1.8984e+00, 7.0873e-01,\n",
       "         8.9469e-01, 2.3891e+00, 6.0061e-01, 2.1753e+00, 5.4118e-01, 1.7279e+00,\n",
       "         6.4610e-01, 1.3064e+00, 2.2418e+00, 3.2874e+00, 1.6164e+00, 1.2872e+00,\n",
       "         1.8422e+00, 2.5998e+00, 2.3791e+00, 1.4368e+00, 1.4597e+00, 1.9710e+00,\n",
       "         0.0000e+00, 0.0000e+00, 7.4779e-01, 0.0000e+00, 1.7100e+00, 2.3680e+00,\n",
       "         1.3002e+00, 2.2605e+00, 0.0000e+00, 2.1691e+00, 8.5065e-01, 1.2952e+00,\n",
       "         1.3447e+00, 1.9593e+00, 1.9035e+00, 7.4792e-01],\n",
       "        [2.6444e+00, 7.0251e-01, 1.1807e+00, 3.0882e-01, 2.0794e+00, 1.3221e+00,\n",
       "         1.0759e+00, 2.5586e+00, 4.8766e-01, 1.8439e+00, 1.1690e+00, 2.0276e+00,\n",
       "         2.4493e-01, 3.3808e-01, 1.7179e+00, 2.2233e+00, 1.6912e+00, 1.3773e+00,\n",
       "         2.4772e+00, 2.7629e+00, 1.8929e+00, 1.7171e+00, 1.7119e+00, 1.8082e+00,\n",
       "         3.9093e-01, 0.0000e+00, 1.2099e+00, 0.0000e+00, 1.9227e+00, 2.8423e+00,\n",
       "         1.1931e+00, 2.2967e+00, 2.6984e-01, 1.5366e+00, 4.7844e-01, 1.4300e+00,\n",
       "         1.2673e+00, 1.5967e+00, 1.8907e+00, 1.0037e+00],\n",
       "        [1.5044e+00, 7.8113e-01, 1.3911e+00, 8.1136e-01, 1.4094e+00, 7.8993e-01,\n",
       "         8.0384e-01, 1.6848e+00, 6.9360e-01, 2.0632e+00, 5.7225e-01, 1.6579e+00,\n",
       "         4.2765e-01, 9.2880e-01, 1.3870e+00, 2.1551e+00, 9.0866e-01, 1.3668e+00,\n",
       "         2.0938e+00, 1.5026e+00, 2.2355e+00, 8.0398e-01, 5.9230e-01, 2.1399e+00,\n",
       "         3.7146e-02, 0.0000e+00, 1.5998e-01, 0.0000e+00, 1.5085e+00, 1.2913e+00,\n",
       "         1.1319e+00, 2.4459e+00, 2.6987e-01, 2.0019e+00, 5.0879e-01, 3.5518e-01,\n",
       "         1.1285e+00, 1.2942e+00, 1.2150e+00, 8.6844e-01],\n",
       "        [1.3887e+00, 8.2320e-01, 1.1339e+00, 5.1362e-01, 1.8481e+00, 3.0530e-01,\n",
       "         6.6693e-01, 1.7888e+00, 7.9630e-01, 1.7235e+00, 1.1623e+00, 8.1121e-01,\n",
       "         1.7315e-01, 8.7458e-01, 1.2764e+00, 2.2618e+00, 1.9210e+00, 1.0718e+00,\n",
       "         2.5315e+00, 1.8751e+00, 1.6715e+00, 1.1761e+00, 7.7359e-01, 1.9749e+00,\n",
       "         0.0000e+00, 0.0000e+00, 6.3363e-01, 0.0000e+00, 1.3279e+00, 1.9510e+00,\n",
       "         7.3347e-01, 2.1826e+00, 7.3849e-01, 1.6289e+00, 2.7174e-01, 5.4065e-01,\n",
       "         8.7030e-01, 1.4948e+00, 1.0154e+00, 6.6988e-01],\n",
       "        [1.6690e+00, 5.0523e-01, 9.5531e-01, 0.0000e+00, 1.4320e+00, 2.9796e-01,\n",
       "         3.5162e-01, 1.9113e+00, 3.2181e-01, 1.3706e+00, 4.6211e-01, 1.4285e+00,\n",
       "         1.0002e-04, 6.6142e-01, 1.7458e+00, 2.2321e+00, 9.9166e-01, 1.2057e+00,\n",
       "         9.7317e-01, 1.7485e+00, 1.5755e+00, 7.9715e-01, 9.2912e-01, 1.5426e+00,\n",
       "         0.0000e+00, 0.0000e+00, 0.0000e+00, 0.0000e+00, 6.8282e-01, 1.2544e+00,\n",
       "         1.2821e+00, 1.9781e+00, 0.0000e+00, 1.0521e+00, 2.8098e-01, 1.0304e+00,\n",
       "         9.6337e-01, 1.2469e+00, 9.7840e-01, 5.5243e-01],\n",
       "        [2.3898e+00, 7.3233e-01, 5.0897e-01, 4.3339e-01, 1.6125e+00, 9.0133e-01,\n",
       "         1.0567e+00, 1.9096e+00, 2.7019e-01, 1.5281e+00, 3.9744e-01, 1.4202e+00,\n",
       "         0.0000e+00, 6.1401e-01, 1.0375e+00, 2.5590e+00, 9.5870e-01, 1.0774e+00,\n",
       "         1.8778e+00, 2.3140e+00, 1.4230e+00, 1.2134e+00, 9.6760e-01, 1.7303e+00,\n",
       "         0.0000e+00, 0.0000e+00, 3.5038e-01, 0.0000e+00, 1.3810e+00, 1.7927e+00,\n",
       "         7.9664e-01, 2.3555e+00, 1.9398e-01, 6.5997e-01, 3.2691e-01, 1.5916e+00,\n",
       "         8.7807e-01, 1.3908e+00, 9.8451e-01, 0.0000e+00],\n",
       "        [2.3788e+00, 5.8713e-01, 7.4827e-01, 6.0510e-01, 1.5259e+00, 1.0062e+00,\n",
       "         1.0609e+00, 1.8553e+00, 5.1814e-01, 1.6611e+00, 4.0251e-01, 1.0341e+00,\n",
       "         0.0000e+00, 7.6354e-01, 1.0112e+00, 2.7071e+00, 1.4651e+00, 1.5730e+00,\n",
       "         1.8271e+00, 2.3585e+00, 2.3978e+00, 1.2505e+00, 1.0970e+00, 1.8051e+00,\n",
       "         4.2632e-02, 0.0000e+00, 7.0239e-01, 0.0000e+00, 1.5376e+00, 1.9018e+00,\n",
       "         1.2396e+00, 2.3641e+00, 0.0000e+00, 1.5058e+00, 3.1836e-01, 8.9203e-01,\n",
       "         8.3935e-01, 1.5128e+00, 1.5417e+00, 0.0000e+00],\n",
       "        [1.5080e+00, 3.5468e-01, 6.9772e-01, 1.8761e-01, 1.5797e+00, 3.3301e-01,\n",
       "         6.3446e-01, 1.4520e+00, 1.6090e-01, 1.1700e+00, 2.8193e-01, 1.4347e+00,\n",
       "         0.0000e+00, 5.0290e-01, 1.4720e+00, 2.1794e+00, 1.0420e+00, 6.8578e-01,\n",
       "         1.4566e+00, 1.5674e+00, 1.4374e+00, 6.0838e-01, 6.4895e-01, 1.6412e+00,\n",
       "         0.0000e+00, 0.0000e+00, 0.0000e+00, 0.0000e+00, 1.0750e+00, 9.5881e-01,\n",
       "         1.3075e+00, 2.1155e+00, 0.0000e+00, 1.0486e+00, 1.2846e-01, 9.0886e-01,\n",
       "         4.9189e-01, 1.1985e+00, 1.0024e+00, 1.7917e-01],\n",
       "        [1.0144e+00, 4.1427e-01, 1.1825e+00, 0.0000e+00, 1.7538e+00, 2.3993e-01,\n",
       "         1.1745e+00, 2.1472e+00, 7.4596e-01, 1.9619e+00, 7.8422e-01, 1.2631e+00,\n",
       "         2.6883e-01, 1.1674e+00, 1.8886e+00, 2.7023e+00, 1.1932e+00, 1.2620e+00,\n",
       "         1.2639e+00, 1.6647e+00, 2.7445e+00, 9.2846e-01, 1.6788e+00, 1.6356e+00,\n",
       "         6.0767e-01, 0.0000e+00, 2.8881e-01, 0.0000e+00, 7.0453e-01, 1.8847e+00,\n",
       "         8.3565e-01, 1.8006e+00, 0.0000e+00, 1.4624e+00, 1.3737e+00, 0.0000e+00,\n",
       "         1.1731e+00, 7.6019e-01, 1.2110e+00, 4.0767e-02]],\n",
       "       grad_fn=<ReluBackward0>)"
      ]
     },
     "execution_count": 5,
     "metadata": {},
     "output_type": "execute_result"
    }
   ],
   "source": [
    "# Use trained Autoencoder\n",
    "net.encode(torch.rand(10, 68))"
   ]
  }
 ],
 "metadata": {
  "interpreter": {
   "hash": "ba78132cbc4cb21d1adddebf0b46368c183af7c9ca0d563bbae5210b7ec22c6c"
  },
  "kernelspec": {
   "display_name": "Python 3.8.10 64-bit ('.venv': venv)",
   "language": "python",
   "name": "python3"
  },
  "language_info": {
   "codemirror_mode": {
    "name": "ipython",
    "version": 3
   },
   "file_extension": ".py",
   "mimetype": "text/x-python",
   "name": "python",
   "nbconvert_exporter": "python",
   "pygments_lexer": "ipython3",
   "version": "3.8.10"
  },
  "orig_nbformat": 4
 },
 "nbformat": 4,
 "nbformat_minor": 2
}
