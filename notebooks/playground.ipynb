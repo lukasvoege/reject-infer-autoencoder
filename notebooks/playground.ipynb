{
 "cells": [
  {
   "cell_type": "code",
   "execution_count": 1,
   "metadata": {},
   "outputs": [],
   "source": [
    "import sys\n",
    "sys.path.append('../src')\n",
    "\n",
    "import importlib\n",
    "import dyn_accept_loop as dal\n",
    "importlib.reload(dal)\n",
    "import reject_inference as rinf\n",
    "importlib.reload(rinf)\n",
    "import helper as h\n",
    "importlib.reload(h)\n",
    "\n",
    "import matplotlib.pyplot as plt\n",
    "\n",
    "import lightgbm as lgbm\n",
    "from sklearn.tree import DecisionTreeClassifier\n",
    "from sklearn.linear_model import LogisticRegression\n",
    "\n",
    "import lightgbm as lgbm\n",
    "\n",
    "import torch\n",
    "import torch.nn as nn\n",
    "\n",
    "\n",
    "import torch.distributions as dis"
   ]
  },
  {
   "cell_type": "code",
   "execution_count": 2,
   "metadata": {},
   "outputs": [],
   "source": [
    "test = torch.rand(10, 5)\n",
    "test2 = torch.rand(10, 5)"
   ]
  },
  {
   "cell_type": "code",
   "execution_count": 3,
   "metadata": {},
   "outputs": [],
   "source": [
    "MN_dist_good = dis.multivariate_normal.MultivariateNormal(torch.mean(test, dim=0), torch.cov(torch.transpose(test, 0, 1)))\n",
    "MN_dist_bad = dis.multivariate_normal.MultivariateNormal(torch.mean(test2, dim=0), torch.cov(torch.transpose(test2, 0, 1)))"
   ]
  },
  {
   "cell_type": "code",
   "execution_count": 4,
   "metadata": {},
   "outputs": [
    {
     "data": {
      "text/plain": [
       "tensor(0.1544)"
      ]
     },
     "execution_count": 4,
     "metadata": {},
     "output_type": "execute_result"
    }
   ],
   "source": [
    "criterion2 = nn.KLDivLoss(log_target=True, reduction=\"batchmean\")\n",
    "samp = MN_dist_good.sample((10,))\n",
    "criterion2(MN_dist_good.log_prob(samp), MN_dist_bad.log_prob(samp))"
   ]
  },
  {
   "cell_type": "code",
   "execution_count": 5,
   "metadata": {},
   "outputs": [
    {
     "ename": "SyntaxError",
     "evalue": "invalid syntax (Temp/ipykernel_10492/3509829829.py, line 1)",
     "output_type": "error",
     "traceback": [
      "\u001b[1;36m  File \u001b[1;32m\"C:\\Users\\HAASE~1.PAP\\AppData\\Local\\Temp/ipykernel_10492/3509829829.py\"\u001b[1;36m, line \u001b[1;32m1\u001b[0m\n\u001b[1;33m    MN_dist_good.arg_constraints = {'loc': }\u001b[0m\n\u001b[1;37m                                           ^\u001b[0m\n\u001b[1;31mSyntaxError\u001b[0m\u001b[1;31m:\u001b[0m invalid syntax\n"
     ]
    }
   ],
   "source": [
    "MN_dist_good.arg_constraints = {'loc': }"
   ]
  },
  {
   "cell_type": "code",
   "execution_count": 6,
   "metadata": {},
   "outputs": [
    {
     "data": {
      "text/plain": [
       "tensor([ 0.2850,  0.7382, -0.5217, -0.0966, -0.0070, -0.5531, -1.6853, -6.6117,\n",
       "         0.2243, -1.5264])"
      ]
     },
     "execution_count": 6,
     "metadata": {},
     "output_type": "execute_result"
    }
   ],
   "source": [
    "MN_dist_good.log_prob(MN_dist_good.sample((10,)))"
   ]
  },
  {
   "cell_type": "code",
   "execution_count": 7,
   "metadata": {},
   "outputs": [
    {
     "data": {
      "text/plain": [
       "tensor([[ 0.1025,  0.0151, -0.0152, -0.0444, -0.0353],\n",
       "        [ 0.0151,  0.0905, -0.0164,  0.0177,  0.0592],\n",
       "        [-0.0152, -0.0164,  0.1346,  0.0020, -0.0121],\n",
       "        [-0.0444,  0.0177,  0.0020,  0.1220,  0.0302],\n",
       "        [-0.0353,  0.0592, -0.0121,  0.0302,  0.1012]])"
      ]
     },
     "execution_count": 7,
     "metadata": {},
     "output_type": "execute_result"
    }
   ],
   "source": [
    "torch.cov(torch.transpose(test, 0, 1))"
   ]
  },
  {
   "cell_type": "markdown",
   "metadata": {},
   "source": [
    "## Test importable Dynamic Acceptance Loop"
   ]
  },
  {
   "cell_type": "code",
   "execution_count": 15,
   "metadata": {},
   "outputs": [
    {
     "name": "stdout",
     "output_type": "stream",
     "text": [
      "Itteration: 0) Accepted: 1822 | Denied: 4253 - New train set size: (16822, 68)\n",
      "Itteration: 1) Accepted: 1822 | Denied: 4253 - New train set size: (18644, 68)\n",
      "Itteration: 2) Accepted: 1822 | Denied: 4253 - New train set size: (20466, 68)\n",
      "Itteration: 3) Accepted: 1822 | Denied: 4253 - New train set size: (22288, 68)\n",
      "Itteration: 4) Accepted: 1822 | Denied: 4253 - New train set size: (24110, 68)\n",
      "Itteration: 5) Accepted: 1822 | Denied: 4253 - New train set size: (25932, 68)\n",
      "Itteration: 6) Accepted: 1822 | Denied: 4253 - New train set size: (27754, 68)\n",
      "Itteration: 7) Accepted: 1822 | Denied: 4253 - New train set size: (29576, 68)\n",
      "Itteration: 8) Accepted: 1822 | Denied: 4253 - New train set size: (31398, 68)\n",
      "Itteration: 9) Accepted: 1822 | Denied: 4253 - New train set size: (33220, 68)\n",
      "Itteration: 10) Accepted: 1822 | Denied: 4253 - New train set size: (35042, 68)\n",
      "Itteration: 11) Accepted: 1822 | Denied: 4253 - New train set size: (36864, 68)\n",
      "Itteration: 12) Accepted: 1822 | Denied: 4253 - New train set size: (38686, 68)\n",
      "Itteration: 13) Accepted: 1822 | Denied: 4253 - New train set size: (40508, 68)\n",
      "Itteration: 14) Accepted: 1821 | Denied: 4254 - New train set size: (42329, 68)\n",
      "Itteration: 15) Accepted: 1821 | Denied: 4254 - New train set size: (44150, 68)\n",
      "Itteration: 16) Accepted: 1822 | Denied: 4253 - New train set size: (45972, 68)\n",
      "Itteration: 17) Accepted: 1822 | Denied: 4253 - New train set size: (47794, 68)\n",
      "Itteration: 18) Accepted: 1822 | Denied: 4253 - New train set size: (49616, 68)\n",
      "Itteration: 19) Accepted: 1822 | Denied: 4253 - New train set size: (51438, 68)\n"
     ]
    },
    {
     "data": {
      "image/png": "[encoded data removed]",
      "text/plain": [
       "<Figure size 432x288 with 1 Axes>"
      ]
     },
     "metadata": {
      "needs_background": "light"
     },
     "output_type": "display_data"
    },
    {
     "name": "stdout",
     "output_type": "stream",
     "text": [
      "Sampling Bias: 0.03319\n"
     ]
    }
   ],
   "source": [
    "n_years = 20\n",
    "\n",
    "model = lgbm.LGBMClassifier() # DecisionTreeClassifier(min_samples_leaf=40) LogisticRegression(max_iter=400)\n",
    "\n",
    "sim = dal.Simulate_acceptance_loop(\"gmsc.csv\", model, 0.1, 0.1, n_years, enc_features=False, rej_inf=None)#rinf.EMsemisupervised)\n",
    "results_generator = sim.run()\n",
    "\n",
    "metrics = None\n",
    "for iteration in results_generator:\n",
    "    print(f'Itteration: {iteration[0]}) Accepted: {iteration[1].count(True)} | Denied: {iteration[1].count(False)} - New train set size: {iteration[2]}')\n",
    "    metrics = iteration[3]\n",
    "\n",
    "last_n_years = 5\n",
    "bias = h.measure_bias(metrics[\"oracle\"][\"holdout\"]['roc_auc'], metrics[\"model\"][\"holdout\"]['roc_auc'], last_n_years)\n",
    "    \n",
    "x = range(1, n_years + 1)\n",
    "plt.plot(x, metrics[\"model\"][\"holdout\"]['roc_auc'], label = 'roc_auc-model')\n",
    "plt.plot(x, metrics[\"oracle\"][\"holdout\"]['roc_auc'], label = 'roc_auc-oracle')\n",
    "#plt.plot(x, results[\"holdout\"]['precision'], label = 'precision')\n",
    "#plt.plot(x, results[\"holdout\"]['f1'], label = 'f1')\n",
    "#plt.plot(x, results[\"holdout\"]['accuracy'], label = 'accuracy')\n",
    "plt.text(0.75, 0.52, f'Avg. performance lost in last {last_n_years} iterations: {round(bias, 5)}')\n",
    "plt.legend()\n",
    "plt.ylim([0.5, 1.0])\n",
    "plt.show()\n",
    "\n",
    "\n",
    "print(f'Sampling Bias: {round(bias, 5)}')"
   ]
  },
  {
   "cell_type": "code",
   "execution_count": 9,
   "metadata": {},
   "outputs": [
    {
     "name": "stdout",
     "output_type": "stream",
     "text": [
      "0.03267919203026985\n"
     ]
    }
   ],
   "source": [
    "print(h.measure_bias(metrics[\"oracle\"][\"holdout\"]['roc_auc'], metrics[\"model\"][\"holdout\"]['roc_auc'], last_n_years))"
   ]
  },
  {
   "cell_type": "markdown",
   "metadata": {},
   "source": [
    "## Test importable Autoencoder"
   ]
  },
  {
   "cell_type": "code",
   "execution_count": 103,
   "metadata": {},
   "outputs": [
    {
     "data": {
      "text/plain": [
       "<module 'autoencoder' from 'c:\\\\Users\\\\haase.PAPMEIER\\\\InfSys\\\\reject-infer-autoencoder\\\\notebooks\\\\../src\\\\autoencoder.py'>"
      ]
     },
     "execution_count": 103,
     "metadata": {},
     "output_type": "execute_result"
    }
   ],
   "source": [
    "import autoencoder as aenc\n",
    "import importlib\n",
    "importlib.reload(aenc)"
   ]
  },
  {
   "cell_type": "code",
   "execution_count": 104,
   "metadata": {},
   "outputs": [
    {
     "name": "stdout",
     "output_type": "stream",
     "text": [
      "Autoencoder(\n",
      "  (enc): ModuleList(\n",
      "    (0): Linear(in_features=68, out_features=35, bias=True)\n",
      "    (1): Linear(in_features=35, out_features=20, bias=True)\n",
      "  )\n",
      "  (dec): ModuleList(\n",
      "    (0): Linear(in_features=20, out_features=35, bias=True)\n",
      "    (1): Linear(in_features=35, out_features=68, bias=True)\n",
      "  )\n",
      ")\n",
      "Epoch 1 of 40, Train Loss: 0.648\n",
      "Epoch 2 of 40, Train Loss: 0.539\n",
      "Epoch 3 of 40, Train Loss: 0.482\n",
      "Epoch 4 of 40, Train Loss: 0.454\n",
      "Epoch 5 of 40, Train Loss: 0.440\n",
      "Epoch 6 of 40, Train Loss: 0.431\n",
      "Epoch 7 of 40, Train Loss: 0.425\n",
      "Epoch 8 of 40, Train Loss: 0.422\n",
      "Epoch 9 of 40, Train Loss: 0.420\n",
      "Epoch 10 of 40, Train Loss: 0.418\n",
      "Epoch 11 of 40, Train Loss: 0.417\n",
      "Epoch 12 of 40, Train Loss: 0.416\n",
      "Epoch 13 of 40, Train Loss: 0.415\n",
      "Epoch 14 of 40, Train Loss: 0.414\n",
      "Epoch 15 of 40, Train Loss: 0.414\n",
      "Epoch 16 of 40, Train Loss: 0.413\n",
      "Epoch 17 of 40, Train Loss: 0.412\n",
      "Epoch 18 of 40, Train Loss: 0.412\n",
      "Epoch 19 of 40, Train Loss: 0.412\n",
      "Epoch 20 of 40, Train Loss: 0.411\n",
      "Epoch 21 of 40, Train Loss: 0.411\n",
      "Epoch 22 of 40, Train Loss: 0.410\n",
      "Epoch 23 of 40, Train Loss: 0.410\n",
      "Epoch 24 of 40, Train Loss: 0.409\n",
      "Epoch 25 of 40, Train Loss: 0.409\n",
      "Epoch 26 of 40, Train Loss: 0.408\n",
      "Epoch 27 of 40, Train Loss: 0.408\n",
      "Epoch 28 of 40, Train Loss: 0.408\n",
      "Epoch 29 of 40, Train Loss: 0.408\n",
      "Epoch 30 of 40, Train Loss: 0.407\n",
      "Epoch 31 of 40, Train Loss: 0.407\n",
      "Epoch 32 of 40, Train Loss: 0.407\n",
      "Epoch 33 of 40, Train Loss: 0.407\n",
      "Epoch 34 of 40, Train Loss: 0.407\n",
      "Epoch 35 of 40, Train Loss: 0.407\n",
      "Epoch 36 of 40, Train Loss: 0.407\n",
      "Epoch 37 of 40, Train Loss: 0.406\n",
      "Epoch 38 of 40, Train Loss: 0.406\n",
      "Epoch 39 of 40, Train Loss: 0.406\n",
      "Epoch 40 of 40, Train Loss: 0.406\n"
     ]
    },
    {
     "data": {
      "image/png": "[encoded data removed]",
      "text/plain": [
       "<Figure size 432x288 with 1 Axes>"
      ]
     },
     "metadata": {
      "needs_background": "light"
     },
     "output_type": "display_data"
    }
   ],
   "source": [
    "BATCH_SIZE = 300\n",
    "EPOCHS = 40\n",
    "\n",
    "dataset = aenc.CreditscoringDataset(\"gmsc.csv\")      # load and prepare Dataset to Tensor\n",
    "data_loader = aenc.DataLoader(                       # create Dataloader for batching\n",
    "    dataset, \n",
    "    batch_size=BATCH_SIZE,\n",
    "    shuffle=True\n",
    ")\n",
    "\n",
    "shape = [dataset.x.shape[1], 35, 20, 35, dataset.x.shape[1]]  # define shape of Autoencoder\n",
    "net = aenc.Autoencoder(shape)\n",
    "print(net)\n",
    "net.to(\"cpu\")\n",
    "\n",
    "train_loss = aenc.train(net, data_loader, EPOCHS)               \n",
    "\n",
    "plt.figure()\n",
    "plt.plot(train_loss)\n",
    "plt.title('Train Loss')\n",
    "plt.xlabel('Epochs')\n",
    "plt.ylabel('Loss')\n",
    "plt.show()"
   ]
  },
  {
   "cell_type": "code",
   "execution_count": 105,
   "metadata": {},
   "outputs": [
    {
     "name": "stdout",
     "output_type": "stream",
     "text": [
      "Itteration: 0) Accepted: 1822 | Denied: 4253 - New train set size: (16822, 20)\n",
      "Itteration: 1) Accepted: 1822 | Denied: 4253 - New train set size: (18644, 20)\n",
      "Itteration: 2) Accepted: 1822 | Denied: 4253 - New train set size: (20466, 20)\n",
      "Itteration: 3) Accepted: 1822 | Denied: 4253 - New train set size: (22288, 20)\n",
      "Itteration: 4) Accepted: 1822 | Denied: 4253 - New train set size: (24110, 20)\n",
      "Itteration: 5) Accepted: 1822 | Denied: 4253 - New train set size: (25932, 20)\n",
      "Itteration: 6) Accepted: 1822 | Denied: 4253 - New train set size: (27754, 20)\n",
      "Itteration: 7) Accepted: 1822 | Denied: 4253 - New train set size: (29576, 20)\n",
      "Itteration: 8) Accepted: 1822 | Denied: 4253 - New train set size: (31398, 20)\n",
      "Itteration: 9) Accepted: 1822 | Denied: 4253 - New train set size: (33220, 20)\n",
      "Itteration: 10) Accepted: 1822 | Denied: 4253 - New train set size: (35042, 20)\n",
      "Itteration: 11) Accepted: 1822 | Denied: 4253 - New train set size: (36864, 20)\n",
      "Itteration: 12) Accepted: 1821 | Denied: 4254 - New train set size: (38685, 20)\n",
      "Itteration: 13) Accepted: 1822 | Denied: 4253 - New train set size: (40507, 20)\n",
      "Itteration: 14) Accepted: 1822 | Denied: 4253 - New train set size: (42329, 20)\n",
      "Itteration: 15) Accepted: 1822 | Denied: 4253 - New train set size: (44151, 20)\n",
      "Itteration: 16) Accepted: 1822 | Denied: 4253 - New train set size: (45973, 20)\n",
      "Itteration: 17) Accepted: 1822 | Denied: 4253 - New train set size: (47795, 20)\n",
      "Itteration: 18) Accepted: 1822 | Denied: 4253 - New train set size: (49617, 20)\n",
      "Itteration: 19) Accepted: 1822 | Denied: 4253 - New train set size: (51439, 20)\n"
     ]
    },
    {
     "data": {
      "image/png": "[encoded data removed]",
      "text/plain": [
       "<Figure size 432x288 with 1 Axes>"
      ]
     },
     "metadata": {
      "needs_background": "light"
     },
     "output_type": "display_data"
    }
   ],
   "source": [
    "n_years = 20\n",
    "\n",
    "sim = dal.Simulate_acceptance_loop(\"gmsc.csv\", model, 0.1, 0.1, n_years, enc_features=True, encoder=net)#, rej_inf=rinf.EMsemisupervised)\n",
    "results_generator = sim.run()\n",
    "\n",
    "metrics2 = None\n",
    "for iteration in results_generator:\n",
    "    print(f'Itteration: {iteration[0]}) Accepted: {iteration[1].count(True)} | Denied: {iteration[1].count(False)} - New train set size: {iteration[2]}')\n",
    "    metrics2 = iteration[3]\n",
    "\n",
    "last_n_years = 5\n",
    "bias2 = h.measure_bias(metrics2[\"oracle\"][\"holdout\"]['roc_auc'], metrics2[\"model\"][\"holdout\"]['roc_auc'], last_n_years)\n",
    "    \n",
    "x = range(1, n_years + 1)\n",
    "plt.plot(x, metrics[\"model\"][\"holdout\"]['roc_auc'], label = 'roc_auc-model')\n",
    "plt.plot(x, metrics[\"oracle\"][\"holdout\"]['roc_auc'], label = 'roc_auc-oracle')\n",
    "plt.plot(x, metrics2[\"model\"][\"holdout\"]['roc_auc'], label = 'ENC(roc_auc-model)')\n",
    "plt.plot(x, metrics2[\"oracle\"][\"holdout\"]['roc_auc'], label = 'ENC(roc_auc-oracle)')\n",
    "plt.text(0.75, 0.97, f'Avg. performance lost in last {last_n_years} iterations: {round(bias, 5)}')\n",
    "plt.text(0.75, 0.94, f'With Autoencoder: {round(bias2, 5)}')\n",
    "plt.legend()\n",
    "plt.ylim([0.5, 1.0])\n",
    "plt.show()"
   ]
  }
 ],
 "metadata": {
  "interpreter": {
   "hash": "ba78132cbc4cb21d1adddebf0b46368c183af7c9ca0d563bbae5210b7ec22c6c"
  },
  "kernelspec": {
   "display_name": "Python 3.8.10 64-bit ('.venv': venv)",
   "language": "python",
   "name": "python3"
  },
  "language_info": {
   "codemirror_mode": {
    "name": "ipython",
    "version": 3
   },
   "file_extension": ".py",
   "mimetype": "text/x-python",
   "name": "python",
   "nbconvert_exporter": "python",
   "pygments_lexer": "ipython3",
   "version": "3.9.10"
  },
  "orig_nbformat": 4
 },
 "nbformat": 4,
 "nbformat_minor": 2
}
