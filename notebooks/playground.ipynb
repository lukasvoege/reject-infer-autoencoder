{
 "cells": [
  {
   "cell_type": "code",
   "execution_count": 24,
   "metadata": {},
   "outputs": [],
   "source": [
    "import sys\n",
    "sys.path.append('../src')\n",
    "\n",
    "import importlib\n",
    "import dyn_accept_loop as dal\n",
    "importlib.reload(dal)\n",
    "import reject_inference as rinf\n",
    "importlib.reload(rinf)\n",
    "import helper as h\n",
    "importlib.reload(h)\n",
    "\n",
    "import matplotlib.pyplot as plt\n",
    "\n",
    "import lightgbm as lgbm\n",
    "from sklearn.tree import DecisionTreeClassifier\n",
    "from sklearn.linear_model import LogisticRegression\n",
    "\n",
    "import lightgbm as lgbm\n",
    "\n",
    "import torch"
   ]
  },
  {
   "cell_type": "markdown",
   "metadata": {},
   "source": [
    "## Test importable Dynamic Acceptance Loop"
   ]
  },
  {
   "cell_type": "code",
   "execution_count": 27,
   "metadata": {},
   "outputs": [
    {
     "name": "stdout",
     "output_type": "stream",
     "text": [
      "Itteration: 0) Accepted: 1822 | Denied: 4253 - New train set size: (16822, 68)\n",
      "Itteration: 1) Accepted: 1822 | Denied: 4253 - New train set size: (18644, 68)\n",
      "Itteration: 2) Accepted: 1822 | Denied: 4253 - New train set size: (20466, 68)\n",
      "Itteration: 3) Accepted: 1822 | Denied: 4253 - New train set size: (22288, 68)\n",
      "Itteration: 4) Accepted: 1822 | Denied: 4253 - New train set size: (24110, 68)\n",
      "Itteration: 5) Accepted: 1822 | Denied: 4253 - New train set size: (25932, 68)\n",
      "Itteration: 6) Accepted: 1822 | Denied: 4253 - New train set size: (27754, 68)\n",
      "Itteration: 7) Accepted: 1822 | Denied: 4253 - New train set size: (29576, 68)\n",
      "Itteration: 8) Accepted: 1822 | Denied: 4253 - New train set size: (31398, 68)\n",
      "Itteration: 9) Accepted: 1822 | Denied: 4253 - New train set size: (33220, 68)\n",
      "Itteration: 10) Accepted: 1822 | Denied: 4253 - New train set size: (35042, 68)\n",
      "Itteration: 11) Accepted: 1822 | Denied: 4253 - New train set size: (36864, 68)\n",
      "Itteration: 12) Accepted: 1822 | Denied: 4253 - New train set size: (38686, 68)\n",
      "Itteration: 13) Accepted: 1822 | Denied: 4253 - New train set size: (40508, 68)\n",
      "Itteration: 14) Accepted: 1822 | Denied: 4253 - New train set size: (42330, 68)\n",
      "Itteration: 15) Accepted: 1822 | Denied: 4253 - New train set size: (44152, 68)\n",
      "Itteration: 16) Accepted: 1822 | Denied: 4253 - New train set size: (45974, 68)\n",
      "Itteration: 17) Accepted: 1822 | Denied: 4253 - New train set size: (47796, 68)\n",
      "Itteration: 18) Accepted: 1822 | Denied: 4253 - New train set size: (49618, 68)\n",
      "Itteration: 19) Accepted: 1822 | Denied: 4253 - New train set size: (51440, 68)\n"
     ]
    },
    {
     "data": {
      "image/png": "[encoded data removed]",
      "text/plain": [
       "<Figure size 432x288 with 1 Axes>"
      ]
     },
     "metadata": {
      "needs_background": "light"
     },
     "output_type": "display_data"
    },
    {
     "name": "stdout",
     "output_type": "stream",
     "text": [
      "Sampling Bias: 0.03102\n"
     ]
    }
   ],
   "source": [
    "n_years = 20\n",
    "\n",
    "model = lgbm.LGBMClassifier() # DecisionTreeClassifier(min_samples_leaf=40) LogisticRegression(max_iter=400)\n",
    "\n",
    "sim = dal.Simulate_acceptance_loop(\"gmsc.csv\", model, 0.1, 0.1, n_years, enc_features=False, rej_inf=None)#rinf.EMsemisupervised)\n",
    "results_generator = sim.run()\n",
    "\n",
    "metrics = None\n",
    "for iteration in results_generator:\n",
    "    print(f'Itteration: {iteration[0]}) Accepted: {iteration[1].count(True)} | Denied: {iteration[1].count(False)} - New train set size: {iteration[2]}')\n",
    "    metrics = iteration[3]\n",
    "\n",
    "last_n_years = 5\n",
    "bias = h.measure_bias(metrics[\"oracle\"][\"holdout\"]['roc_auc'], metrics[\"model\"][\"holdout\"]['roc_auc'], last_n_years)\n",
    "    \n",
    "x = range(1, n_years + 1)\n",
    "plt.plot(x, metrics[\"model\"][\"holdout\"]['roc_auc'], label = 'roc_auc-model')\n",
    "plt.plot(x, metrics[\"oracle\"][\"holdout\"]['roc_auc'], label = 'roc_auc-oracle')\n",
    "#plt.plot(x, results[\"holdout\"]['precision'], label = 'precision')\n",
    "#plt.plot(x, results[\"holdout\"]['f1'], label = 'f1')\n",
    "#plt.plot(x, results[\"holdout\"]['accuracy'], label = 'accuracy')\n",
    "plt.text(0.75, 0.52, f'Avg. performance lost in last {last_n_years} iterations: {round(bias, 5)}')\n",
    "plt.legend()\n",
    "plt.ylim([0.5, 1.0])\n",
    "plt.show()\n",
    "\n",
    "\n",
    "print(f'Sampling Bias: {round(bias, 5)}')"
   ]
  },
  {
   "cell_type": "code",
   "execution_count": 30,
   "metadata": {},
   "outputs": [
    {
     "name": "stdout",
     "output_type": "stream",
     "text": [
      "0.031017954491773424\n"
     ]
    }
   ],
   "source": [
    "print(h.measure_bias(metrics[\"oracle\"][\"holdout\"]['roc_auc'], metrics[\"model\"][\"holdout\"]['roc_auc'], last_n_years))"
   ]
  },
  {
   "cell_type": "markdown",
   "metadata": {},
   "source": [
    "## Test importable Autoencoder"
   ]
  },
  {
   "cell_type": "code",
   "execution_count": 42,
   "metadata": {},
   "outputs": [
    {
     "data": {
      "text/plain": [
       "<module 'autoencoder' from 'c:\\\\Projects\\\\Information-Systems-Seminar\\\\reject-infer-autoencoder\\\\notebooks\\\\../src\\\\autoencoder.py'>"
      ]
     },
     "execution_count": 42,
     "metadata": {},
     "output_type": "execute_result"
    }
   ],
   "source": [
    "import autoencoder as aenc\n",
    "import importlib\n",
    "importlib.reload(aenc)"
   ]
  },
  {
   "cell_type": "code",
   "execution_count": 43,
   "metadata": {},
   "outputs": [
    {
     "name": "stdout",
     "output_type": "stream",
     "text": [
      "Shape of Autoencoder training data: (10026, 69)\n",
      "Autoencoder(\n",
      "  (enc): ModuleList(\n",
      "    (0): Linear(in_features=68, out_features=35, bias=True)\n",
      "    (1): Linear(in_features=35, out_features=5, bias=True)\n",
      "  )\n",
      "  (dec): ModuleList(\n",
      "    (0): Linear(in_features=5, out_features=35, bias=True)\n",
      "    (1): Linear(in_features=35, out_features=68, bias=True)\n",
      "  )\n",
      ")\n",
      "Epoch 1 of 40, Train Loss: 0.961\n",
      "Epoch 2 of 40, Train Loss: 0.845\n",
      "Epoch 3 of 40, Train Loss: 0.771\n",
      "Epoch 4 of 40, Train Loss: 0.728\n",
      "Epoch 5 of 40, Train Loss: 0.704\n",
      "Epoch 6 of 40, Train Loss: 0.684\n",
      "Epoch 7 of 40, Train Loss: 0.666\n",
      "Epoch 8 of 40, Train Loss: 0.665\n",
      "Epoch 9 of 40, Train Loss: 0.648\n",
      "Epoch 10 of 40, Train Loss: 0.645\n",
      "Epoch 11 of 40, Train Loss: 0.635\n",
      "Epoch 12 of 40, Train Loss: 0.633\n",
      "Epoch 13 of 40, Train Loss: 0.627\n",
      "Epoch 14 of 40, Train Loss: 0.619\n",
      "Epoch 15 of 40, Train Loss: 0.617\n",
      "Epoch 16 of 40, Train Loss: 0.614\n",
      "Epoch 17 of 40, Train Loss: 0.608\n",
      "Epoch 18 of 40, Train Loss: 0.608\n",
      "Epoch 19 of 40, Train Loss: 0.606\n",
      "Epoch 20 of 40, Train Loss: 0.628\n",
      "Epoch 21 of 40, Train Loss: 0.605\n",
      "Epoch 22 of 40, Train Loss: 0.606\n",
      "Epoch 23 of 40, Train Loss: 0.600\n",
      "Epoch 24 of 40, Train Loss: 0.599\n",
      "Epoch 25 of 40, Train Loss: 0.598\n",
      "Epoch 26 of 40, Train Loss: 0.601\n",
      "Epoch 27 of 40, Train Loss: 0.598\n",
      "Epoch 28 of 40, Train Loss: 0.600\n",
      "Epoch 29 of 40, Train Loss: 0.598\n",
      "Epoch 30 of 40, Train Loss: 0.595\n",
      "Epoch 31 of 40, Train Loss: 0.598\n",
      "Epoch 32 of 40, Train Loss: 0.596\n",
      "Epoch 33 of 40, Train Loss: 0.595\n",
      "Epoch 34 of 40, Train Loss: 0.598\n",
      "Epoch 35 of 40, Train Loss: 0.595\n",
      "Epoch 36 of 40, Train Loss: 0.597\n",
      "Epoch 37 of 40, Train Loss: 0.593\n",
      "Epoch 38 of 40, Train Loss: 0.593\n",
      "Epoch 39 of 40, Train Loss: 0.592\n",
      "Epoch 40 of 40, Train Loss: 0.593\n"
     ]
    },
    {
     "data": {
      "image/png": "[encoded data removed]",
      "text/plain": [
       "<Figure size 432x288 with 1 Axes>"
      ]
     },
     "metadata": {
      "needs_background": "light"
     },
     "output_type": "display_data"
    }
   ],
   "source": [
    "BATCH_SIZE = 200\n",
    "EPOCHS = 40\n",
    "\n",
    "dataset = aenc.CreditscoringDataset(\"gmsc.csv\")      # load and prepare Dataset to Tensor\n",
    "data_loader = aenc.DataLoader(                       # create Dataloader for batching\n",
    "    dataset, \n",
    "    batch_size=BATCH_SIZE,\n",
    "    shuffle=True\n",
    ")\n",
    "\n",
    "shape = [dataset.x.shape[1], 35, 5, 35, dataset.x.shape[1]]  # define shape of Autoencoder\n",
    "net = aenc.Autoencoder(shape)\n",
    "print(net)\n",
    "net.to(\"cpu\")\n",
    "\n",
    "train_loss = aenc.train(net, data_loader, EPOCHS)               \n",
    "\n",
    "plt.figure()\n",
    "plt.plot(train_loss)\n",
    "plt.title('Train Loss')\n",
    "plt.xlabel('Epochs')\n",
    "plt.ylabel('Loss')\n",
    "plt.show()"
   ]
  },
  {
   "cell_type": "code",
   "execution_count": 44,
   "metadata": {},
   "outputs": [
    {
     "name": "stdout",
     "output_type": "stream",
     "text": [
      "Itteration: 0) Accepted: 1822 | Denied: 4253 - New train set size: (16822, 5)\n",
      "Itteration: 1) Accepted: 1822 | Denied: 4253 - New train set size: (18644, 5)\n",
      "Itteration: 2) Accepted: 1822 | Denied: 4253 - New train set size: (20466, 5)\n",
      "Itteration: 3) Accepted: 1822 | Denied: 4253 - New train set size: (22288, 5)\n",
      "Itteration: 4) Accepted: 1822 | Denied: 4253 - New train set size: (24110, 5)\n",
      "Itteration: 5) Accepted: 1822 | Denied: 4253 - New train set size: (25932, 5)\n",
      "Itteration: 6) Accepted: 1822 | Denied: 4253 - New train set size: (27754, 5)\n",
      "Itteration: 7) Accepted: 1822 | Denied: 4253 - New train set size: (29576, 5)\n",
      "Itteration: 8) Accepted: 1822 | Denied: 4253 - New train set size: (31398, 5)\n",
      "Itteration: 9) Accepted: 1822 | Denied: 4253 - New train set size: (33220, 5)\n",
      "Itteration: 10) Accepted: 1822 | Denied: 4253 - New train set size: (35042, 5)\n",
      "Itteration: 11) Accepted: 1822 | Denied: 4253 - New train set size: (36864, 5)\n",
      "Itteration: 12) Accepted: 1822 | Denied: 4253 - New train set size: (38686, 5)\n",
      "Itteration: 13) Accepted: 1821 | Denied: 4254 - New train set size: (40507, 5)\n",
      "Itteration: 14) Accepted: 1822 | Denied: 4253 - New train set size: (42329, 5)\n",
      "Itteration: 15) Accepted: 1822 | Denied: 4253 - New train set size: (44151, 5)\n",
      "Itteration: 16) Accepted: 1822 | Denied: 4253 - New train set size: (45973, 5)\n",
      "Itteration: 17) Accepted: 1822 | Denied: 4253 - New train set size: (47795, 5)\n",
      "Itteration: 18) Accepted: 1822 | Denied: 4253 - New train set size: (49617, 5)\n",
      "Itteration: 19) Accepted: 1822 | Denied: 4253 - New train set size: (51439, 5)\n"
     ]
    },
    {
     "data": {
      "image/png": "[encoded data removed]",
      "text/plain": [
       "<Figure size 432x288 with 1 Axes>"
      ]
     },
     "metadata": {
      "needs_background": "light"
     },
     "output_type": "display_data"
    }
   ],
   "source": [
    "n_years = 20\n",
    "\n",
    "sim = dal.Simulate_acceptance_loop(\"gmsc.csv\", model, 0.1, 0.1, n_years, enc_features=True, encoder=net)#, rej_inf=rinf.EMsemisupervised)\n",
    "results_generator = sim.run()\n",
    "\n",
    "metrics2 = None\n",
    "for iteration in results_generator:\n",
    "    print(f'Itteration: {iteration[0]}) Accepted: {iteration[1].count(True)} | Denied: {iteration[1].count(False)} - New train set size: {iteration[2]}')\n",
    "    metrics2 = iteration[3]\n",
    "\n",
    "last_n_years = 5\n",
    "bias2 = h.measure_bias(metrics2[\"oracle\"][\"holdout\"]['roc_auc'], metrics2[\"model\"][\"holdout\"]['roc_auc'], last_n_years)\n",
    "    \n",
    "x = range(1, n_years + 1)\n",
    "plt.plot(x, metrics[\"model\"][\"holdout\"]['roc_auc'], label = 'roc_auc-model')\n",
    "plt.plot(x, metrics[\"oracle\"][\"holdout\"]['roc_auc'], label = 'roc_auc-oracle')\n",
    "plt.plot(x, metrics2[\"model\"][\"holdout\"]['roc_auc'], label = 'ENC(roc_auc-model)')\n",
    "plt.plot(x, metrics2[\"oracle\"][\"holdout\"]['roc_auc'], label = 'ENC(roc_auc-oracle)')\n",
    "plt.text(0.75, 0.97, f'Avg. performance lost in last {last_n_years} iterations: {round(bias, 5)}')\n",
    "plt.text(0.75, 0.94, f'With Autoencoder: {round(bias2, 5)}')\n",
    "plt.legend()\n",
    "plt.ylim([0.5, 1.0])\n",
    "plt.show()"
   ]
  }
 ],
 "metadata": {
  "interpreter": {
   "hash": "ba78132cbc4cb21d1adddebf0b46368c183af7c9ca0d563bbae5210b7ec22c6c"
  },
  "kernelspec": {
   "display_name": "Python 3.8.10 64-bit ('.venv': venv)",
   "language": "python",
   "name": "python3"
  },
  "language_info": {
   "codemirror_mode": {
    "name": "ipython",
    "version": 3
   },
   "file_extension": ".py",
   "mimetype": "text/x-python",
   "name": "python",
   "nbconvert_exporter": "python",
   "pygments_lexer": "ipython3",
   "version": "3.8.10"
  },
  "orig_nbformat": 4
 },
 "nbformat": 4,
 "nbformat_minor": 2
}
