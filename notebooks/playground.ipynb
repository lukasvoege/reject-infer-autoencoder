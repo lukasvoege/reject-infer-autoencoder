{
 "cells": [
  {
   "cell_type": "code",
   "execution_count": 21,
   "metadata": {},
   "outputs": [],
   "source": [
    "import sys\n",
    "sys.path.append('../src')\n",
    "\n",
    "import importlib\n",
    "import dyn_accept_loop as dal\n",
    "import logreg_augmented as lra\n",
    "importlib.reload(dal)\n",
    "\n",
    "import matplotlib.pyplot as plt\n",
    "\n",
    "import lightgbm as lgbm\n",
    "from sklearn.tree import DecisionTreeClassifier\n",
    "\n",
    "import torch"
   ]
  },
  {
   "cell_type": "markdown",
   "metadata": {},
   "source": [
    "## Test importable Dynamic Acceptance Loop"
   ]
  },
  {
   "cell_type": "code",
   "execution_count": 23,
   "metadata": {},
   "outputs": [
    {
     "name": "stdout",
     "output_type": "stream",
     "text": [
      "Itteration: 0) Accepted: 1754 | Denied: 4321 - New train set size: (16754, 68)\n",
      "Itteration: 1) Accepted: 1819 | Denied: 4256 - New train set size: (18573, 68)\n",
      "Itteration: 2) Accepted: 1822 | Denied: 4253 - New train set size: (20395, 68)\n",
      "Itteration: 3) Accepted: 1776 | Denied: 4299 - New train set size: (22171, 68)\n",
      "Itteration: 4) Accepted: 1759 | Denied: 4316 - New train set size: (23930, 68)\n",
      "Itteration: 5) Accepted: 1777 | Denied: 4298 - New train set size: (25707, 68)\n",
      "Itteration: 6) Accepted: 1678 | Denied: 4397 - New train set size: (27385, 68)\n",
      "Itteration: 7) Accepted: 1814 | Denied: 4261 - New train set size: (29199, 68)\n",
      "Itteration: 8) Accepted: 1604 | Denied: 4471 - New train set size: (30803, 68)\n",
      "Itteration: 9) Accepted: 1818 | Denied: 4257 - New train set size: (32621, 68)\n",
      "Itteration: 10) Accepted: 1805 | Denied: 4270 - New train set size: (34426, 68)\n",
      "Itteration: 11) Accepted: 1754 | Denied: 4321 - New train set size: (36180, 68)\n",
      "Itteration: 12) Accepted: 1821 | Denied: 4254 - New train set size: (38001, 68)\n",
      "Itteration: 13) Accepted: 1685 | Denied: 4390 - New train set size: (39686, 68)\n",
      "Itteration: 14) Accepted: 1821 | Denied: 4254 - New train set size: (41507, 68)\n",
      "Itteration: 15) Accepted: 1822 | Denied: 4253 - New train set size: (43329, 68)\n",
      "Itteration: 16) Accepted: 1810 | Denied: 4265 - New train set size: (45139, 68)\n",
      "Itteration: 17) Accepted: 1822 | Denied: 4253 - New train set size: (46961, 68)\n",
      "Itteration: 18) Accepted: 1749 | Denied: 4326 - New train set size: (48710, 68)\n",
      "Itteration: 19) Accepted: 1785 | Denied: 4290 - New train set size: (50495, 68)\n"
     ]
    },
    {
     "data": {
      "image/png": "[encoded data removed]",
      "text/plain": [
       "<Figure size 432x288 with 1 Axes>"
      ]
     },
     "metadata": {
      "needs_background": "light"
     },
     "output_type": "display_data"
    }
   ],
   "source": [
    "n_years = 20\n",
    "\n",
    "sim = dal.Simulate_acceptance_loop(\"gmsc.csv\", lgbm.LGBMClassifier(), 0.1, 0.1, n_years)\n",
    "results_generator = sim.run()\n",
    "\n",
    "metrics = None\n",
    "for iteration in results_generator:\n",
    "    print(f'Itteration: {iteration[0]}) Accepted: {iteration[1].count(True)} | Denied: {iteration[1].count(False)} - New train set size: {iteration[2]}')\n",
    "    metrics = iteration[3]\n",
    "    \n",
    "x = range(1, n_years + 1)\n",
    "plt.plot(x, metrics[\"model\"][\"holdout\"]['roc_auc'], label = 'roc_auc-model')\n",
    "plt.plot(x, metrics[\"oracle\"][\"holdout\"]['roc_auc'], label = 'roc_auc-oracle')\n",
    "#plt.plot(x, results[\"holdout\"]['precision'], label = 'precision')\n",
    "#plt.plot(x, results[\"holdout\"]['f1'], label = 'f1')\n",
    "#plt.plot(x, results[\"holdout\"]['accuracy'], label = 'accuracy')\n",
    "plt.legend()\n",
    "plt.ylim([0.5, 1.0])\n",
    "plt.show()"
   ]
  },
  {
   "cell_type": "markdown",
   "metadata": {},
   "source": [
    "## Test importable Autoencoder"
   ]
  },
  {
   "cell_type": "code",
   "execution_count": 10,
   "metadata": {},
   "outputs": [
    {
     "data": {
      "text/plain": [
       "<module 'autoencoder' from 'c:\\\\Users\\\\haase.PAPMEIER\\\\InfSys\\\\reject-infer-autoencoder\\\\notebooks\\\\../src\\\\autoencoder.py'>"
      ]
     },
     "execution_count": 10,
     "metadata": {},
     "output_type": "execute_result"
    }
   ],
   "source": [
    "import autoencoder as aenc\n",
    "import importlib\n",
    "importlib.reload(aenc)"
   ]
  },
  {
   "cell_type": "code",
   "execution_count": 11,
   "metadata": {},
   "outputs": [
    {
     "name": "stdout",
     "output_type": "stream",
     "text": [
      "Autoencoder(\n",
      "  (enc): ModuleList(\n",
      "    (0): Linear(in_features=68, out_features=15, bias=True)\n",
      "    (1): Linear(in_features=15, out_features=3, bias=True)\n",
      "  )\n",
      "  (dec): ModuleList(\n",
      "    (0): Linear(in_features=3, out_features=30, bias=True)\n",
      "    (1): Linear(in_features=30, out_features=68, bias=True)\n",
      "  )\n",
      ")\n",
      "Epoch 1 of 50, Train Loss: 0.936\n",
      "Epoch 2 of 50, Train Loss: 0.827\n",
      "Epoch 3 of 50, Train Loss: 0.783\n",
      "Epoch 4 of 50, Train Loss: 0.758\n",
      "Epoch 5 of 50, Train Loss: 0.742\n",
      "Epoch 6 of 50, Train Loss: 0.732\n",
      "Epoch 7 of 50, Train Loss: 0.725\n",
      "Epoch 8 of 50, Train Loss: 0.719\n",
      "Epoch 9 of 50, Train Loss: 0.717\n",
      "Epoch 10 of 50, Train Loss: 0.715\n",
      "Epoch 11 of 50, Train Loss: 0.714\n",
      "Epoch 12 of 50, Train Loss: 0.713\n",
      "Epoch 13 of 50, Train Loss: 0.712\n",
      "Epoch 14 of 50, Train Loss: 0.711\n",
      "Epoch 15 of 50, Train Loss: 0.710\n",
      "Epoch 16 of 50, Train Loss: 0.710\n",
      "Epoch 17 of 50, Train Loss: 0.709\n",
      "Epoch 18 of 50, Train Loss: 0.708\n",
      "Epoch 19 of 50, Train Loss: 0.707\n",
      "Epoch 20 of 50, Train Loss: 0.707\n",
      "Epoch 21 of 50, Train Loss: 0.706\n",
      "Epoch 22 of 50, Train Loss: 0.706\n",
      "Epoch 23 of 50, Train Loss: 0.705\n",
      "Epoch 24 of 50, Train Loss: 0.705\n",
      "Epoch 25 of 50, Train Loss: 0.705\n",
      "Epoch 26 of 50, Train Loss: 0.704\n",
      "Epoch 27 of 50, Train Loss: 0.704\n",
      "Epoch 28 of 50, Train Loss: 0.704\n",
      "Epoch 29 of 50, Train Loss: 0.704\n",
      "Epoch 30 of 50, Train Loss: 0.704\n",
      "Epoch 31 of 50, Train Loss: 0.704\n",
      "Epoch 32 of 50, Train Loss: 0.703\n",
      "Epoch 33 of 50, Train Loss: 0.703\n",
      "Epoch 34 of 50, Train Loss: 0.703\n",
      "Epoch 35 of 50, Train Loss: 0.703\n",
      "Epoch 36 of 50, Train Loss: 0.703\n",
      "Epoch 37 of 50, Train Loss: 0.703\n",
      "Epoch 38 of 50, Train Loss: 0.703\n",
      "Epoch 39 of 50, Train Loss: 0.702\n",
      "Epoch 40 of 50, Train Loss: 0.702\n",
      "Epoch 41 of 50, Train Loss: 0.702\n",
      "Epoch 42 of 50, Train Loss: 0.702\n",
      "Epoch 43 of 50, Train Loss: 0.702\n",
      "Epoch 44 of 50, Train Loss: 0.702\n",
      "Epoch 45 of 50, Train Loss: 0.702\n",
      "Epoch 46 of 50, Train Loss: 0.702\n",
      "Epoch 47 of 50, Train Loss: 0.702\n",
      "Epoch 48 of 50, Train Loss: 0.702\n",
      "Epoch 49 of 50, Train Loss: 0.702\n",
      "Epoch 50 of 50, Train Loss: 0.702\n"
     ]
    },
    {
     "data": {
      "image/png": "[encoded data removed]",
      "text/plain": [
       "<Figure size 432x288 with 1 Axes>"
      ]
     },
     "metadata": {
      "needs_background": "light"
     },
     "output_type": "display_data"
    }
   ],
   "source": [
    "BATCH_SIZE = 1000\n",
    "EPOCHS = 50\n",
    "\n",
    "dataset = aenc.CreditscoringDataset(\"gmsc.csv\")      # load and prepare Dataset to Tensor\n",
    "data_loader = aenc.DataLoader(                       # create Dataloader for batching\n",
    "    dataset, \n",
    "    batch_size=BATCH_SIZE,\n",
    "    shuffle=True\n",
    ")\n",
    "\n",
    "shape = [dataset.x.shape[1], 15, 3, 30, dataset.x.shape[1]]  # define shape of Autoencoder\n",
    "net = aenc.Autoencoder(shape)\n",
    "print(net)\n",
    "net.to(\"cpu\")\n",
    "\n",
    "train_loss = aenc.train(net, data_loader, EPOCHS)               \n",
    "\n",
    "plt.figure()\n",
    "plt.plot(train_loss)\n",
    "plt.title('Train Loss')\n",
    "plt.xlabel('Epochs')\n",
    "plt.ylabel('Loss')\n",
    "plt.show()"
   ]
  },
  {
   "cell_type": "code",
   "execution_count": 12,
   "metadata": {},
   "outputs": [
    {
     "data": {
      "text/plain": [
       "tensor([[1.8711, 3.8018, 2.0466],\n",
       "        [4.0706, 7.7197, 6.6059],\n",
       "        [4.2349, 7.1699, 6.1570],\n",
       "        [3.9670, 6.4209, 5.9034],\n",
       "        [3.2974, 6.5173, 4.1802],\n",
       "        [2.9657, 5.0645, 3.9191],\n",
       "        [3.7741, 6.4693, 4.1531],\n",
       "        [4.3032, 8.3199, 6.6663],\n",
       "        [3.2013, 6.3836, 4.7138],\n",
       "        [4.2503, 7.5844, 6.1326]], grad_fn=<ReluBackward0>)"
      ]
     },
     "execution_count": 12,
     "metadata": {},
     "output_type": "execute_result"
    }
   ],
   "source": [
    "# Use trained Autoencoder\n",
    "net.encode(torch.rand(10, 68))"
   ]
  }
 ],
 "metadata": {
  "interpreter": {
   "hash": "ba78132cbc4cb21d1adddebf0b46368c183af7c9ca0d563bbae5210b7ec22c6c"
  },
  "kernelspec": {
   "display_name": "Python 3.8.10 64-bit ('.venv': venv)",
   "language": "python",
   "name": "python3"
  },
  "language_info": {
   "codemirror_mode": {
    "name": "ipython",
    "version": 3
   },
   "file_extension": ".py",
   "mimetype": "text/x-python",
   "name": "python",
   "nbconvert_exporter": "python",
   "pygments_lexer": "ipython3",
   "version": "3.9.9"
  },
  "orig_nbformat": 4
 },
 "nbformat": 4,
 "nbformat_minor": 2
}
