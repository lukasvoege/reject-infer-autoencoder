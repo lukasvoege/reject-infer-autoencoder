{
 "cells": [
  {
   "cell_type": "markdown",
   "metadata": {},
   "source": [
    "# Bias-Removing Autoencoder for Reject Inference\n",
    "### Group 1 - Seminar Information Systems (WiSe 2021/22)\n",
    "#### Klemens Lehmann (), Jan Papmeier (), Lukas Voege (615033)"
   ]
  },
  {
   "cell_type": "markdown",
   "metadata": {},
   "source": [
    "### Table of Contents\n",
    "\n",
    "1. Introduction\n",
    "1. Problem Setting\n",
    "    1. _Credit Scroring_\n",
    "    1. _Acceptance Loop and Sampling Bias_\n",
    "1. Current Methods in Reject Inference\n",
    "    1. _Basic Concepts of Reject Inference_\n",
    "    1. _List of reject inference Ideas/Methods_\n",
    "    1. _*TEST OF OTHER METHODS??*_\n",
    "1. Reject Inference with Autoencoders\n",
    "    1. _What is an Autoencoder_\n",
    "    1. _How could an Autoencoder help with sampling selection bias? - Loss Function_\n",
    "1. Testing and Results\n",
    "1. Conclusion"
   ]
  },
  {
   "cell_type": "markdown",
   "metadata": {},
   "source": [
    "## 1. Introduction"
   ]
  },
  {
   "cell_type": "markdown",
   "metadata": {},
   "source": [
    "## 2. Problem Setting\n",
    "#### 2.1 Credit Scoring\n"
   ]
  },
  {
   "cell_type": "markdown",
   "metadata": {},
   "source": [
    "#### 2.2 Acceptance Loop and Sampling Bias"
   ]
  },
  {
   "cell_type": "markdown",
   "metadata": {},
   "source": [
    "## 3. Current Methods in Reject Inference\n",
    "#### 3.1 Basic Concepts of Reject Inference"
   ]
  },
  {
   "cell_type": "markdown",
   "metadata": {},
   "source": [
    "#### 3.2 List of reject inference Ideas/Methods"
   ]
  },
  {
   "cell_type": "markdown",
   "metadata": {},
   "source": [
    "#### 3.3 TEST OF OTHER METHODS??"
   ]
  },
  {
   "cell_type": "markdown",
   "metadata": {},
   "source": [
    "## 4. Reject Inference with Autoencoders\n",
    "#### 4.1 What is an Autoencoder"
   ]
  },
  {
   "cell_type": "markdown",
   "metadata": {},
   "source": [
    "#### 4.2 How could an Autoencoder help with sampling selection bias? - Loss Function"
   ]
  },
  {
   "cell_type": "markdown",
   "metadata": {},
   "source": [
    "## 5. Testing and Results"
   ]
  },
  {
   "cell_type": "markdown",
   "metadata": {},
   "source": [
    "## 6. Conclusion"
   ]
  }
 ],
 "metadata": {
  "language_info": {
   "name": "python"
  },
  "orig_nbformat": 4
 },
 "nbformat": 4,
 "nbformat_minor": 2
}
