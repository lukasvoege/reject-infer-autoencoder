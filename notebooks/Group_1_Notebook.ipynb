{
 "cells": [
  {
   "cell_type": "markdown",
   "metadata": {},
   "source": [
    "# Bias-Removing Autoencoder for Reject Inference\n",
    "### Group 1 - Seminar Information Systems (WiSe 2021/22)\n",
    "#### Klemens Lehmann (), Jan Papmeier (), Lukas Voege (615033)"
   ]
  },
  {
   "cell_type": "markdown",
   "metadata": {},
   "source": [
    "### Table of Contents\n",
    "\n",
    "1. Introduction\n",
    "1. Problem Setting\n",
    "    1. _Credit Scroring_\n",
    "    1. _Acceptance Loop and Sampling Bias_\n",
    "1. Current Methods in Reject Inference\n",
    "    1. _Basic Concepts of Reject Inference_\n",
    "    1. _List of reject inference Ideas/Methods_\n",
    "    1. _*TEST OF OTHER METHODS??*_\n",
    "1. Reject Inference with Autoencoders\n",
    "    1. _What is an Autoencoder_\n",
    "    1. _How could an Autoencoder help with sampling selection bias? - Loss Function_\n",
    "1. Testing and Results\n",
    "1. Conclusion"
   ]
  },
  {
   "cell_type": "markdown",
   "metadata": {},
   "source": [
    "## 1. Introduction\n"
   ]
  },
  {
   "cell_type": "markdown",
   "metadata": {},
   "source": [
    "## 2. Problem Setting\n",
    "#### 2.1 Credit Scoring\n",
    "Credit scoring models evaluate the default risk (probability of not paying back) of any applicant applying for a loan. Several Methods have been developed since Durant first publication in 1941. For an overview see Lessmann et al. (2015). Credit Scoring models are trained on accepted cases only. This creates a sampling bias, since rejected cases are left out and therefore are not representive for the whole population of possible borrowers. Historically, Reject Inference methods have been used to tackle the problem. In Reject Inference we build a model for the accepted cases and extrapolate it for the rejected ones using several methods, which we will discuss in a seperate section. In this notebook we try to add a special type of neural network, namely an Autoencoder, to our Reject Inference methods to achieve a reduction of the sampling bias."
   ]
  },
  {
   "cell_type": "markdown",
   "metadata": {},
   "source": [
    "#### 2.2 Acceptance Loop and Sampling Bias"
   ]
  },
  {
   "cell_type": "markdown",
   "metadata": {},
   "source": [
    "## 3. Current Methods in Reject Inference\n",
    "#### 3.1 Basic Concepts of Reject Inference"
   ]
  },
  {
   "cell_type": "markdown",
   "metadata": {},
   "source": [
    "#### 3.2 List of reject inference Ideas/Methods"
   ]
  },
  {
   "cell_type": "markdown",
   "metadata": {},
   "source": [
    "#### 3.3 TEST OF OTHER METHODS??"
   ]
  },
  {
   "cell_type": "markdown",
   "metadata": {},
   "source": [
    "#### 3.4 Theoretical Background of Assumptions on Nature of Missing Data points"
   ]
  },
  {
   "cell_type": "markdown",
   "metadata": {},
   "source": [
    "## 4. Reject Inference with Autoencoders\n",
    "#### 4.1 What is an Autoencoder"
   ]
  },
  {
   "cell_type": "markdown",
   "metadata": {},
   "source": [
    "#### 4.2 How could an Autoencoder help with sampling selection bias? - Loss Function"
   ]
  },
  {
   "cell_type": "markdown",
   "metadata": {},
   "source": [
    "## 5. Testing and Results"
   ]
  },
  {
   "cell_type": "markdown",
   "metadata": {},
   "source": [
    "## 6. Conclusion"
   ]
  }
 ],
 "metadata": {
  "language_info": {
   "name": "python"
  },
  "orig_nbformat": 4
 },
 "nbformat": 4,
 "nbformat_minor": 2
}
